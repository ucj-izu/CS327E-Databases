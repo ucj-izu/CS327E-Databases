{
 "cells": [
  {
   "cell_type": "code",
   "execution_count": 1,
   "id": "ac97b192-220d-423c-9ee2-52649993e32c",
   "metadata": {},
   "outputs": [
    {
     "name": "stdout",
     "output_type": "stream",
     "text": [
      "env: INSTANCE=mysql\n"
     ]
    }
   ],
   "source": [
    "%env INSTANCE=mysql"
   ]
  },
  {
   "cell_type": "code",
   "execution_count": 2,
   "id": "fe3163cb-4669-44af-99de-ac036804d559",
   "metadata": {},
   "outputs": [
    {
     "name": "stdout",
     "output_type": "stream",
     "text": [
      "Copying gs://cs327e-open-access/sakila.zip...\n",
      "/ [1 files][786.4 KiB/786.4 KiB]                                                \n",
      "Operation completed over 1 objects/786.4 KiB.                                    \n"
     ]
    }
   ],
   "source": [
    "!gsutil cp gs://cs327e-open-access/sakila.zip ."
   ]
  },
  {
   "cell_type": "code",
   "execution_count": null,
   "id": "794ec4d0-0bfe-4f07-9e19-e9e99f27100b",
   "metadata": {},
   "outputs": [
    {
     "name": "stdout",
     "output_type": "stream",
     "text": [
      "Archive:  sakila.zip\n",
      "replace sakila/.DS_Store? [y]es, [n]o, [A]ll, [N]one, [r]ename: "
     ]
    }
   ],
   "source": [
    "!unzip sakila.zip"
   ]
  },
  {
   "cell_type": "code",
   "execution_count": null,
   "id": "934c8978-8d2c-4307-8e99-ccb83d90840e",
   "metadata": {},
   "outputs": [],
   "source": [
    "!mysql < /home/jupyter/sakila/sakila-database.sql"
   ]
  },
  {
   "cell_type": "code",
   "execution_count": 25,
   "id": "44be20bc-9f16-4501-92e4-6159ac6d22b7",
   "metadata": {},
   "outputs": [
    {
     "name": "stdout",
     "output_type": "stream",
     "text": [
      "Reading table information for completion of table and column names\n",
      "You can turn off this feature to get a quicker startup with -A\n",
      "\n",
      "\u001b[1mWelcome to the MariaDB monitor.  Commands end with ; or \\g.\n",
      "\u001b[m\u001b[1mYour MySQL connection id is 956\n",
      "Server version: 8.0.31-google (Google)\n",
      "\n",
      "\u001b[m\u001b[1mCopyright (c) 2000, 2018, Oracle, MariaDB Corporation Ab and others.\n",
      "\n",
      "\u001b[m\u001b[1mType 'help;' or '\\h' for help. Type '\\c' to clear the current input statement.\n",
      "\n",
      "\u001b[mMySQL [sakila]> Ctrl-C -- exit!\n",
      "\u001b[1mAborted\n",
      "\u001b[m"
     ]
    }
   ],
   "source": [
    "!mysql sakila"
   ]
  },
  {
   "cell_type": "code",
   "execution_count": 27,
   "id": "3664c18f-9be3-4b33-87d8-12413f378109",
   "metadata": {},
   "outputs": [],
   "source": [
    "!mysql < /home/jupyter/sakila/sakila-data.sql"
   ]
  },
  {
   "cell_type": "code",
   "execution_count": 35,
   "id": "318dc4e2-953d-48d0-b77d-c2b2654481d4",
   "metadata": {},
   "outputs": [
    {
     "name": "stdout",
     "output_type": "stream",
     "text": [
      "+----------+\n",
      "| count(*) |\n",
      "+----------+\n",
      "|      200 |\n",
      "+----------+\n"
     ]
    }
   ],
   "source": [
    "!mysql sakila -e \"select count(*) from actor\""
   ]
  },
  {
   "cell_type": "code",
   "execution_count": 36,
   "id": "a95d9dce-9f87-4faa-bf2b-ce5f612722cc",
   "metadata": {},
   "outputs": [
    {
     "name": "stdout",
     "output_type": "stream",
     "text": [
      "+----------+\n",
      "| count(*) |\n",
      "+----------+\n",
      "|      603 |\n",
      "+----------+\n"
     ]
    }
   ],
   "source": [
    "!mysql sakila -e \"select count(*) from address\""
   ]
  },
  {
   "cell_type": "code",
   "execution_count": 37,
   "id": "6ebf006b-227a-4988-a52b-fad2a307bbbe",
   "metadata": {},
   "outputs": [
    {
     "name": "stdout",
     "output_type": "stream",
     "text": [
      "+----------+\n",
      "| count(*) |\n",
      "+----------+\n",
      "|      600 |\n",
      "+----------+\n"
     ]
    }
   ],
   "source": [
    "!mysql sakila -e \"select count(*) from city\""
   ]
  },
  {
   "cell_type": "code",
   "execution_count": 38,
   "id": "f251e25f-424d-4bbc-a577-a0aef6e290bf",
   "metadata": {},
   "outputs": [
    {
     "name": "stdout",
     "output_type": "stream",
     "text": [
      "+----------+\n",
      "| count(*) |\n",
      "+----------+\n",
      "|      109 |\n",
      "+----------+\n"
     ]
    }
   ],
   "source": [
    "!mysql sakila -e \"select count(*) from country\""
   ]
  },
  {
   "cell_type": "code",
   "execution_count": 39,
   "id": "8c371e38-8384-4bd5-965b-3531d041fa7f",
   "metadata": {},
   "outputs": [
    {
     "name": "stdout",
     "output_type": "stream",
     "text": [
      "+----------+\n",
      "| count(*) |\n",
      "+----------+\n",
      "|      599 |\n",
      "+----------+\n"
     ]
    }
   ],
   "source": [
    "!mysql sakila -e \"select count(*) from customer\""
   ]
  },
  {
   "cell_type": "code",
   "execution_count": 40,
   "id": "266985b7-b350-4715-85b7-84dfc38842d6",
   "metadata": {},
   "outputs": [
    {
     "name": "stdout",
     "output_type": "stream",
     "text": [
      "+----------+------------+--------------+---------------------+\n",
      "| actor_id | first_name | last_name    | last_update         |\n",
      "+----------+------------+--------------+---------------------+\n",
      "|        1 | PENELOPE   | GUINESS      | 2006-02-15 04:34:33 |\n",
      "|        2 | NICK       | WAHLBERG     | 2006-02-15 04:34:33 |\n",
      "|        3 | ED         | CHASE        | 2006-02-15 04:34:33 |\n",
      "|        4 | JENNIFER   | DAVIS        | 2006-02-15 04:34:33 |\n",
      "|        5 | JOHNNY     | LOLLOBRIGIDA | 2006-02-15 04:34:33 |\n",
      "|        6 | BETTE      | NICHOLSON    | 2006-02-15 04:34:33 |\n",
      "|        7 | GRACE      | MOSTEL       | 2006-02-15 04:34:33 |\n",
      "|        8 | MATTHEW    | JOHANSSON    | 2006-02-15 04:34:33 |\n",
      "|        9 | JOE        | SWANK        | 2006-02-15 04:34:33 |\n",
      "|       10 | CHRISTIAN  | GABLE        | 2006-02-15 04:34:33 |\n",
      "+----------+------------+--------------+---------------------+\n"
     ]
    }
   ],
   "source": [
    "!mysql sakila -e \"select * from actor limit 10\""
   ]
  },
  {
   "cell_type": "code",
   "execution_count": 41,
   "id": "181ea026-20af-466d-8101-598da110306d",
   "metadata": {},
   "outputs": [
    {
     "name": "stdout",
     "output_type": "stream",
     "text": [
      "+------------+---------------------------------+----------+------------+---------+-------------+--------------+---------------------------+---------------------+\n",
      "| address_id | address                         | address2 | district   | city_id | postal_code | phone        | location                  | last_update         |\n",
      "+------------+---------------------------------+----------+------------+---------+-------------+--------------+---------------------------+---------------------+\n",
      "|          1 | 47 MySakila Drive               | NULL     | Alberta    |     300 |             |              |     \u0001\u0001   >\n",
      "2]c4\\�v\u001fۍ��H@     | 2014-09-25 22:30:27 |\n",
      "|          2 | 28 MySQL Boulevard              | NULL     | QLD        |     576 |             |              |     \u0001\u0001   �\u0010�߁$c@N��P\"�;�        | 2014-09-25 22:30:09 |\n",
      "|          3 | 23 Workhaven Lane               | NULL     | Alberta    |     300 |             | 14033335568  |     \u0001\u0001   ��\u0019hc4\\�\u001d",
      "�~p��H@       | 2014-09-25 22:30:27 |\n",
      "�4\u001f&c@B֮d\"�;�     | 2014-09-25 22:30:09 |      | NULL     | QLD        |     576 |             | 6172235589   |     \u0001\u0001   [\n",
      "|          5 | 1913 Hanoi Way                  |          | Nagasaki   |     463 | 35200       | 28303384290  |     \u0001\u0001   (�7\u000e!7`@����_�@@       | 2014-09-25 22:31:53 |\n",
      "A@       | 2014-09-25 22:34:01 |               |          | California |     449 | 17886       | 838635286649 |     \u0001\u0001   <�W��R]��`G-�\n",
      "|          7 | 692 Joliet Street               |          | Attika     |      38 | 83579       | 448477190408 |     \u0001\u0001   \u0007oY�Z�7@A\u0005Ѥ^�B@     | 2014-09-25 22:31:07 |\n",
      "|          8 | 1566 Inegl Manor                |          | Mandalay   |     349 | 53561       | 705814003527 |     \u0001\u0001   \u0006$\u0006&��W@<E�W�u5@     | 2014-09-25 22:32:18 |\n",
      "|          9 | 53 Idfu Parkway                 |          | Nantou     |     361 | 42399       | 10655648674  |     \u0001\u0001   \u001f�?�|*^@5z5@i�7@    | 2014-09-25 22:33:16 |\n",
      "|         10 | 1795 Santiago de Compostela Way |          | Texas      |     295 | 18743       | 860452626434 |     \u0001\u0001   PP/�{�X���y2��;@        | 2014-09-25 22:33:55 |\n",
      "+------------+---------------------------------+----------+------------+---------+-------------+--------------+---------------------------+---------------------+\n"
     ]
    }
   ],
   "source": [
    "!mysql sakila -e \"select * from address limit 10\""
   ]
  },
  {
   "cell_type": "code",
   "execution_count": 42,
   "id": "3c7d06e3-28de-41a4-87c9-372dfa0ce675",
   "metadata": {},
   "outputs": [
    {
     "name": "stdout",
     "output_type": "stream",
     "text": [
      "+---------+--------------------+------------+---------------------+\n",
      "| city_id | city               | country_id | last_update         |\n",
      "+---------+--------------------+------------+---------------------+\n",
      "|       1 | A Corua (La Corua) |         87 | 2006-02-15 04:45:25 |\n",
      "|       2 | Abha               |         82 | 2006-02-15 04:45:25 |\n",
      "|       3 | Abu Dhabi          |        101 | 2006-02-15 04:45:25 |\n",
      "|       4 | Acua               |         60 | 2006-02-15 04:45:25 |\n",
      "|       5 | Adana              |         97 | 2006-02-15 04:45:25 |\n",
      "|       6 | Addis Abeba        |         31 | 2006-02-15 04:45:25 |\n",
      "|       7 | Aden               |        107 | 2006-02-15 04:45:25 |\n",
      "|       8 | Adoni              |         44 | 2006-02-15 04:45:25 |\n",
      "|       9 | Ahmadnagar         |         44 | 2006-02-15 04:45:25 |\n",
      "|      10 | Akishima           |         50 | 2006-02-15 04:45:25 |\n",
      "+---------+--------------------+------------+---------------------+\n"
     ]
    }
   ],
   "source": [
    "!mysql sakila -e \"select * from city limit 10\""
   ]
  },
  {
   "cell_type": "code",
   "execution_count": 43,
   "id": "86a94177-16d7-4e82-bede-468ce66a238b",
   "metadata": {},
   "outputs": [
    {
     "name": "stdout",
     "output_type": "stream",
     "text": [
      "+------------+----------------+---------------------+\n",
      "| country_id | country        | last_update         |\n",
      "+------------+----------------+---------------------+\n",
      "|          1 | Afghanistan    | 2006-02-15 04:44:00 |\n",
      "|          2 | Algeria        | 2006-02-15 04:44:00 |\n",
      "|          3 | American Samoa | 2006-02-15 04:44:00 |\n",
      "|          4 | Angola         | 2006-02-15 04:44:00 |\n",
      "|          5 | Anguilla       | 2006-02-15 04:44:00 |\n",
      "|          6 | Argentina      | 2006-02-15 04:44:00 |\n",
      "|          7 | Armenia        | 2006-02-15 04:44:00 |\n",
      "|          8 | Australia      | 2006-02-15 04:44:00 |\n",
      "|          9 | Austria        | 2006-02-15 04:44:00 |\n",
      "|         10 | Azerbaijan     | 2006-02-15 04:44:00 |\n",
      "+------------+----------------+---------------------+\n"
     ]
    }
   ],
   "source": [
    "!mysql sakila -e \"select * from country limit 10\""
   ]
  },
  {
   "cell_type": "code",
   "execution_count": 44,
   "id": "07438208-5c16-4a68-afc0-7efdb5dce682",
   "metadata": {},
   "outputs": [
    {
     "name": "stdout",
     "output_type": "stream",
     "text": [
      "+-------------+----------+------------+-----------+-------------------------------------+------------+--------+---------------------+---------------------+\n",
      "| customer_id | store_id | first_name | last_name | email                               | address_id | active | create_date         | last_update         |\n",
      "+-------------+----------+------------+-----------+-------------------------------------+------------+--------+---------------------+---------------------+\n",
      "|           1 |        1 | MARY       | SMITH     | MARY.SMITH@sakilacustomer.org       |          5 |      1 | 2006-02-14 22:04:36 | 2006-02-15 04:57:20 |\n",
      "|           2 |        1 | PATRICIA   | JOHNSON   | PATRICIA.JOHNSON@sakilacustomer.org |          6 |      1 | 2006-02-14 22:04:36 | 2006-02-15 04:57:20 |\n",
      "|           3 |        1 | LINDA      | WILLIAMS  | LINDA.WILLIAMS@sakilacustomer.org   |          7 |      1 | 2006-02-14 22:04:36 | 2006-02-15 04:57:20 |\n",
      "|           4 |        2 | BARBARA    | JONES     | BARBARA.JONES@sakilacustomer.org    |          8 |      1 | 2006-02-14 22:04:36 | 2006-02-15 04:57:20 |\n",
      "|           5 |        1 | ELIZABETH  | BROWN     | ELIZABETH.BROWN@sakilacustomer.org  |          9 |      1 | 2006-02-14 22:04:36 | 2006-02-15 04:57:20 |\n",
      "|           6 |        2 | JENNIFER   | DAVIS     | JENNIFER.DAVIS@sakilacustomer.org   |         10 |      1 | 2006-02-14 22:04:36 | 2006-02-15 04:57:20 |\n",
      "|           7 |        1 | MARIA      | MILLER    | MARIA.MILLER@sakilacustomer.org     |         11 |      1 | 2006-02-14 22:04:36 | 2006-02-15 04:57:20 |\n",
      "|           8 |        2 | SUSAN      | WILSON    | SUSAN.WILSON@sakilacustomer.org     |         12 |      1 | 2006-02-14 22:04:36 | 2006-02-15 04:57:20 |\n",
      "|           9 |        2 | MARGARET   | MOORE     | MARGARET.MOORE@sakilacustomer.org   |         13 |      1 | 2006-02-14 22:04:36 | 2006-02-15 04:57:20 |\n",
      "|          10 |        1 | DOROTHY    | TAYLOR    | DOROTHY.TAYLOR@sakilacustomer.org   |         14 |      1 | 2006-02-14 22:04:36 | 2006-02-15 04:57:20 |\n",
      "+-------------+----------+------------+-----------+-------------------------------------+------------+--------+---------------------+---------------------+\n"
     ]
    }
   ],
   "source": [
    "!mysql sakila -e \"select * from customer limit 10\""
   ]
  },
  {
   "cell_type": "code",
   "execution_count": null,
   "id": "06fd24d9-90d9-4714-b660-474a871f6142",
   "metadata": {},
   "outputs": [],
   "source": [
    "#This query selects all the elements from customer where the store id is 1 and orders it by the first name of each customer"
   ]
  },
  {
   "cell_type": "code",
   "execution_count": 1,
   "id": "dc2f914b-5ff3-4e42-af3d-02d7002ff44e",
   "metadata": {},
   "outputs": [
    {
     "name": "stdout",
     "output_type": "stream",
     "text": [
      "+-------------+----------+-------------+-------------+-----------------------------------------+------------+--------+---------------------+---------------------+\n",
      "| customer_id | store_id | first_name  | last_name   | email                                   | address_id | active | create_date         | last_update         |\n",
      "+-------------+----------+-------------+-------------+-----------------------------------------+------------+--------+---------------------+---------------------+\n",
      "|         367 |        1 | ADAM        | GOOCH       | ADAM.GOOCH@sakilacustomer.org           |        372 |      1 | 2006-02-14 22:04:37 | 2006-02-15 04:57:20 |\n",
      "|         389 |        1 | ALAN        | KAHN        | ALAN.KAHN@sakilacustomer.org            |        394 |      1 | 2006-02-14 22:04:37 | 2006-02-15 04:57:20 |\n",
      "|         352 |        1 | ALBERT      | CROUSE      | ALBERT.CROUSE@sakilacustomer.org        |        357 |      1 | 2006-02-14 22:04:37 | 2006-02-15 04:57:20 |\n",
      "|          51 |        1 | ALICE       | STEWART     | ALICE.STEWART@sakilacustomer.org        |         55 |      1 | 2006-02-14 22:04:36 | 2006-02-15 04:57:20 |\n",
      "|         152 |        1 | ALICIA      | MILLS       | ALICIA.MILLS@sakilacustomer.org         |        156 |      1 | 2006-02-14 22:04:36 | 2006-02-15 04:57:20 |\n",
      "|         548 |        1 | ALLAN       | CORNISH     | ALLAN.CORNISH@sakilacustomer.org        |        554 |      1 | 2006-02-14 22:04:37 | 2006-02-15 04:57:20 |\n",
      "|         196 |        1 | ALMA        | AUSTIN      | ALMA.AUSTIN@sakilacustomer.org          |        200 |      1 | 2006-02-14 22:04:36 | 2006-02-15 04:57:20 |\n",
      "|         139 |        1 | AMBER       | DIXON       | AMBER.DIXON@sakilacustomer.org          |        143 |      1 | 2006-02-14 22:04:36 | 2006-02-15 04:57:20 |\n",
      "|          32 |        1 | AMY         | LOPEZ       | AMY.LOPEZ@sakilacustomer.org            |         36 |      1 | 2006-02-14 22:04:36 | 2006-02-15 04:57:20 |\n",
      "|         515 |        1 | ANDRE       | RAPP        | ANDRE.RAPP@sakilacustomer.org           |        521 |      1 | 2006-02-14 22:04:37 | 2006-02-15 04:57:20 |\n",
      "|          81 |        1 | ANDREA      | HENDERSON   | ANDREA.HENDERSON@sakilacustomer.org     |         85 |      1 | 2006-02-14 22:04:36 | 2006-02-15 04:57:20 |\n",
      "|         503 |        1 | ANGEL       | BARCLAY     | ANGEL.BARCLAY@sakilacustomer.org        |        508 |      1 | 2006-02-14 22:04:37 | 2006-02-15 04:57:20 |\n",
      "|          48 |        1 | ANN         | EVANS       | ANN.EVANS@sakilacustomer.org            |         52 |      1 | 2006-02-14 22:04:36 | 2006-02-15 04:57:20 |\n",
      "|         175 |        1 | ANNETTE     | OLSON       | ANNETTE.OLSON@sakilacustomer.org        |        179 |      1 | 2006-02-14 22:04:36 | 2006-02-15 04:57:20 |\n",
      "|         398 |        1 | ANTONIO     | MEEK        | ANTONIO.MEEK@sakilacustomer.org         |        403 |      1 | 2006-02-14 22:04:37 | 2006-02-15 04:57:20 |\n",
      "|         142 |        1 | APRIL       | BURNS       | APRIL.BURNS@sakilacustomer.org          |        146 |      1 | 2006-02-14 22:04:36 | 2006-02-15 04:57:20 |\n",
      "|         225 |        1 | ARLENE      | HARVEY      | ARLENE.HARVEY@sakilacustomer.org        |        229 |      1 | 2006-02-14 22:04:36 | 2006-02-15 04:57:20 |\n",
      "|         346 |        1 | ARTHUR      | SIMPKINS    | ARTHUR.SIMPKINS@sakilacustomer.org      |        351 |      1 | 2006-02-14 22:04:37 | 2006-02-15 04:57:20 |\n",
      "|          63 |        1 | ASHLEY      | RICHARDSON  | ASHLEY.RICHARDSON@sakilacustomer.org    |         67 |      1 | 2006-02-14 22:04:36 | 2006-02-15 04:57:20 |\n",
      "|         173 |        1 | AUDREY      | RAY         | AUDREY.RAY@sakilacustomer.org           |        177 |      1 | 2006-02-14 22:04:36 | 2006-02-15 04:57:20 |\n",
      "|         777 |        1 | BABA        | TUNDE       | BABA.TUNDE@sakilacustomer.org           |         14 |      1 | 2023-09-07 19:48:36 | 2023-02-15 04:57:20 |\n",
      "|         438 |        1 | BARRY       | LOVELACE    | BARRY.LOVELACE@sakilacustomer.org       |        443 |      1 | 2006-02-14 22:04:37 | 2006-02-15 04:57:20 |\n",
      "|         170 |        1 | BEATRICE    | ARNOLD      | BEATRICE.ARNOLD@sakilacustomer.org      |        174 |      1 | 2006-02-14 22:04:36 | 2006-02-15 04:57:20 |\n",
      "|         364 |        1 | BENJAMIN    | VARNEY      | BENJAMIN.VARNEY@sakilacustomer.org      |        369 |      1 | 2006-02-14 22:04:37 | 2006-02-15 04:57:20 |\n",
      "|         440 |        1 | BERNARD     | COLBY       | BERNARD.COLBY@sakilacustomer.org        |        445 |      1 | 2006-02-14 22:04:37 | 2006-02-15 04:57:20 |\n",
      "|         172 |        1 | BERNICE     | WILLIS      | BERNICE.WILLIS@sakilacustomer.org       |        176 |      1 | 2006-02-14 22:04:36 | 2006-02-15 04:57:20 |\n",
      "|         156 |        1 | BERTHA      | FERGUSON    | BERTHA.FERGUSON@sakilacustomer.org      |        160 |      1 | 2006-02-14 22:04:36 | 2006-02-15 04:57:20 |\n",
      "|         221 |        1 | BESSIE      | MORRISON    | BESSIE.MORRISON@sakilacustomer.org      |        225 |      1 | 2006-02-14 22:04:36 | 2006-02-15 04:57:20 |\n",
      "|         371 |        1 | BILLY       | POULIN      | BILLY.POULIN@sakilacustomer.org         |        376 |      1 | 2006-02-14 22:04:37 | 2006-02-15 04:57:20 |\n",
      "|         288 |        1 | BOBBIE      | CRAIG       | BOBBIE.CRAIG@sakilacustomer.org         |        293 |      1 | 2006-02-14 22:04:37 | 2006-02-15 04:57:20 |\n",
      "|         426 |        1 | BRADLEY     | MOTLEY      | BRADLEY.MOTLEY@sakilacustomer.org       |        431 |      1 | 2006-02-14 22:04:37 | 2006-02-15 04:57:20 |\n",
      "|         366 |        1 | BRANDON     | HUEY        | BRANDON.HUEY@sakilacustomer.org         |        371 |      1 | 2006-02-14 22:04:37 | 2006-02-15 04:57:20 |\n",
      "|         276 |        1 | BRANDY      | GRAVES      | BRANDY.GRAVES@sakilacustomer.org        |        281 |      1 | 2006-02-14 22:04:37 | 2006-02-15 04:57:20 |\n",
      "|         493 |        1 | BRENT       | HARKINS     | BRENT.HARKINS@sakilacustomer.org        |        498 |      1 | 2006-02-14 22:04:37 | 2006-02-15 04:57:20 |\n",
      "|         502 |        1 | BRETT       | CORNWELL    | BRETT.CORNWELL@sakilacustomer.org       |        507 |      1 | 2006-02-14 22:04:37 | 2006-02-15 04:57:20 |\n",
      "|         318 |        1 | BRIAN       | WYMAN       | BRIAN.WYMAN@sakilacustomer.org          |        323 |      1 | 2006-02-14 22:04:37 | 2006-02-15 04:57:20 |\n",
      "|         573 |        1 | BYRON       | BOX         | BYRON.BOX@sakilacustomer.org            |        579 |      1 | 2006-02-14 22:04:37 | 2006-02-15 04:57:20 |\n",
      "|         453 |        1 | CALVIN      | MARTEL      | CALVIN.MARTEL@sakilacustomer.org        |        458 |      1 | 2006-02-14 22:04:37 | 2006-02-15 04:57:20 |\n",
      "|         345 |        1 | CARL        | ARTIS       | CARL.ARTIS@sakilacustomer.org           |        350 |      1 | 2006-02-14 22:04:37 | 2006-02-15 04:57:20 |\n",
      "|         379 |        1 | CARLOS      | COUGHLIN    | CARLOS.COUGHLIN@sakilacustomer.org      |        384 |      1 | 2006-02-14 22:04:37 | 2006-02-15 04:57:20 |\n",
      "|         111 |        1 | CARMEN      | OWENS       | CARMEN.OWENS@sakilacustomer.org         |        115 |      1 | 2006-02-14 22:04:36 | 2006-02-15 04:57:20 |\n",
      "|         248 |        1 | CAROLINE    | BOWMAN      | CAROLINE.BOWMAN@sakilacustomer.org      |        252 |      1 | 2006-02-14 22:04:36 | 2006-02-15 04:57:20 |\n",
      "|         129 |        1 | CARRIE      | PORTER      | CARRIE.PORTER@sakilacustomer.org        |        133 |      1 | 2006-02-14 22:04:36 | 2006-02-15 04:57:20 |\n",
      "|         566 |        1 | CASEY       | MENA        | CASEY.MENA@sakilacustomer.org           |        572 |      1 | 2006-02-14 22:04:37 | 2006-02-15 04:57:20 |\n",
      "|         269 |        1 | CASSANDRA   | WALTERS     | CASSANDRA.WALTERS@sakilacustomer.org    |        274 |      1 | 2006-02-14 22:04:36 | 2006-02-15 04:57:20 |\n",
      "|         163 |        1 | CATHY       | SPENCER     | CATHY.SPENCER@sakilacustomer.org        |        167 |      1 | 2006-02-14 22:04:36 | 2006-02-15 04:57:20 |\n",
      "|         512 |        1 | CECIL       | VINES       | CECIL.VINES@sakilacustomer.org          |        517 |      1 | 2006-02-14 22:04:37 | 2006-02-15 04:57:20 |\n",
      "|         419 |        1 | CHAD        | CARBONE     | CHAD.CARBONE@sakilacustomer.org         |        424 |      1 | 2006-02-14 22:04:37 | 2006-02-15 04:57:20 |\n",
      "|         306 |        1 | CHARLES     | KOWALSKI    | CHARLES.KOWALSKI@sakilacustomer.org     |        311 |      1 | 2006-02-14 22:04:37 | 2006-02-15 04:57:20 |\n",
      "|         130 |        1 | CHARLOTTE   | HUNTER      | CHARLOTTE.HUNTER@sakilacustomer.org     |        134 |      1 | 2006-02-14 22:04:36 | 2006-02-15 04:57:20 |\n",
      "|          59 |        1 | CHERYL      | MURPHY      | CHERYL.MURPHY@sakilacustomer.org        |         63 |      1 | 2006-02-14 22:04:36 | 2006-02-15 04:57:20 |\n",
      "|         511 |        1 | CHESTER     | BENNER      | CHESTER.BENNER@sakilacustomer.org       |        516 |      1 | 2006-02-14 22:04:37 | 2006-02-15 04:57:20 |\n",
      "|         534 |        1 | CHRISTIAN   | JUNG        | CHRISTIAN.JUNG@sakilacustomer.org       |        540 |      0 | 2006-02-14 22:04:37 | 2006-02-15 04:57:20 |\n",
      "|         309 |        1 | CHRISTOPHER | GRECO       | CHRISTOPHER.GRECO@sakilacustomer.org    |        314 |      1 | 2006-02-14 22:04:37 | 2006-02-15 04:57:20 |\n",
      "|         260 |        1 | CHRISTY     | VARGAS      | CHRISTY.VARGAS@sakilacustomer.org       |        265 |      1 | 2006-02-14 22:04:36 | 2006-02-15 04:57:20 |\n",
      "|         144 |        1 | CLARA       | SHAW        | CLARA.SHAW@sakilacustomer.org           |        148 |      1 | 2006-02-14 22:04:36 | 2006-02-15 04:57:20 |\n",
      "|         391 |        1 | CLARENCE    | GAMEZ       | CLARENCE.GAMEZ@sakilacustomer.org       |        396 |      1 | 2006-02-14 22:04:37 | 2006-02-15 04:57:20 |\n",
      "|         528 |        1 | CLAUDE      | HERZOG      | CLAUDE.HERZOG@sakilacustomer.org        |        534 |      1 | 2006-02-14 22:04:37 | 2006-02-15 04:57:20 |\n",
      "|         234 |        1 | CLAUDIA     | FULLER      | CLAUDIA.FULLER@sakilacustomer.org       |        238 |      1 | 2006-02-14 22:04:36 | 2006-02-15 04:57:20 |\n",
      "|         447 |        1 | CLIFFORD    | BOWENS      | CLIFFORD.BOWENS@sakilacustomer.org      |        452 |      1 | 2006-02-14 22:04:37 | 2006-02-15 04:57:20 |\n",
      "|         485 |        1 | CLYDE       | TOBIAS      | CLYDE.TOBIAS@sakilacustomer.org         |        490 |      1 | 2006-02-14 22:04:37 | 2006-02-15 04:57:20 |\n",
      "|         227 |        1 | COLLEEN     | BURTON      | COLLEEN.BURTON@sakilacustomer.org       |        231 |      1 | 2006-02-14 22:04:36 | 2006-02-15 04:57:20 |\n",
      "|         106 |        1 | CONNIE      | WALLACE     | CONNIE.WALLACE@sakilacustomer.org       |        110 |      1 | 2006-02-14 22:04:36 | 2006-02-15 04:57:20 |\n",
      "|         480 |        1 | COREY       | HAUSER      | COREY.HAUSER@sakilacustomer.org         |        485 |      1 | 2006-02-14 22:04:37 | 2006-02-15 04:57:20 |\n",
      "|         527 |        1 | CORY        | MEEHAN      | CORY.MEEHAN@sakilacustomer.org          |        533 |      1 | 2006-02-14 22:04:37 | 2006-02-15 04:57:20 |\n",
      "|         245 |        1 | COURTNEY    | DAY         | COURTNEY.DAY@sakilacustomer.org         |        249 |      1 | 2006-02-14 22:04:36 | 2006-02-15 04:57:20 |\n",
      "|         102 |        1 | CRYSTAL     | FORD        | CRYSTAL.FORD@sakilacustomer.org         |        106 |      1 | 2006-02-14 22:04:36 | 2006-02-15 04:57:20 |\n",
      "|          28 |        1 | CYNTHIA     | YOUNG       | CYNTHIA.YOUNG@sakilacustomer.org        |         32 |      1 | 2006-02-14 22:04:36 | 2006-02-15 04:57:20 |\n",
      "|         295 |        1 | DAISY       | BATES       | DAISY.BATES@sakilacustomer.org          |        300 |      1 | 2006-02-14 22:04:37 | 2006-02-15 04:57:20 |\n",
      "|         407 |        1 | DALE        | RATCLIFF    | DALE.RATCLIFF@sakilacustomer.org        |        412 |      1 | 2006-02-14 22:04:37 | 2006-02-15 04:57:20 |\n",
      "|         477 |        1 | DAN         | PAINE       | DAN.PAINE@sakilacustomer.org            |        482 |      1 | 2006-02-14 22:04:37 | 2006-02-15 04:57:20 |\n",
      "|         179 |        1 | DANA        | HART        | DANA.HART@sakilacustomer.org            |        183 |      1 | 2006-02-14 22:04:36 | 2006-02-15 04:57:20 |\n",
      "|         399 |        1 | DANNY       | ISOM        | DANNY.ISOM@sakilacustomer.org           |        404 |      1 | 2006-02-14 22:04:37 | 2006-02-15 04:57:20 |\n",
      "|         105 |        1 | DAWN        | SULLIVAN    | DAWN.SULLIVAN@sakilacustomer.org        |        109 |      1 | 2006-02-14 22:04:36 | 2006-02-15 04:57:20 |\n",
      "|         471 |        1 | DEAN        | SAUER       | DEAN.SAUER@sakilacustomer.org           |        476 |      1 | 2006-02-14 22:04:37 | 2006-02-15 04:57:20 |\n",
      "|         261 |        1 | DEANNA      | BYRD        | DEANNA.BYRD@sakilacustomer.org          |        266 |      1 | 2006-02-14 22:04:36 | 2006-02-15 04:57:20 |\n",
      "|         141 |        1 | DEBBIE      | REYES       | DEBBIE.REYES@sakilacustomer.org         |        145 |      1 | 2006-02-14 22:04:36 | 2006-02-15 04:57:20 |\n",
      "|          25 |        1 | DEBORAH     | WALKER      | DEBORAH.WALKER@sakilacustomer.org       |         29 |      1 | 2006-02-14 22:04:36 | 2006-02-15 04:57:20 |\n",
      "|          39 |        1 | DEBRA       | NELSON      | DEBRA.NELSON@sakilacustomer.org         |         43 |      1 | 2006-02-14 22:04:36 | 2006-02-15 04:57:20 |\n",
      "|          74 |        1 | DENISE      | KELLY       | DENISE.KELLY@sakilacustomer.org         |         78 |      1 | 2006-02-14 22:04:36 | 2006-02-15 04:57:20 |\n",
      "|         338 |        1 | DENNIS      | GILMAN      | DENNIS.GILMAN@sakilacustomer.org        |        343 |      1 | 2006-02-14 22:04:37 | 2006-02-15 04:57:20 |\n",
      "|         461 |        1 | DEREK       | BLAKELY     | DEREK.BLAKELY@sakilacustomer.org        |        466 |      1 | 2006-02-14 22:04:37 | 2006-02-15 04:57:20 |\n",
      "|         476 |        1 | DERRICK     | BOURQUE     | DERRICK.BOURQUE@sakilacustomer.org      |        481 |      1 | 2006-02-14 22:04:37 | 2006-02-15 04:57:20 |\n",
      "|          96 |        1 | DIANA       | ALEXANDER   | DIANA.ALEXANDER@sakilacustomer.org      |        100 |      1 | 2006-02-14 22:04:36 | 2006-02-15 04:57:20 |\n",
      "|          50 |        1 | DIANE       | COLLINS     | DIANE.COLLINS@sakilacustomer.org        |         54 |      1 | 2006-02-14 22:04:36 | 2006-02-15 04:57:20 |\n",
      "|         433 |        1 | DON         | BONE        | DON.BONE@sakilacustomer.org             |        438 |      1 | 2006-02-14 22:04:37 | 2006-02-15 04:57:20 |\n",
      "|          17 |        1 | DONNA       | THOMPSON    | DONNA.THOMPSON@sakilacustomer.org       |         21 |      1 | 2006-02-14 22:04:36 | 2006-02-15 04:57:20 |\n",
      "|          10 |        1 | DOROTHY     | TAYLOR      | DOROTHY.TAYLOR@sakilacustomer.org       |         14 |      1 | 2006-02-14 22:04:36 | 2006-02-15 04:57:20 |\n",
      "|         343 |        1 | DOUGLAS     | GRAF        | DOUGLAS.GRAF@sakilacustomer.org         |        348 |      1 | 2006-02-14 22:04:37 | 2006-02-15 04:57:20 |\n",
      "|         554 |        1 | DWAYNE      | OLVERA      | DWAYNE.OLVERA@sakilacustomer.org        |        560 |      1 | 2006-02-14 22:04:37 | 2006-02-15 04:57:20 |\n",
      "|         555 |        1 | DWIGHT      | LOMBARDI    | DWIGHT.LOMBARDI@sakilacustomer.org      |        561 |      1 | 2006-02-14 22:04:37 | 2006-02-15 04:57:20 |\n",
      "|         396 |        1 | EARL        | SHANKS      | EARL.SHANKS@sakilacustomer.org          |        401 |      1 | 2006-02-14 22:04:37 | 2006-02-15 04:57:20 |\n",
      "|         434 |        1 | EDDIE       | TOMLIN      | EDDIE.TOMLIN@sakilacustomer.org         |        439 |      1 | 2006-02-14 22:04:37 | 2006-02-15 04:57:20 |\n",
      "|         117 |        1 | EDITH       | MCDONALD    | EDITH.MCDONALD@sakilacustomer.org       |        121 |      1 | 2006-02-14 22:04:36 | 2006-02-15 04:57:20 |\n",
      "|         594 |        1 | EDUARDO     | HIATT       | EDUARDO.HIATT@sakilacustomer.org        |        600 |      1 | 2006-02-14 22:04:37 | 2006-02-15 04:57:20 |\n",
      "|         432 |        1 | EDWIN       | BURK        | EDWIN.BURK@sakilacustomer.org           |        437 |      1 | 2006-02-14 22:04:37 | 2006-02-15 04:57:20 |\n",
      "|         148 |        1 | ELEANOR     | HUNT        | ELEANOR.HUNT@sakilacustomer.org         |        152 |      1 | 2006-02-14 22:04:36 | 2006-02-15 04:57:20 |\n",
      "|           5 |        1 | ELIZABETH   | BROWN       | ELIZABETH.BROWN@sakilacustomer.org      |          9 |      1 | 2006-02-14 22:04:36 | 2006-02-15 04:57:20 |\n",
      "|         126 |        1 | ELLEN       | SIMPSON     | ELLEN.SIMPSON@sakilacustomer.org        |        130 |      1 | 2006-02-14 22:04:36 | 2006-02-15 04:57:20 |\n",
      "|         134 |        1 | EMMA        | BOYD        | EMMA.BOYD@sakilacustomer.org            |        138 |      1 | 2006-02-14 22:04:36 | 2006-02-15 04:57:20 |\n",
      "|         596 |        1 | ENRIQUE     | FORSYTHE    | ENRIQUE.FORSYTHE@sakilacustomer.org     |        602 |      1 | 2006-02-14 22:04:37 | 2006-02-15 04:57:20 |\n",
      "|         331 |        1 | ERIC        | ROBERT      | ERIC.ROBERT@sakilacustomer.org          |        336 |      1 | 2006-02-14 22:04:37 | 2006-02-15 04:57:20 |\n",
      "|         298 |        1 | ERIKA       | PENA        | ERIKA.PENA@sakilacustomer.org           |        303 |      1 | 2006-02-14 22:04:37 | 2006-02-15 04:57:20 |\n",
      "|         125 |        1 | ETHEL       | WEBB        | ETHEL.WEBB@sakilacustomer.org           |        129 |      1 | 2006-02-14 22:04:36 | 2006-02-15 04:57:20 |\n",
      "|         378 |        1 | EUGENE      | CULPEPPER   | EUGENE.CULPEPPER@sakilacustomer.org     |        383 |      1 | 2006-02-14 22:04:37 | 2006-02-15 04:57:20 |\n",
      "|         140 |        1 | EVA         | RAMOS       | EVA.RAMOS@sakilacustomer.org            |        144 |      1 | 2006-02-14 22:04:36 | 2006-02-15 04:57:20 |\n",
      "|         283 |        1 | FELICIA     | SUTTON      | FELICIA.SUTTON@sakilacustomer.org       |        288 |      1 | 2006-02-14 22:04:37 | 2006-02-15 04:57:20 |\n",
      "|         557 |        1 | FELIX       | GAFFNEY     | FELIX.GAFFNEY@sakilacustomer.org        |        563 |      1 | 2006-02-14 22:04:37 | 2006-02-15 04:57:20 |\n",
      "|         107 |        1 | FLORENCE    | WOODS       | FLORENCE.WOODS@sakilacustomer.org       |        111 |      1 | 2006-02-14 22:04:36 | 2006-02-15 04:57:20 |\n",
      "|         465 |        1 | FLOYD       | GANDY       | FLOYD.GANDY@sakilacustomer.org          |        470 |      1 | 2006-02-14 22:04:37 | 2006-02-15 04:57:20 |\n",
      "|          47 |        1 | FRANCES     | PARKER      | FRANCES.PARKER@sakilacustomer.org       |         51 |      1 | 2006-02-14 22:04:36 | 2006-02-15 04:57:20 |\n",
      "|         597 |        1 | FREDDIE     | DUGGAN      | FREDDIE.DUGGAN@sakilacustomer.org       |        603 |      1 | 2006-02-14 22:04:37 | 2006-02-15 04:57:20 |\n",
      "|         518 |        1 | GABRIEL     | HARDER      | GABRIEL.HARDER@sakilacustomer.org       |        524 |      1 | 2006-02-14 22:04:37 | 2006-02-15 04:57:20 |\n",
      "|         155 |        1 | GAIL        | KNIGHT      | GAIL.KNIGHT@sakilacustomer.org          |        159 |      1 | 2006-02-14 22:04:36 | 2006-02-15 04:57:20 |\n",
      "|         498 |        1 | GENE        | SANBORN     | GENE.SANBORN@sakilacustomer.org         |        503 |      1 | 2006-02-14 22:04:37 | 2006-02-15 04:57:20 |\n",
      "|         314 |        1 | GEORGE      | LINTON      | GEORGE.LINTON@sakilacustomer.org        |        319 |      1 | 2006-02-14 22:04:37 | 2006-02-15 04:57:20 |\n",
      "|         231 |        1 | GEORGIA     | JACOBS      | GEORGIA.JACOBS@sakilacustomer.org       |        235 |      1 | 2006-02-14 22:04:36 | 2006-02-15 04:57:20 |\n",
      "|         161 |        1 | GERALDINE   | PERKINS     | GERALDINE.PERKINS@sakilacustomer.org    |        165 |      1 | 2006-02-14 22:04:36 | 2006-02-15 04:57:20 |\n",
      "|         207 |        1 | GERTRUDE    | CASTILLO    | GERTRUDE.CASTILLO@sakilacustomer.org    |        211 |      1 | 2006-02-14 22:04:36 | 2006-02-15 04:57:20 |\n",
      "|         213 |        1 | GINA        | WILLIAMSON  | GINA.WILLIAMSON@sakilacustomer.org      |        217 |      1 | 2006-02-14 22:04:36 | 2006-02-15 04:57:20 |\n",
      "|         103 |        1 | GLADYS      | HAMILTON    | GLADYS.HAMILTON@sakilacustomer.org      |        107 |      1 | 2006-02-14 22:04:36 | 2006-02-15 04:57:20 |\n",
      "|         486 |        1 | GLEN        | TALBERT     | GLEN.TALBERT@sakilacustomer.org         |        491 |      1 | 2006-02-14 22:04:37 | 2006-02-15 04:57:20 |\n",
      "|         242 |        1 | GLENDA      | FRAZIER     | GLENDA.FRAZIER@sakilacustomer.org       |        246 |      1 | 2006-02-14 22:04:36 | 2006-02-15 04:57:20 |\n",
      "|         415 |        1 | GLENN       | PULLEN      | GLENN.PULLEN@sakilacustomer.org         |        420 |      1 | 2006-02-14 22:04:37 | 2006-02-15 04:57:20 |\n",
      "|          56 |        1 | GLORIA      | COOK        | GLORIA.COOK@sakilacustomer.org          |         60 |      1 | 2006-02-14 22:04:36 | 2006-02-15 04:57:20 |\n",
      "|         470 |        1 | GORDON      | ALLARD      | GORDON.ALLARD@sakilacustomer.org        |        475 |      1 | 2006-02-14 22:04:37 | 2006-02-15 04:57:20 |\n",
      "|         472 |        1 | GREG        | ROBINS      | GREG.ROBINS@sakilacustomer.org          |        477 |      1 | 2006-02-14 22:04:37 | 2006-02-15 04:57:20 |\n",
      "|         335 |        1 | GREGORY     | MAULDIN     | GREGORY.MAULDIN@sakilacustomer.org      |        340 |      1 | 2006-02-14 22:04:37 | 2006-02-15 04:57:20 |\n",
      "|         264 |        1 | GWENDOLYN   | MAY         | GWENDOLYN.MAY@sakilacustomer.org        |        269 |      1 | 2006-02-14 22:04:36 | 2006-02-15 04:57:20 |\n",
      "|         342 |        1 | HAROLD      | MARTINO     | HAROLD.MARTINO@sakilacustomer.org       |        347 |      1 | 2006-02-14 22:04:37 | 2006-02-15 04:57:20 |\n",
      "|         368 |        1 | HARRY       | ARCE        | HARRY.ARCE@sakilacustomer.org           |        373 |      0 | 2006-02-14 22:04:37 | 2006-02-15 04:57:20 |\n",
      "|         523 |        1 | HARVEY      | GUAJARDO    | HARVEY.GUAJARDO@sakilacustomer.org      |        529 |      1 | 2006-02-14 22:04:37 | 2006-02-15 04:57:20 |\n",
      "|         138 |        1 | HAZEL       | WARREN      | HAZEL.WARREN@sakilacustomer.org         |        142 |      1 | 2006-02-14 22:04:36 | 2006-02-15 04:57:20 |\n",
      "|          53 |        1 | HEATHER     | MORRIS      | HEATHER.MORRIS@sakilacustomer.org       |         57 |      1 | 2006-02-14 22:04:36 | 2006-02-15 04:57:20 |\n",
      "|          15 |        1 | HELEN       | HARRIS      | HELEN.HARRIS@sakilacustomer.org         |         19 |      1 | 2006-02-14 22:04:36 | 2006-02-15 04:57:20 |\n",
      "|         344 |        1 | HENRY       | BILLINGSLEY | HENRY.BILLINGSLEY@sakilacustomer.org    |        349 |      1 | 2006-02-14 22:04:37 | 2006-02-15 04:57:20 |\n",
      "|         481 |        1 | HERMAN      | DEVORE      | HERMAN.DEVORE@sakilacustomer.org        |        486 |      1 | 2006-02-14 22:04:37 | 2006-02-15 04:57:20 |\n",
      "|         263 |        1 | HILDA       | HOPKINS     | HILDA.HOPKINS@sakilacustomer.org        |        268 |      1 | 2006-02-14 22:04:36 | 2006-02-15 04:57:20 |\n",
      "|         377 |        1 | HOWARD      | FORTNER     | HOWARD.FORTNER@sakilacustomer.org       |        382 |      1 | 2006-02-14 22:04:37 | 2006-02-15 04:57:20 |\n",
      "|         351 |        1 | JACK        | FOUST       | JACK.FOUST@sakilacustomer.org           |        356 |      1 | 2006-02-14 22:04:37 | 2006-02-15 04:57:20 |\n",
      "|         235 |        1 | JACKIE      | LYNCH       | JACKIE.LYNCH@sakilacustomer.org         |        239 |      1 | 2006-02-14 22:04:36 | 2006-02-15 04:57:20 |\n",
      "|         420 |        1 | JACOB       | LANCE       | JACOB.LANCE@sakilacustomer.org          |        425 |      1 | 2006-02-14 22:04:37 | 2006-02-15 04:57:20 |\n",
      "|         146 |        1 | JAMIE       | RICE        | JAMIE.RICE@sakilacustomer.org           |        150 |      1 | 2006-02-14 22:04:36 | 2006-02-15 04:57:20 |\n",
      "|          45 |        1 | JANET       | PHILLIPS    | JANET.PHILLIPS@sakilacustomer.org       |         49 |      1 | 2006-02-14 22:04:36 | 2006-02-15 04:57:20 |\n",
      "|         524 |        1 | JARED       | ELY         | JARED.ELY@sakilacustomer.org            |        530 |      1 | 2006-02-14 22:04:37 | 2006-02-15 04:57:20 |\n",
      "|         322 |        1 | JASON       | MORRISSEY   | JASON.MORRISSEY@sakilacustomer.org      |        327 |      1 | 2006-02-14 22:04:37 | 2006-02-15 04:57:20 |\n",
      "|         535 |        1 | JAVIER      | ELROD       | JAVIER.ELROD@sakilacustomer.org         |        541 |      1 | 2006-02-14 22:04:37 | 2006-02-15 04:57:20 |\n",
      "|         450 |        1 | JAY         | ROBB        | JAY.ROBB@sakilacustomer.org             |        455 |      1 | 2006-02-14 22:04:37 | 2006-02-15 04:57:20 |\n",
      "|          58 |        1 | JEAN        | BELL        | JEAN.BELL@sakilacustomer.org            |         62 |      1 | 2006-02-14 22:04:36 | 2006-02-15 04:57:20 |\n",
      "|         191 |        1 | JEANETTE    | GREENE      | JEANETTE.GREENE@sakilacustomer.org      |        195 |      1 | 2006-02-14 22:04:36 | 2006-02-15 04:57:20 |\n",
      "|         464 |        1 | JEROME      | KENYON      | JEROME.KENYON@sakilacustomer.org        |        469 |      1 | 2006-02-14 22:04:37 | 2006-02-15 04:57:20 |\n",
      "|         337 |        1 | JERRY       | JORDON      | JERRY.JORDON@sakilacustomer.org         |        342 |      1 | 2006-02-14 22:04:37 | 2006-02-15 04:57:20 |\n",
      "|         533 |        1 | JESSIE      | MILAM       | JESSIE.MILAM@sakilacustomer.org         |        539 |      1 | 2006-02-14 22:04:37 | 2006-02-15 04:57:20 |\n",
      "|         159 |        1 | JILL        | HAWKINS     | JILL.HAWKINS@sakilacustomer.org         |        163 |      1 | 2006-02-14 22:04:36 | 2006-02-15 04:57:20 |\n",
      "|         451 |        1 | JIM         | REA         | JIM.REA@sakilacustomer.org              |        456 |      1 | 2006-02-14 22:04:37 | 2006-02-15 04:57:20 |\n",
      "|         558 |        1 | JIMMIE      | EGGLESTON   | JIMMIE.EGGLESTON@sakilacustomer.org     |        564 |      0 | 2006-02-14 22:04:37 | 2006-02-15 04:57:20 |\n",
      "|         397 |        1 | JIMMY       | SCHRADER    | JIMMY.SCHRADER@sakilacustomer.org       |        402 |      1 | 2006-02-14 22:04:37 | 2006-02-15 04:57:20 |\n",
      "|          62 |        1 | JOAN        | COOPER      | JOAN.COOPER@sakilacustomer.org          |         66 |      1 | 2006-02-14 22:04:36 | 2006-02-15 04:57:20 |\n",
      "|         300 |        1 | JOHN        | FARNSWORTH  | JOHN.FARNSWORTH@sakilacustomer.org      |        305 |      1 | 2006-02-14 22:04:37 | 2006-02-15 04:57:20 |\n",
      "|         353 |        1 | JONATHAN    | SCARBOROUGH | JONATHAN.SCARBOROUGH@sakilacustomer.org |        358 |      1 | 2006-02-14 22:04:37 | 2006-02-15 04:57:20 |\n",
      "|         560 |        1 | JORDAN      | ARCHULETA   | JORDAN.ARCHULETA@sakilacustomer.org     |        566 |      1 | 2006-02-14 22:04:37 | 2006-02-15 04:57:20 |\n",
      "|         326 |        1 | JOSE        | ANDREW      | JOSE.ANDREW@sakilacustomer.org          |        331 |      1 | 2006-02-14 22:04:37 | 2006-02-15 04:57:20 |\n",
      "|         121 |        1 | JOSEPHINE   | GOMEZ       | JOSEPHINE.GOMEZ@sakilacustomer.org      |        125 |      1 | 2006-02-14 22:04:36 | 2006-02-15 04:57:20 |\n",
      "|         336 |        1 | JOSHUA      | MARK        | JOSHUA.MARK@sakilacustomer.org          |        341 |      1 | 2006-02-14 22:04:37 | 2006-02-15 04:57:20 |\n",
      "|         350 |        1 | JUAN        | FRALEY      | JUAN.FRALEY@sakilacustomer.org          |        355 |      1 | 2006-02-14 22:04:37 | 2006-02-15 04:57:20 |\n",
      "|          89 |        1 | JULIA       | FLORES      | JULIA.FLORES@sakilacustomer.org         |         93 |      1 | 2006-02-14 22:04:36 | 2006-02-15 04:57:20 |\n",
      "|          52 |        1 | JULIE       | SANCHEZ     | JULIE.SANCHEZ@sakilacustomer.org        |         56 |      1 | 2006-02-14 22:04:36 | 2006-02-15 04:57:20 |\n",
      "|         176 |        1 | JUNE        | CARROLL     | JUNE.CARROLL@sakilacustomer.org         |        180 |      1 | 2006-02-14 22:04:36 | 2006-02-15 04:57:20 |\n",
      "|          82 |        1 | KATHRYN     | COLEMAN     | KATHRYN.COLEMAN@sakilacustomer.org      |         86 |      1 | 2006-02-14 22:04:36 | 2006-02-15 04:57:20 |\n",
      "|          71 |        1 | KATHY       | JAMES       | KATHY.JAMES@sakilacustomer.org          |         75 |      1 | 2006-02-14 22:04:36 | 2006-02-15 04:57:20 |\n",
      "|         272 |        1 | KAY         | CALDWELL    | KAY.CALDWELL@sakilacustomer.org         |        277 |      1 | 2006-02-14 22:04:37 | 2006-02-15 04:57:20 |\n",
      "|         357 |        1 | KEITH       | RICO        | KEITH.RICO@sakilacustomer.org           |        362 |      1 | 2006-02-14 22:04:37 | 2006-02-15 04:57:20 |\n",
      "|         546 |        1 | KELLY       | KNOTT       | KELLY.KNOTT@sakilacustomer.org          |        552 |      1 | 2006-02-14 22:04:37 | 2006-02-15 04:57:20 |\n",
      "|          67 |        1 | KELLY       | TORRES      | KELLY.TORRES@sakilacustomer.org         |         71 |      1 | 2006-02-14 22:04:36 | 2006-02-15 04:57:20 |\n",
      "|         591 |        1 | KENT        | ARSENAULT   | KENT.ARSENAULT@sakilacustomer.org       |        597 |      1 | 2006-02-14 22:04:37 | 2006-02-15 04:57:20 |\n",
      "|         321 |        1 | KEVIN       | SCHULER     | KEVIN.SCHULER@sakilacustomer.org        |        326 |      1 | 2006-02-14 22:04:37 | 2006-02-15 04:57:20 |\n",
      "|         118 |        1 | KIM         | CRUZ        | KIM.CRUZ@sakilacustomer.org             |        122 |      1 | 2006-02-14 22:04:36 | 2006-02-15 04:57:20 |\n",
      "|         586 |        1 | KIRK        | STCLAIR     | KIRK.STCLAIR@sakilacustomer.org         |        592 |      1 | 2006-02-14 22:04:37 | 2006-02-15 04:57:20 |\n",
      "|         214 |        1 | KRISTIN     | JOHNSTON    | KRISTIN.JOHNSTON@sakilacustomer.org     |        218 |      1 | 2006-02-14 22:04:36 | 2006-02-15 04:57:20 |\n",
      "|         290 |        1 | KRISTINA    | CHAMBERS    | KRISTINA.CHAMBERS@sakilacustomer.org    |        295 |      1 | 2006-02-14 22:04:37 | 2006-02-15 04:57:20 |\n",
      "|         547 |        1 | KURT        | EMMONS      | KURT.EMMONS@sakilacustomer.org          |        553 |      1 | 2006-02-14 22:04:37 | 2006-02-15 04:57:20 |\n",
      "|         543 |        1 | LANCE       | PEMBERTON   | LANCE.PEMBERTON@sakilacustomer.org      |        549 |      1 | 2006-02-14 22:04:37 | 2006-02-15 04:57:20 |\n",
      "|          22 |        1 | LAURA       | RODRIGUEZ   | LAURA.RODRIGUEZ@sakilacustomer.org      |         26 |      1 | 2006-02-14 22:04:36 | 2006-02-15 04:57:20 |\n",
      "|         192 |        1 | LAURIE      | LAWRENCE    | LAURIE.LAWRENCE@sakilacustomer.org      |        196 |      1 | 2006-02-14 22:04:36 | 2006-02-15 04:57:20 |\n",
      "|         270 |        1 | LEAH        | CURTIS      | LEAH.CURTIS@sakilacustomer.org          |        275 |      1 | 2006-02-14 22:04:36 | 2006-02-15 04:57:20 |\n",
      "|         421 |        1 | LEE         | HAWKS       | LEE.HAWKS@sakilacustomer.org            |        426 |      1 | 2006-02-14 22:04:37 | 2006-02-15 04:57:20 |\n",
      "|         466 |        1 | LEO         | EBERT       | LEO.EBERT@sakilacustomer.org            |        471 |      1 | 2006-02-14 22:04:37 | 2006-02-15 04:57:20 |\n",
      "|         460 |        1 | LEON        | BOSTIC      | LEON.BOSTIC@sakilacustomer.org          |        465 |      1 | 2006-02-14 22:04:37 | 2006-02-15 04:57:20 |\n",
      "|         405 |        1 | LEONARD     | SCHOFIELD   | LEONARD.SCHOFIELD@sakilacustomer.org    |        410 |      1 | 2006-02-14 22:04:37 | 2006-02-15 04:57:20 |\n",
      "|         442 |        1 | LEROY       | BUSTAMANTE  | LEROY.BUSTAMANTE@sakilacustomer.org     |        447 |      1 | 2006-02-14 22:04:37 | 2006-02-15 04:57:20 |\n",
      "|         143 |        1 | LESLIE      | GORDON      | LESLIE.GORDON@sakilacustomer.org        |        147 |      1 | 2006-02-14 22:04:36 | 2006-02-15 04:57:20 |\n",
      "|         478 |        1 | LEWIS       | LYMAN       | LEWIS.LYMAN@sakilacustomer.org          |        483 |      1 | 2006-02-14 22:04:37 | 2006-02-15 04:57:20 |\n",
      "|          98 |        1 | LILLIAN     | GRIFFIN     | LILLIAN.GRIFFIN@sakilacustomer.org      |        102 |      1 | 2006-02-14 22:04:36 | 2006-02-15 04:57:20 |\n",
      "|           3 |        1 | LINDA       | WILLIAMS    | LINDA.WILLIAMS@sakilacustomer.org       |          7 |      1 | 2006-02-14 22:04:36 | 2006-02-15 04:57:20 |\n",
      "|         458 |        1 | LLOYD       | DOWD        | LLOYD.DOWD@sakilacustomer.org           |        463 |      1 | 2006-02-14 22:04:37 | 2006-02-15 04:57:20 |\n",
      "|         189 |        1 | LORETTA     | CARPENTER   | LORETTA.CARPENTER@sakilacustomer.org    |        193 |      1 | 2006-02-14 22:04:36 | 2006-02-15 04:57:20 |\n",
      "|          78 |        1 | LORI        | WOOD        | LORI.WOOD@sakilacustomer.org            |         82 |      1 | 2006-02-14 22:04:36 | 2006-02-15 04:57:20 |\n",
      "|         373 |        1 | LOUIS       | LEONE       | LOUIS.LEONE@sakilacustomer.org          |        378 |      1 | 2006-02-14 22:04:37 | 2006-02-15 04:57:20 |\n",
      "|          83 |        1 | LOUISE      | JENKINS     | LOUISE.JENKINS@sakilacustomer.org       |         87 |      1 | 2006-02-14 22:04:36 | 2006-02-15 04:57:20 |\n",
      "|         145 |        1 | LUCILLE     | HOLMES      | LUCILLE.HOLMES@sakilacustomer.org       |        149 |      1 | 2006-02-14 22:04:36 | 2006-02-15 04:57:20 |\n",
      "|         208 |        1 | LUCY        | WHEELER     | LUCY.WHEELER@sakilacustomer.org         |        212 |      1 | 2006-02-14 22:04:36 | 2006-02-15 04:57:20 |\n",
      "|         402 |        1 | LUIS        | YANEZ       | LUIS.YANEZ@sakilacustomer.org           |        407 |      1 | 2006-02-14 22:04:37 | 2006-02-15 04:57:20 |\n",
      "|         243 |        1 | LYDIA       | BURKE       | LYDIA.BURKE@sakilacustomer.org          |        247 |      1 | 2006-02-14 22:04:36 | 2006-02-15 04:57:20 |\n",
      "|         166 |        1 | LYNN        | PAYNE       | LYNN.PAYNE@sakilacustomer.org           |        170 |      1 | 2006-02-14 22:04:36 | 2006-02-15 04:57:20 |\n",
      "|         408 |        1 | MANUEL      | MURRELL     | MANUEL.MURRELL@sakilacustomer.org       |        413 |      1 | 2006-02-14 22:04:37 | 2006-02-15 04:57:20 |\n",
      "|         236 |        1 | MARCIA      | DEAN        | MARCIA.DEAN@sakilacustomer.org          |        240 |      1 | 2006-02-14 22:04:36 | 2006-02-15 04:57:20 |\n",
      "|         267 |        1 | MARGIE      | WADE        | MARGIE.WADE@sakilacustomer.org          |        272 |      1 | 2006-02-14 22:04:36 | 2006-02-15 04:57:20 |\n",
      "|           7 |        1 | MARIA       | MILLER      | MARIA.MILLER@sakilacustomer.org         |         11 |      1 | 2006-02-14 22:04:36 | 2006-02-15 04:57:20 |\n",
      "|         246 |        1 | MARIAN      | MENDOZA     | MARIAN.MENDOZA@sakilacustomer.org       |        250 |      1 | 2006-02-14 22:04:36 | 2006-02-15 04:57:20 |\n",
      "|          44 |        1 | MARIE       | TURNER      | MARIE.TURNER@sakilacustomer.org         |         48 |      1 | 2006-02-14 22:04:36 | 2006-02-15 04:57:20 |\n",
      "|          80 |        1 | MARILYN     | ROSS        | MARILYN.ROSS@sakilacustomer.org         |         84 |      1 | 2006-02-14 22:04:36 | 2006-02-15 04:57:20 |\n",
      "|         441 |        1 | MARIO       | CHEATHAM    | MARIO.CHEATHAM@sakilacustomer.org       |        446 |      1 | 2006-02-14 22:04:37 | 2006-02-15 04:57:20 |\n",
      "|         588 |        1 | MARION      | OCAMPO      | MARION.OCAMPO@sakilacustomer.org        |        594 |      1 | 2006-02-14 22:04:37 | 2006-02-15 04:57:20 |\n",
      "|         128 |        1 | MARJORIE    | TUCKER      | MARJORIE.TUCKER@sakilacustomer.org      |        132 |      1 | 2006-02-14 22:04:36 | 2006-02-15 04:57:20 |\n",
      "|         240 |        1 | MARLENE     | WELCH       | MARLENE.WELCH@sakilacustomer.org        |        244 |      1 | 2006-02-14 22:04:36 | 2006-02-15 04:57:20 |\n",
      "|         583 |        1 | MARSHALL    | THORN       | MARSHALL.THORN@sakilacustomer.org       |        589 |      1 | 2006-02-14 22:04:37 | 2006-02-15 04:57:20 |\n",
      "|          38 |        1 | MARTHA      | GONZALEZ    | MARTHA.GONZALEZ@sakilacustomer.org      |         42 |      1 | 2006-02-14 22:04:36 | 2006-02-15 04:57:20 |\n",
      "|         383 |        1 | MARTIN      | BALES       | MARTIN.BALES@sakilacustomer.org         |        388 |      1 | 2006-02-14 22:04:37 | 2006-02-15 04:57:20 |\n",
      "|           1 |        1 | MARY        | SMITH       | MARY.SMITH@sakilacustomer.org           |          5 |      1 | 2006-02-14 22:04:36 | 2006-02-15 04:57:20 |\n",
      "|         539 |        1 | MATHEW      | BOLIN       | MATHEW.BOLIN@sakilacustomer.org         |        545 |      1 | 2006-02-14 22:04:37 | 2006-02-15 04:57:20 |\n",
      "|         482 |        1 | MAURICE     | CRAWLEY     | MAURICE.CRAWLEY@sakilacustomer.org      |        487 |      0 | 2006-02-14 22:04:37 | 2006-02-15 04:57:20 |\n",
      "|         553 |        1 | MAX         | PITT        | MAX.PITT@sakilacustomer.org             |        559 |      1 | 2006-02-14 22:04:37 | 2006-02-15 04:57:20 |\n",
      "|         188 |        1 | MELANIE     | ARMSTRONG   | MELANIE.ARMSTRONG@sakilacustomer.org    |        192 |      1 | 2006-02-14 22:04:36 | 2006-02-15 04:57:20 |\n",
      "|         223 |        1 | MELINDA     | FERNANDEZ   | MELINDA.FERNANDEZ@sakilacustomer.org    |        227 |      1 | 2006-02-14 22:04:36 | 2006-02-15 04:57:20 |\n",
      "|          30 |        1 | MELISSA     | KING        | MELISSA.KING@sakilacustomer.org         |         34 |      1 | 2006-02-14 22:04:36 | 2006-02-15 04:57:20 |\n",
      "|         422 |        1 | MELVIN      | ELLINGTON   | MELVIN.ELLINGTON@sakilacustomer.org     |        427 |      1 | 2006-02-14 22:04:37 | 2006-02-15 04:57:20 |\n",
      "|         302 |        1 | MICHAEL     | SILVERMAN   | MICHAEL.SILVERMAN@sakilacustomer.org    |        307 |      1 | 2006-02-14 22:04:37 | 2006-02-15 04:57:20 |\n",
      "|         445 |        1 | MICHEAL     | FORMAN      | MICHEAL.FORMAN@sakilacustomer.org       |        450 |      1 | 2006-02-14 22:04:37 | 2006-02-15 04:57:20 |\n",
      "|          21 |        1 | MICHELLE    | CLARK       | MICHELLE.CLARK@sakilacustomer.org       |         25 |      1 | 2006-02-14 22:04:36 | 2006-02-15 04:57:20 |\n",
      "|         448 |        1 | MIGUEL      | BETANCOURT  | MIGUEL.BETANCOURT@sakilacustomer.org    |        453 |      1 | 2006-02-14 22:04:37 | 2006-02-15 04:57:20 |\n",
      "|         403 |        1 | MIKE        | WAY         | MIKE.WAY@sakilacustomer.org             |        408 |      1 | 2006-02-14 22:04:37 | 2006-02-15 04:57:20 |\n",
      "|          60 |        1 | MILDRED     | BAILEY      | MILDRED.BAILEY@sakilacustomer.org       |         64 |      1 | 2006-02-14 22:04:36 | 2006-02-15 04:57:20 |\n",
      "|         285 |        1 | MIRIAM      | MCKINNEY    | MIRIAM.MCKINNEY@sakilacustomer.org      |        290 |      1 | 2006-02-14 22:04:37 | 2006-02-15 04:57:20 |\n",
      "|         258 |        1 | MYRTLE      | FLEMING     | MYRTLE.FLEMING@sakilacustomer.org       |        263 |      1 | 2006-02-14 22:04:36 | 2006-02-15 04:57:20 |\n",
      "|          12 |        1 | NANCY       | THOMAS      | NANCY.THOMAS@sakilacustomer.org         |         16 |      1 | 2006-02-14 22:04:36 | 2006-02-15 04:57:20 |\n",
      "|         274 |        1 | NAOMI       | JENNINGS    | NAOMI.JENNINGS@sakilacustomer.org       |        279 |      1 | 2006-02-14 22:04:37 | 2006-02-15 04:57:20 |\n",
      "|         216 |        1 | NATALIE     | MEYER       | NATALIE.MEYER@sakilacustomer.org        |        220 |      1 | 2006-02-14 22:04:36 | 2006-02-15 04:57:20 |\n",
      "|         406 |        1 | NATHAN      | RUNYON      | NATHAN.RUNYON@sakilacustomer.org        |        411 |      0 | 2006-02-14 22:04:37 | 2006-02-15 04:57:20 |\n",
      "|         504 |        1 | NATHANIEL   | ADAM        | NATHANIEL.ADAM@sakilacustomer.org       |        509 |      1 | 2006-02-14 22:04:37 | 2006-02-15 04:57:20 |\n",
      "|         238 |        1 | NELLIE      | GARRETT     | NELLIE.GARRETT@sakilacustomer.org       |        242 |      1 | 2006-02-14 22:04:36 | 2006-02-15 04:57:20 |\n",
      "|         549 |        1 | NELSON      | CHRISTENSON | NELSON.CHRISTENSON@sakilacustomer.org   |        555 |      1 | 2006-02-14 22:04:37 | 2006-02-15 04:57:20 |\n",
      "|         362 |        1 | NICHOLAS    | BARFIELD    | NICHOLAS.BARFIELD@sakilacustomer.org    |        367 |      1 | 2006-02-14 22:04:37 | 2006-02-15 04:57:20 |\n",
      "|          68 |        1 | NICOLE      | PETERSON    | NICOLE.PETERSON@sakilacustomer.org      |         72 |      1 | 2006-02-14 22:04:36 | 2006-02-15 04:57:20 |\n",
      "|         268 |        1 | NINA        | SOTO        | NINA.SOTO@sakilacustomer.org            |        273 |      1 | 2006-02-14 22:04:36 | 2006-02-15 04:57:20 |\n",
      "|          94 |        1 | NORMA       | GONZALES    | NORMA.GONZALES@sakilacustomer.org       |         98 |      1 | 2006-02-14 22:04:36 | 2006-02-15 04:57:20 |\n",
      "|         411 |        1 | NORMAN      | CURRIER     | NORMAN.CURRIER@sakilacustomer.org       |        416 |      1 | 2006-02-14 22:04:37 | 2006-02-15 04:57:20 |\n",
      "|          37 |        1 | PAMELA      | BAKER       | PAMELA.BAKER@sakilacustomer.org         |         41 |      1 | 2006-02-14 22:04:36 | 2006-02-15 04:57:20 |\n",
      "|           2 |        1 | PATRICIA    | JOHNSON     | PATRICIA.JOHNSON@sakilacustomer.org     |          6 |      1 | 2006-02-14 22:04:36 | 2006-02-15 04:57:20 |\n",
      "|         340 |        1 | PATRICK     | NEWSOM      | PATRICK.NEWSOM@sakilacustomer.org       |        345 |      1 | 2006-02-14 22:04:37 | 2006-02-15 04:57:20 |\n",
      "|         133 |        1 | PAULINE     | HENRY       | PAULINE.HENRY@sakilacustomer.org        |        137 |      1 | 2006-02-14 22:04:36 | 2006-02-15 04:57:20 |\n",
      "|         101 |        1 | PEGGY       | MYERS       | PEGGY.MYERS@sakilacustomer.org          |        105 |      1 | 2006-02-14 22:04:36 | 2006-02-15 04:57:20 |\n",
      "|         271 |        1 | PENNY       | NEAL        | PENNY.NEAL@sakilacustomer.org           |        276 |      0 | 2006-02-14 22:04:36 | 2006-02-15 04:57:20 |\n",
      "|         585 |        1 | PERRY       | SWAFFORD    | PERRY.SWAFFORD@sakilacustomer.org       |        591 |      1 | 2006-02-14 22:04:37 | 2006-02-15 04:57:20 |\n",
      "|         341 |        1 | PETER       | MENARD      | PETER.MENARD@sakilacustomer.org         |        346 |      1 | 2006-02-14 22:04:37 | 2006-02-15 04:57:20 |\n",
      "|         393 |        1 | PHILIP      | CAUSEY      | PHILIP.CAUSEY@sakilacustomer.org        |        398 |      1 | 2006-02-14 22:04:37 | 2006-02-15 04:57:20 |\n",
      "|         385 |        1 | PHILLIP     | HOLM        | PHILLIP.HOLM@sakilacustomer.org         |        390 |      1 | 2006-02-14 22:04:37 | 2006-02-15 04:57:20 |\n",
      "|          93 |        1 | PHYLLIS     | FOSTER      | PHYLLIS.FOSTER@sakilacustomer.org       |         97 |      1 | 2006-02-14 22:04:36 | 2006-02-15 04:57:20 |\n",
      "|          79 |        1 | RACHEL      | BARNES      | RACHEL.BARNES@sakilacustomer.org        |         83 |      1 | 2006-02-14 22:04:36 | 2006-02-15 04:57:20 |\n",
      "|         505 |        1 | RAFAEL      | ABNEY       | RAFAEL.ABNEY@sakilacustomer.org         |        510 |      1 | 2006-02-14 22:04:37 | 2006-02-15 04:57:20 |\n",
      "|         376 |        1 | RANDY       | GAITHER     | RANDY.GAITHER@sakilacustomer.org        |        381 |      1 | 2006-02-14 22:04:37 | 2006-02-15 04:57:20 |\n",
      "|         509 |        1 | RAUL        | FORTIER     | RAUL.FORTIER@sakilacustomer.org         |        514 |      1 | 2006-02-14 22:04:37 | 2006-02-15 04:57:20 |\n",
      "|         430 |        1 | RAY         | HOULE       | RAY.HOULE@sakilacustomer.org            |        435 |      1 | 2006-02-14 22:04:37 | 2006-02-15 04:57:20 |\n",
      "|         168 |        1 | REGINA      | BERRY       | REGINA.BERRY@sakilacustomer.org         |        172 |      1 | 2006-02-14 22:04:36 | 2006-02-15 04:57:20 |\n",
      "|         500 |        1 | REGINALD    | KINDER      | REGINALD.KINDER@sakilacustomer.org      |        505 |      1 | 2006-02-14 22:04:37 | 2006-02-15 04:57:20 |\n",
      "|         182 |        1 | RENEE       | LANE        | RENEE.LANE@sakilacustomer.org           |        186 |      1 | 2006-02-14 22:04:36 | 2006-02-15 04:57:20 |\n",
      "|         489 |        1 | RICARDO     | MEADOR      | RICARDO.MEADOR@sakilacustomer.org       |        494 |      1 | 2006-02-14 22:04:37 | 2006-02-15 04:57:20 |\n",
      "|         305 |        1 | RICHARD     | MCCRARY     | RICHARD.MCCRARY@sakilacustomer.org      |        310 |      1 | 2006-02-14 22:04:37 | 2006-02-15 04:57:20 |\n",
      "|         104 |        1 | RITA        | GRAHAM      | RITA.GRAHAM@sakilacustomer.org          |        108 |      1 | 2006-02-14 22:04:36 | 2006-02-15 04:57:20 |\n",
      "|         185 |        1 | ROBERTA     | HARPER      | ROBERTA.HARPER@sakilacustomer.org       |        189 |      1 | 2006-02-14 22:04:36 | 2006-02-15 04:57:20 |\n",
      "|         484 |        1 | ROBERTO     | VU          | ROBERTO.VU@sakilacustomer.org           |        489 |      1 | 2006-02-14 22:04:37 | 2006-02-15 04:57:20 |\n",
      "|         100 |        1 | ROBIN       | HAYES       | ROBIN.HAYES@sakilacustomer.org          |        104 |      1 | 2006-02-14 22:04:36 | 2006-02-15 04:57:20 |\n",
      "|         204 |        1 | ROSEMARY    | SCHMIDT     | ROSEMARY.SCHMIDT@sakilacustomer.org     |        208 |      1 | 2006-02-14 22:04:36 | 2006-02-15 04:57:20 |\n",
      "|         580 |        1 | ROSS        | GREY        | ROSS.GREY@sakilacustomer.org            |        586 |      1 | 2006-02-14 22:04:37 | 2006-02-15 04:57:20 |\n",
      "|         501 |        1 | RUBEN       | GEARY       | RUBEN.GEARY@sakilacustomer.org          |        506 |      1 | 2006-02-14 22:04:37 | 2006-02-15 04:57:20 |\n",
      "|         380 |        1 | RUSSELL     | BRINSON     | RUSSELL.BRINSON@sakilacustomer.org      |        385 |      1 | 2006-02-14 22:04:37 | 2006-02-15 04:57:20 |\n",
      "|          19 |        1 | RUTH        | MARTINEZ    | RUTH.MARTINEZ@sakilacustomer.org        |         23 |      1 | 2006-02-14 22:04:36 | 2006-02-15 04:57:20 |\n",
      "|         490 |        1 | SAM         | MCDUFFIE    | SAM.MCDUFFIE@sakilacustomer.org         |        495 |      1 | 2006-02-14 22:04:37 | 2006-02-15 04:57:20 |\n",
      "|         330 |        1 | SCOTT       | SHELLEY     | SCOTT.SHELLEY@sakilacustomer.org        |        335 |      1 | 2006-02-14 22:04:37 | 2006-02-15 04:57:20 |\n",
      "|         587 |        1 | SERGIO      | STANFIELD   | SERGIO.STANFIELD@sakilacustomer.org     |        593 |      1 | 2006-02-14 22:04:37 | 2006-02-15 04:57:20 |\n",
      "|         390 |        1 | SHAWN       | HEATON      | SHAWN.HEATON@sakilacustomer.org         |        395 |      1 | 2006-02-14 22:04:37 | 2006-02-15 04:57:20 |\n",
      "|         124 |        1 | SHEILA      | WELLS       | SHEILA.WELLS@sakilacustomer.org         |        128 |      0 | 2006-02-14 22:04:36 | 2006-02-15 04:57:20 |\n",
      "|         297 |        1 | SHERRI      | RHODES      | SHERRI.RHODES@sakilacustomer.org        |        302 |      1 | 2006-02-14 22:04:37 | 2006-02-15 04:57:20 |\n",
      "|         119 |        1 | SHERRY      | MARSHALL    | SHERRY.MARSHALL@sakilacustomer.org      |        123 |      1 | 2006-02-14 22:04:36 | 2006-02-15 04:57:20 |\n",
      "|         572 |        1 | SIDNEY      | BURLESON    | SIDNEY.BURLESON@sakilacustomer.org      |        578 |      1 | 2006-02-14 22:04:37 | 2006-02-15 04:57:20 |\n",
      "|         284 |        1 | SONIA       | GREGORY     | SONIA.GREGORY@sakilacustomer.org        |        289 |      1 | 2006-02-14 22:04:37 | 2006-02-15 04:57:20 |\n",
      "|         211 |        1 | STACEY      | MONTGOMERY  | STACEY.MONTGOMERY@sakilacustomer.org    |        215 |      1 | 2006-02-14 22:04:36 | 2006-02-15 04:57:20 |\n",
      "|         247 |        1 | STELLA      | MORENO      | STELLA.MORENO@sakilacustomer.org        |        251 |      1 | 2006-02-14 22:04:36 | 2006-02-15 04:57:20 |\n",
      "|          41 |        1 | STEPHANIE   | MITCHELL    | STEPHANIE.MITCHELL@sakilacustomer.org   |         45 |      1 | 2006-02-14 22:04:36 | 2006-02-15 04:57:20 |\n",
      "|         332 |        1 | STEPHEN     | QUALLS      | STEPHEN.QUALLS@sakilacustomer.org       |        337 |      1 | 2006-02-14 22:04:37 | 2006-02-15 04:57:20 |\n",
      "|         316 |        1 | STEVEN      | CURLEY      | STEVEN.CURLEY@sakilacustomer.org        |        321 |      1 | 2006-02-14 22:04:37 | 2006-02-15 04:57:20 |\n",
      "|         229 |        1 | TAMARA      | NGUYEN      | TAMARA.NGUYEN@sakilacustomer.org        |        233 |      1 | 2006-02-14 22:04:36 | 2006-02-15 04:57:20 |\n",
      "|         237 |        1 | TANYA       | GILBERT     | TANYA.GILBERT@sakilacustomer.org        |        241 |      1 | 2006-02-14 22:04:36 | 2006-02-15 04:57:20 |\n",
      "|         203 |        1 | TARA        | RYAN        | TARA.RYAN@sakilacustomer.org            |        207 |      1 | 2006-02-14 22:04:36 | 2006-02-15 04:57:20 |\n",
      "|          54 |        1 | TERESA      | ROGERS      | TERESA.ROGERS@sakilacustomer.org        |         58 |      1 | 2006-02-14 22:04:36 | 2006-02-15 04:57:20 |\n",
      "|         592 |        1 | TERRANCE    | ROUSH       | TERRANCE.ROUSH@sakilacustomer.org       |        598 |      0 | 2006-02-14 22:04:37 | 2006-02-15 04:57:20 |\n",
      "|         595 |        1 | TERRENCE    | GUNDERSON   | TERRENCE.GUNDERSON@sakilacustomer.org   |        601 |      1 | 2006-02-14 22:04:37 | 2006-02-15 04:57:20 |\n",
      "|         206 |        1 | TERRI       | VASQUEZ     | TERRI.VASQUEZ@sakilacustomer.org        |        210 |      1 | 2006-02-14 22:04:36 | 2006-02-15 04:57:20 |\n",
      "|         253 |        1 | TERRY       | CARLSON     | TERRY.CARLSON@sakilacustomer.org        |        258 |      1 | 2006-02-14 22:04:36 | 2006-02-15 04:57:20 |\n",
      "|         122 |        1 | THELMA      | MURRAY      | THELMA.MURRAY@sakilacustomer.org        |        126 |      1 | 2006-02-14 22:04:36 | 2006-02-15 04:57:20 |\n",
      "|         308 |        1 | THOMAS      | GRIGSBY     | THOMAS.GRIGSBY@sakilacustomer.org       |        313 |      1 | 2006-02-14 22:04:37 | 2006-02-15 04:57:20 |\n",
      "|         468 |        1 | TIM         | CARY        | TIM.CARY@sakilacustomer.org             |        473 |      1 | 2006-02-14 22:04:37 | 2006-02-15 04:57:20 |\n",
      "|         325 |        1 | TIMOTHY     | BUNN        | TIMOTHY.BUNN@sakilacustomer.org         |        330 |      1 | 2006-02-14 22:04:37 | 2006-02-15 04:57:20 |\n",
      "|         386 |        1 | TODD        | TAN         | TODD.TAN@sakilacustomer.org             |        391 |      1 | 2006-02-14 22:04:37 | 2006-02-15 04:57:20 |\n",
      "|         452 |        1 | TOM         | MILNER      | TOM.MILNER@sakilacustomer.org           |        457 |      1 | 2006-02-14 22:04:37 | 2006-02-15 04:57:20 |\n",
      "|         459 |        1 | TOMMY       | COLLAZO     | TOMMY.COLLAZO@sakilacustomer.org        |        464 |      1 | 2006-02-14 22:04:37 | 2006-02-15 04:57:20 |\n",
      "|         291 |        1 | TONI        | HOLT        | TONI.HOLT@sakilacustomer.org            |        296 |      1 | 2006-02-14 22:04:37 | 2006-02-15 04:57:20 |\n",
      "|         589 |        1 | TRACY       | HERRMANN    | TRACY.HERRMANN@sakilacustomer.org       |        595 |      1 | 2006-02-14 22:04:37 | 2006-02-15 04:57:20 |\n",
      "|         108 |        1 | TRACY       | COLE        | TRACY.COLE@sakilacustomer.org           |        112 |      1 | 2006-02-14 22:04:36 | 2006-02-15 04:57:20 |\n",
      "|         417 |        1 | TRAVIS      | ESTEP       | TRAVIS.ESTEP@sakilacustomer.org         |        422 |      1 | 2006-02-14 22:04:37 | 2006-02-15 04:57:20 |\n",
      "|         436 |        1 | TROY        | QUIGLEY     | TROY.QUIGLEY@sakilacustomer.org         |        441 |      1 | 2006-02-14 22:04:37 | 2006-02-15 04:57:20 |\n",
      "|         540 |        1 | TYRONE      | ASHER       | TYRONE.ASHER@sakilacustomer.org         |        546 |      1 | 2006-02-14 22:04:37 | 2006-02-15 04:57:20 |\n",
      "|         149 |        1 | VALERIE     | BLACK       | VALERIE.BLACK@sakilacustomer.org        |        153 |      1 | 2006-02-14 22:04:36 | 2006-02-15 04:57:20 |\n",
      "|         195 |        1 | VANESSA     | SIMS        | VANESSA.SIMS@sakilacustomer.org         |        199 |      1 | 2006-02-14 22:04:36 | 2006-02-15 04:57:20 |\n",
      "|         286 |        1 | VELMA       | LUCAS       | VELMA.LUCAS@sakilacustomer.org          |        291 |      1 | 2006-02-14 22:04:37 | 2006-02-15 04:57:20 |\n",
      "|         218 |        1 | VERA        | MCCOY       | VERA.MCCOY@sakilacustomer.org           |        222 |      1 | 2006-02-14 22:04:36 | 2006-02-15 04:57:20 |\n",
      "|         158 |        1 | VERONICA    | STONE       | VERONICA.STONE@sakilacustomer.org       |        162 |      1 | 2006-02-14 22:04:36 | 2006-02-15 04:57:20 |\n",
      "|         201 |        1 | VICKI       | FIELDS      | VICKI.FIELDS@sakilacustomer.org         |        205 |      1 | 2006-02-14 22:04:36 | 2006-02-15 04:57:20 |\n",
      "|         116 |        1 | VICTORIA    | GIBSON      | VICTORIA.GIBSON@sakilacustomer.org      |        120 |      1 | 2006-02-14 22:04:36 | 2006-02-15 04:57:20 |\n",
      "|         414 |        1 | VINCENT     | RALSTON     | VINCENT.RALSTON@sakilacustomer.org      |        419 |      1 | 2006-02-14 22:04:37 | 2006-02-15 04:57:20 |\n",
      "|         289 |        1 | VIOLET      | RODRIQUEZ   | VIOLET.RODRIQUEZ@sakilacustomer.org     |        294 |      1 | 2006-02-14 22:04:37 | 2006-02-15 04:57:20 |\n",
      "|         581 |        1 | VIRGIL      | WOFFORD     | VIRGIL.WOFFORD@sakilacustomer.org       |        587 |      1 | 2006-02-14 22:04:37 | 2006-02-15 04:57:20 |\n",
      "|         184 |        1 | VIVIAN      | RUIZ        | VIVIAN.RUIZ@sakilacustomer.org          |        188 |      1 | 2006-02-14 22:04:36 | 2006-02-15 04:57:20 |\n",
      "|         598 |        1 | WADE        | DELVALLE    | WADE.DELVALLE@sakilacustomer.org        |        604 |      1 | 2006-02-14 22:04:37 | 2006-02-15 04:57:20 |\n",
      "|         562 |        1 | WALLACE     | SLONE       | WALLACE.SLONE@sakilacustomer.org        |        568 |      1 | 2006-02-14 22:04:37 | 2006-02-15 04:57:20 |\n",
      "|          87 |        1 | WANDA       | PATTERSON   | WANDA.PATTERSON@sakilacustomer.org      |         91 |      1 | 2006-02-14 22:04:36 | 2006-02-15 04:57:20 |\n",
      "|         115 |        1 | WENDY       | Tijani      | WENDY.HARRISON@sakilacustomer.org       |        119 |      1 | 2006-02-14 22:04:36 | 2023-09-07 19:54:54 |\n",
      "|         479 |        1 | ZACHARY     | HITE        | ZACHARY.HITE@sakilacustomer.org         |        484 |      1 | 2006-02-14 22:04:37 | 2006-02-15 04:57:20 |\n",
      "+-------------+----------+-------------+-------------+-----------------------------------------+------------+--------+---------------------+---------------------+\n"
     ]
    }
   ],
   "source": [
    "!mysql sakila -e \"SELECT * FROM customer WHERE store_id=1 ORDER BY first_name\""
   ]
  },
  {
   "cell_type": "code",
   "execution_count": null,
   "id": "26997ddb-d1f3-4d4f-85bc-fbebfcdedc73",
   "metadata": {},
   "outputs": [],
   "source": [
    "#We are inserting the user Baba Tunde into the customer table"
   ]
  },
  {
   "cell_type": "code",
   "execution_count": 14,
   "id": "a63c6a94-02cd-478b-aa88-71172e470261",
   "metadata": {},
   "outputs": [
    {
     "name": "stdout",
     "output_type": "stream",
     "text": [
      "ERROR 1062 (23000) at line 1: Duplicate entry '777' for key 'customer.PRIMARY'\n"
     ]
    }
   ],
   "source": [
    "!mysql sakila -e \"INSERT INTO customer VALUES (777,1,'BABA','TUNDE','BABA.TUNDE@sakilacustomer.org',14,1,'2023-02-14 22:04:36','2023-02-15 04:57:20')\""
   ]
  },
  {
   "cell_type": "code",
   "execution_count": 16,
   "id": "00d3fe39-94a2-4423-bf2c-cdb2f5619b2c",
   "metadata": {},
   "outputs": [
    {
     "name": "stdout",
     "output_type": "stream",
     "text": [
      "+-------------+----------+------------+-----------+-------------------------------+------------+--------+---------------------+---------------------+\n",
      "| customer_id | store_id | first_name | last_name | email                         | address_id | active | create_date         | last_update         |\n",
      "+-------------+----------+------------+-----------+-------------------------------+------------+--------+---------------------+---------------------+\n",
      "|         777 |        1 | BABA       | TUNDE     | BABA.TUNDE@sakilacustomer.org |         14 |      1 | 2023-09-07 19:48:36 | 2023-02-15 04:57:20 |\n",
      "+-------------+----------+------------+-----------+-------------------------------+------------+--------+---------------------+---------------------+\n"
     ]
    }
   ],
   "source": [
    "!mysql sakila -e 'select * from customer where customer_id = 777'"
   ]
  },
  {
   "cell_type": "code",
   "execution_count": 21,
   "id": "509f93b2-735b-423e-85bf-1786399cb67f",
   "metadata": {},
   "outputs": [],
   "source": [
    "#We are updating the customer Wendy Harrisons last name to Tijani because she got married"
   ]
  },
  {
   "cell_type": "code",
   "execution_count": 12,
   "id": "347eeed4-99d8-4074-bad3-a9c80f293c51",
   "metadata": {},
   "outputs": [],
   "source": [
    "!mysql sakila -e \"UPDATE customer SET last_name = 'Tijani' WHERE first_name = 'WENDY'\""
   ]
  },
  {
   "cell_type": "code",
   "execution_count": 22,
   "id": "4be99ed4-7d7e-460d-a7d2-3b9e0b3d7a59",
   "metadata": {},
   "outputs": [],
   "source": [
    "#We are deleting the German language from the language table"
   ]
  },
  {
   "cell_type": "code",
   "execution_count": 13,
   "id": "b6c1fd1b-e6c5-45ea-b324-a7cf7af79736",
   "metadata": {},
   "outputs": [],
   "source": [
    "!mysql sakila -e \"DELETE FROM language WHERE language_id = 6\""
   ]
  },
  {
   "cell_type": "code",
   "execution_count": null,
   "id": "5db25116-0c34-4136-a735-de4844c29bc7",
   "metadata": {},
   "outputs": [],
   "source": []
  }
 ],
 "metadata": {
  "environment": {
   "kernel": "python3",
   "name": "common-cpu.m110",
   "type": "gcloud",
   "uri": "gcr.io/deeplearning-platform-release/base-cpu:m110"
  },
  "kernelspec": {
   "display_name": "Python 3",
   "language": "python",
   "name": "python3"
  },
  "language_info": {
   "codemirror_mode": {
    "name": "ipython",
    "version": 3
   },
   "file_extension": ".py",
   "mimetype": "text/x-python",
   "name": "python",
   "nbconvert_exporter": "python",
   "pygments_lexer": "ipython3",
   "version": "3.10.12"
  }
 },
 "nbformat": 4,
 "nbformat_minor": 5
}

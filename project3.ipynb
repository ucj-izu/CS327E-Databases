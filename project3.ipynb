{
 "cells": [
  {
   "cell_type": "markdown",
   "metadata": {},
   "source": [
    "### 1) Set environment variables:"
   ]
  },
  {
   "cell_type": "code",
   "execution_count": 14,
   "metadata": {},
   "outputs": [
    {
     "name": "stdout",
     "output_type": "stream",
     "text": [
      "env: PGINSTANCE=postgres\n"
     ]
    }
   ],
   "source": [
    "%env PGINSTANCE=postgres"
   ]
  },
  {
   "cell_type": "code",
   "execution_count": 15,
   "metadata": {},
   "outputs": [
    {
     "name": "stdout",
     "output_type": "stream",
     "text": [
      "env: PGDATABASE=postgres\n",
      "env: PGHOST=10.89.240.11\n",
      "env: PGPORT=5432\n",
      "env: PGUSER=postgres\n",
      "env: PGPASSWORD=dedsec\n"
     ]
    }
   ],
   "source": [
    "%env PGDATABASE=postgres\n",
    "%env PGHOST=10.89.240.11\n",
    "%env PGPORT=5432\n",
    "%env PGUSER=postgres\n",
    "%env PGPASSWORD=dedsec"
   ]
  },
  {
   "cell_type": "code",
   "execution_count": 16,
   "metadata": {},
   "outputs": [
    {
     "name": "stdout",
     "output_type": "stream",
     "text": [
      "env: BASE_DIR=/home/jupyter/snippets\n"
     ]
    }
   ],
   "source": [
    "%env BASE_DIR=/home/jupyter/snippets"
   ]
  },
  {
   "cell_type": "markdown",
   "metadata": {},
   "source": [
    "### 2) Download Shopify data and code:"
   ]
  },
  {
   "cell_type": "code",
   "execution_count": 4,
   "metadata": {},
   "outputs": [
    {
     "name": "stdout",
     "output_type": "stream",
     "text": [
      "Copying gs://cs327e-open-access/postgres_shopify.zip...\n",
      "/ [1 files][  3.2 MiB/  3.2 MiB]                                                \n",
      "Operation completed over 1 objects/3.2 MiB.                                      \n"
     ]
    }
   ],
   "source": [
    "!gsutil cp gs://cs327e-open-access/postgres_shopify.zip $BASE_DIR"
   ]
  },
  {
   "cell_type": "code",
   "execution_count": 4,
   "metadata": {},
   "outputs": [
    {
     "name": "stdout",
     "output_type": "stream",
     "text": [
      "Archive:  /home/jupyter/snippets/postgres_shopify.zip\n",
      "  inflating: postgres_shopify/apps.csv  \n",
      "  inflating: postgres_shopify/apps_categories.csv  \n",
      "  inflating: postgres_shopify/categories.csv  \n",
      "  inflating: postgres_shopify/create_postgres_tables.sql  \n",
      "  inflating: postgres_shopify/delete_tx.sql  \n",
      "  inflating: postgres_shopify/insert_tx.sql  \n",
      "  inflating: postgres_shopify/key_benefits.csv  \n",
      "  inflating: postgres_shopify/pricing_plan_features.csv  \n",
      "  inflating: postgres_shopify/pricing_plans.csv  \n",
      "  inflating: postgres_shopify/reviews.csv  \n",
      "  inflating: postgres_shopify/update_tx.sql  \n"
     ]
    }
   ],
   "source": [
    "!unzip $BASE_DIR/postgres_shopify.zip"
   ]
  },
  {
   "cell_type": "markdown",
   "metadata": {},
   "source": [
    "### 3) Create the shopify tables"
   ]
  },
  {
   "cell_type": "code",
   "execution_count": 17,
   "metadata": {},
   "outputs": [
    {
     "name": "stdout",
     "output_type": "stream",
     "text": [
      "psql:/home/jupyter/snippets/postgres_shopify/create_postgres_tables.sql:1: NOTICE:  drop cascades to 7 other objects\n",
      "DETAIL:  drop cascades to table shopify.apps\n",
      "drop cascades to table shopify.apps_categories\n",
      "drop cascades to table shopify.categories\n",
      "drop cascades to table shopify.key_benefits\n",
      "drop cascades to table shopify.pricing_plans\n",
      "drop cascades to table shopify.pricing_plan_features\n",
      "drop cascades to table shopify.reviews\n",
      "DROP SCHEMA\n",
      "CREATE SCHEMA\n",
      "SET\n",
      "CREATE TABLE\n",
      "CREATE TABLE\n",
      "CREATE TABLE\n",
      "CREATE TABLE\n",
      "CREATE TABLE\n",
      "CREATE TABLE\n",
      "CREATE TABLE\n"
     ]
    }
   ],
   "source": [
    "!psql -c \"\\i $BASE_DIR/postgres_shopify/create_postgres_tables.sql\""
   ]
  },
  {
   "cell_type": "markdown",
   "metadata": {},
   "source": [
    "### 4) Describe the tables"
   ]
  },
  {
   "cell_type": "code",
   "execution_count": 7,
   "metadata": {},
   "outputs": [
    {
     "name": "stdout",
     "output_type": "stream",
     "text": [
      "                           Table \"shopify.apps\"\n",
      "     Column     |          Type           | Collation | Nullable | Default \n",
      "----------------+-------------------------+-----------+----------+---------\n",
      " id             | character(36)           |           | not null | \n",
      " url            | character varying(1000) |           |          | \n",
      " title          | character varying(2000) |           |          | \n",
      " developer      | character varying(100)  |           |          | \n",
      " developer_link | character varying(1000) |           |          | \n",
      " icon           | character varying(1000) |           |          | \n",
      " rating         | double precision        |           |          | \n",
      " reviews_count  | integer                 |           |          | \n",
      "Indexes:\n",
      "    \"apps_pkey\" PRIMARY KEY, btree (id)\n",
      "\n"
     ]
    }
   ],
   "source": [
    "!psql -c \"\\d shopify.apps\""
   ]
  },
  {
   "cell_type": "code",
   "execution_count": 8,
   "metadata": {},
   "outputs": [
    {
     "name": "stdout",
     "output_type": "stream",
     "text": [
      "               Table \"shopify.apps_categories\"\n",
      "   Column    |     Type      | Collation | Nullable | Default \n",
      "-------------+---------------+-----------+----------+---------\n",
      " app_id      | character(36) |           | not null | \n",
      " category_id | character(36) |           | not null | \n",
      "Indexes:\n",
      "    \"apps_categories_pkey\" PRIMARY KEY, btree (app_id, category_id)\n",
      "\n"
     ]
    }
   ],
   "source": [
    "!psql -c \"\\d shopify.apps_categories\""
   ]
  },
  {
   "cell_type": "code",
   "execution_count": 9,
   "metadata": {},
   "outputs": [
    {
     "name": "stdout",
     "output_type": "stream",
     "text": [
      "                    Table \"shopify.categories\"\n",
      " Column |          Type           | Collation | Nullable | Default \n",
      "--------+-------------------------+-----------+----------+---------\n",
      " id     | character(36)           |           | not null | \n",
      " title  | character varying(2000) |           |          | \n",
      "Indexes:\n",
      "    \"categories_pkey\" PRIMARY KEY, btree (id)\n",
      "\n"
     ]
    }
   ],
   "source": [
    "!psql -c \"\\d shopify.categories\""
   ]
  },
  {
   "cell_type": "code",
   "execution_count": 10,
   "metadata": {},
   "outputs": [
    {
     "name": "stdout",
     "output_type": "stream",
     "text": [
      "                      Table \"shopify.key_benefits\"\n",
      "   Column    |          Type           | Collation | Nullable | Default \n",
      "-------------+-------------------------+-----------+----------+---------\n",
      " app_id      | character(36)           |           | not null | \n",
      " title       | character varying(2000) |           | not null | \n",
      " description | character varying(2000) |           |          | \n",
      "Indexes:\n",
      "    \"key_benefits_pkey\" PRIMARY KEY, btree (app_id, title)\n",
      "\n"
     ]
    }
   ],
   "source": [
    "!psql -c \"\\d shopify.key_benefits\""
   ]
  },
  {
   "cell_type": "code",
   "execution_count": 11,
   "metadata": {},
   "outputs": [
    {
     "name": "stdout",
     "output_type": "stream",
     "text": [
      "                   Table \"shopify.pricing_plan_features\"\n",
      "     Column      |          Type           | Collation | Nullable | Default \n",
      "-----------------+-------------------------+-----------+----------+---------\n",
      " pricing_plan_id | character(36)           |           | not null | \n",
      " app_id          | character(36)           |           | not null | \n",
      " feature         | character varying(2000) |           | not null | \n",
      "Indexes:\n",
      "    \"pricing_plan_features_pkey\" PRIMARY KEY, btree (pricing_plan_id, app_id, feature)\n",
      "\n"
     ]
    }
   ],
   "source": [
    "!psql -c \"\\d shopify.pricing_plan_features\""
   ]
  },
  {
   "cell_type": "code",
   "execution_count": 12,
   "metadata": {},
   "outputs": [
    {
     "name": "stdout",
     "output_type": "stream",
     "text": [
      "                  Table \"shopify.pricing_plans\"\n",
      " Column |          Type          | Collation | Nullable | Default \n",
      "--------+------------------------+-----------+----------+---------\n",
      " id     | character(36)          |           | not null | \n",
      " app_id | character(36)          |           |          | \n",
      " title  | character varying(200) |           |          | \n",
      " price  | double precision       |           |          | \n",
      "Indexes:\n",
      "    \"pricing_plans_pkey\" PRIMARY KEY, btree (id)\n",
      "\n"
     ]
    }
   ],
   "source": [
    "!psql -c \"\\d shopify.pricing_plans\""
   ]
  },
  {
   "cell_type": "code",
   "execution_count": 13,
   "metadata": {},
   "outputs": [
    {
     "name": "stdout",
     "output_type": "stream",
     "text": [
      "                       Table \"shopify.reviews\"\n",
      "  Column   |          Type          | Collation | Nullable | Default \n",
      "-----------+------------------------+-----------+----------+---------\n",
      " app_id    | character(36)          |           | not null | \n",
      " author    | character varying(250) |           | not null | \n",
      " rating    | integer                |           |          | \n",
      " posted_at | date                   |           |          | \n",
      "Indexes:\n",
      "    \"reviews_pkey\" PRIMARY KEY, btree (app_id, author)\n",
      "\n"
     ]
    }
   ],
   "source": [
    "!psql -c \"\\d shopify.reviews\""
   ]
  },
  {
   "cell_type": "markdown",
   "metadata": {},
   "source": [
    "### 5. Populate the tables"
   ]
  },
  {
   "cell_type": "code",
   "execution_count": 18,
   "metadata": {},
   "outputs": [
    {
     "name": "stdout",
     "output_type": "stream",
     "text": [
      "Importing data into Cloud SQL instance...done.                                 \n",
      "Imported data from [gs://cs327e-open-access/postgres_shopify/apps.csv] into [https://sqladmin.googleapis.com/sql/v1beta4/projects/unified-canyon-397523/instances/postgres].\n"
     ]
    }
   ],
   "source": [
    "!gcloud sql import csv $PGINSTANCE gs://cs327e-open-access/postgres_shopify/apps.csv --database=postgres --table=shopify.apps --quiet\n"
   ]
  },
  {
   "cell_type": "code",
   "execution_count": 19,
   "metadata": {},
   "outputs": [
    {
     "name": "stdout",
     "output_type": "stream",
     "text": [
      "Importing data into Cloud SQL instance...done.                                 \n",
      "Imported data from [gs://cs327e-open-access/postgres_shopify/apps_categories.csv] into [https://sqladmin.googleapis.com/sql/v1beta4/projects/unified-canyon-397523/instances/postgres].\n"
     ]
    }
   ],
   "source": [
    "!gcloud sql import csv $PGINSTANCE gs://cs327e-open-access/postgres_shopify/apps_categories.csv --database=postgres --table=shopify.apps_categories --quiet\n"
   ]
  },
  {
   "cell_type": "code",
   "execution_count": 20,
   "metadata": {},
   "outputs": [
    {
     "name": "stdout",
     "output_type": "stream",
     "text": [
      "Importing data into Cloud SQL instance...done.                                 \n",
      "Imported data from [gs://cs327e-open-access/postgres_shopify/categories.csv] into [https://sqladmin.googleapis.com/sql/v1beta4/projects/unified-canyon-397523/instances/postgres].\n"
     ]
    }
   ],
   "source": [
    "!gcloud sql import csv $PGINSTANCE gs://cs327e-open-access/postgres_shopify/categories.csv --database=postgres --table=shopify.categories --quiet\n"
   ]
  },
  {
   "cell_type": "code",
   "execution_count": 21,
   "metadata": {},
   "outputs": [
    {
     "name": "stdout",
     "output_type": "stream",
     "text": [
      "Importing data into Cloud SQL instance...done.                                 \n",
      "Imported data from [gs://cs327e-open-access/postgres_shopify/key_benefits.csv] into [https://sqladmin.googleapis.com/sql/v1beta4/projects/unified-canyon-397523/instances/postgres].\n"
     ]
    }
   ],
   "source": [
    "!gcloud sql import csv $PGINSTANCE gs://cs327e-open-access/postgres_shopify/key_benefits.csv --database=postgres --table=shopify.key_benefits --quiet\n"
   ]
  },
  {
   "cell_type": "code",
   "execution_count": 22,
   "metadata": {},
   "outputs": [
    {
     "name": "stdout",
     "output_type": "stream",
     "text": [
      "Importing data into Cloud SQL instance...done.                                 \n",
      "Imported data from [gs://cs327e-open-access/postgres_shopify/pricing_plans.csv] into [https://sqladmin.googleapis.com/sql/v1beta4/projects/unified-canyon-397523/instances/postgres].\n"
     ]
    }
   ],
   "source": [
    "!gcloud sql import csv $PGINSTANCE gs://cs327e-open-access/postgres_shopify/pricing_plans.csv --database=postgres --table=shopify.pricing_plans --quiet\n"
   ]
  },
  {
   "cell_type": "code",
   "execution_count": 23,
   "metadata": {},
   "outputs": [
    {
     "name": "stdout",
     "output_type": "stream",
     "text": [
      "Importing data into Cloud SQL instance...done.                                 \n",
      "Imported data from [gs://cs327e-open-access/postgres_shopify/pricing_plan_features.csv] into [https://sqladmin.googleapis.com/sql/v1beta4/projects/unified-canyon-397523/instances/postgres].\n"
     ]
    }
   ],
   "source": [
    "!gcloud sql import csv $PGINSTANCE gs://cs327e-open-access/postgres_shopify/pricing_plan_features.csv --database=postgres --table=shopify.pricing_plan_features --quiet\n"
   ]
  },
  {
   "cell_type": "code",
   "execution_count": 24,
   "metadata": {},
   "outputs": [
    {
     "name": "stdout",
     "output_type": "stream",
     "text": [
      "Importing data into Cloud SQL instance...done.                                 \n",
      "Imported data from [gs://cs327e-open-access/postgres_shopify/reviews.csv] into [https://sqladmin.googleapis.com/sql/v1beta4/projects/unified-canyon-397523/instances/postgres].\n"
     ]
    }
   ],
   "source": [
    "!gcloud sql import csv $PGINSTANCE gs://cs327e-open-access/postgres_shopify/reviews.csv --database=postgres --table=shopify.reviews --quiet\n"
   ]
  },
  {
   "cell_type": "markdown",
   "metadata": {},
   "source": [
    "### 5. Get a record count for each table"
   ]
  },
  {
   "cell_type": "code",
   "execution_count": 25,
   "metadata": {},
   "outputs": [
    {
     "name": "stdout",
     "output_type": "stream",
     "text": [
      " count \n",
      "-------\n",
      "  3547\n",
      "(1 row)\n",
      "\n"
     ]
    }
   ],
   "source": [
    "!psql -c \"select count(*) from shopify.apps\""
   ]
  },
  {
   "cell_type": "code",
   "execution_count": 20,
   "metadata": {},
   "outputs": [
    {
     "name": "stdout",
     "output_type": "stream",
     "text": [
      " count \n",
      "-------\n",
      "  5383\n",
      "(1 row)\n",
      "\n"
     ]
    }
   ],
   "source": [
    "!psql -c \"select count(*) from shopify.apps_categories\""
   ]
  },
  {
   "cell_type": "code",
   "execution_count": 21,
   "metadata": {},
   "outputs": [
    {
     "name": "stdout",
     "output_type": "stream",
     "text": [
      " count \n",
      "-------\n",
      "    12\n",
      "(1 row)\n",
      "\n"
     ]
    }
   ],
   "source": [
    "!psql -c \"select count(*) from shopify.categories\""
   ]
  },
  {
   "cell_type": "code",
   "execution_count": 22,
   "metadata": {},
   "outputs": [
    {
     "name": "stdout",
     "output_type": "stream",
     "text": [
      " count \n",
      "-------\n",
      "  9541\n",
      "(1 row)\n",
      "\n"
     ]
    }
   ],
   "source": [
    "!psql -c \"select count(*) from shopify.key_benefits\""
   ]
  },
  {
   "cell_type": "code",
   "execution_count": 23,
   "metadata": {},
   "outputs": [
    {
     "name": "stdout",
     "output_type": "stream",
     "text": [
      " count \n",
      "-------\n",
      " 16270\n",
      "(1 row)\n",
      "\n"
     ]
    }
   ],
   "source": [
    "!psql -c \"select count(*) from shopify.pricing_plan_features\""
   ]
  },
  {
   "cell_type": "code",
   "execution_count": 24,
   "metadata": {},
   "outputs": [
    {
     "name": "stdout",
     "output_type": "stream",
     "text": [
      " count \n",
      "-------\n",
      "  6275\n",
      "(1 row)\n",
      "\n"
     ]
    }
   ],
   "source": [
    "!psql -c \"select count(*) from shopify.pricing_plans\""
   ]
  },
  {
   "cell_type": "code",
   "execution_count": 25,
   "metadata": {},
   "outputs": [
    {
     "name": "stdout",
     "output_type": "stream",
     "text": [
      " count  \n",
      "--------\n",
      " 124601\n",
      "(1 row)\n",
      "\n"
     ]
    }
   ],
   "source": [
    "!psql -c \"select count(*) from shopify.reviews\""
   ]
  },
  {
   "cell_type": "markdown",
   "metadata": {},
   "source": [
    "### 6. Sample the tables"
   ]
  },
  {
   "cell_type": "code",
   "execution_count": 26,
   "metadata": {},
   "outputs": [
    {
     "name": "stdout",
     "output_type": "stream",
     "text": [
      "                  id                  |                          url                          |             title              |         developer          |                        developer_link                        |                                                                        icon                                                                         | rating | reviews_count \n",
      "--------------------------------------+-------------------------------------------------------+--------------------------------+----------------------------+--------------------------------------------------------------+-----------------------------------------------------------------------------------------------------------------------------------------------------+--------+---------------\n",
      " 683d06af-14c7-4733-9bde-ec5b699af886 | https://apps.shopify.com/facebook-store               | Facebook Shop channel          | Shopify                    | https://apps.shopify.com/partners/shopify                    | https://apps.shopifycdn.com/listing_images/d89827eee683b30743dab8a8c3a4c56f/icon/dd3e663d67c894a34a325ea819404950.png?height=84&width=84            |    2.5 |           542\n",
      " 562a0052-f1de-4919-896f-546e453f33cd | https://apps.shopify.com/mailerlite-email-marketing   | MailerLite Email Marketing     | MailerLite                 | https://apps.shopify.com/partners/ml-newsletters             | https://apps.shopifycdn.com/listing_images/d2555aedca494035e9b9d9858d099a54/icon/683e7a27f031a872269521e7b111c1f1.png?height=84&width=84            |      3 |            49\n",
      " c35c71f4-eeb3-4ff8-856a-f7e2b89aca32 | https://apps.shopify.com/syncommerce                  | SynCommerce                    | Mavericks Technologies Ltd | https://apps.shopify.com/partners/mavericks-technologies-ltd | https://apps.shopifycdn.com/listing_images/3cd18d1611d08c8929f8075714568dae/icon/cd4f6576761844c4ddd5b5c1d030aa36.png?height=84&width=84            |      3 |            81\n",
      " 7a282c82-620e-4b4b-955a-e91a2fbb0d9e | https://apps.shopify.com/wanelo                       | Wanelo                         | Wanelo                     | https://apps.shopify.com/partners/wanelo                     | https://apps.shopifycdn.com/listing_images/dfa55da6d6d34532879d7ac598377529/icon/f4ead108b5fd2b4b469105f4b27c6dae.png?height=84&width=84            |      3 |           190\n",
      " befdf234-4b61-474b-b0b8-bf6dc59db2be | https://apps.shopify.com/adroll-retargeting           | AdRoll Ads & Retargeting       | AdRoll                     | https://apps.shopify.com/partners/adroll                     | https://apps.shopifycdn.com/listing_images/6ebaf39a3592a11d95d4436f522e6bc0/icon/007f106ab4a5209c3560c749e94c6990.png?height=84&width=84            |    3.5 |           132\n",
      " fc4456a8-ed08-4b9a-8fcb-2cb4563fbac2 | https://apps.shopify.com/slider-app-by-hulkapps       | Image Slider & Hero Banner     | HulkApps.com               | https://apps.shopify.com/partners/hulk-code                  | https://apps.shopifycdn.com/listing_images/b615ad79a257362bf563dc990736a75d/icon/f6713fdb379be502586ad25defa52a20.png?height=84&width=84            |    3.5 |            44\n",
      " bb04a615-7645-4ddc-a1fd-ed6fef501a0d | https://apps.shopify.com/affiliate                    | AAA ‑ Affiliate Marketing PRO  | AAAeCommerce Inc           | https://apps.shopify.com/partners/aaawebstore                | https://apps.shopifycdn.com/listing_images/b40df7fe45d61bc27de4de04cf83cbae/icon/a9254e3723c0c60e3bc7093d077aa587.png?height=84&width=84            |    3.5 |            34\n",
      " 9857a025-f38f-4ccd-a950-d4acf4f4c7e6 | https://apps.shopify.com/inkthreadable                | Inkthreadable                  | Inkthreadable              | https://apps.shopify.com/partners/developer-78d00558a85df383 | https://apps.shopifycdn.com/listing_images/8417956d69c3e75eb207a711ac8a421e/icon/4bb9e1a5f3e28f1c6d13de1e34d6e604.png?height=84&width=84            |    3.5 |            54\n",
      " c8e8f27c-ffbe-42b4-9c89-69f2e7a32d5f | https://apps.shopify.com/brandssync                   | BrandsSync                     | Brandsdistribution         | https://apps.shopify.com/partners/zero11                     | https://apps.shopifycdn.com/listing_images/cf3c782d405debf1128e3fe07f7fe21c/icon/afcd598f4863d43122bc6e75b9cf877c.jpg?height=84&quality=90&width=84 |      4 |            72\n",
      " fe1e8e79-7228-41cd-9b21-0d82cc52b88f | https://apps.shopify.com/upsell-cross-sell-smart-tool | Upsell Cross‑Sell Smart Tool   | Autoketing                 | https://apps.shopify.com/partners/autoketing                 | https://apps.shopifycdn.com/listing_images/9f565201181508b07a71261ff5ecc688/icon/0f9931d1ddccc42bb9723220926808ee.jpg?height=84&quality=90&width=84 |      4 |            34\n",
      " 08767295-ab5e-4f13-85c7-078471e262ed | https://apps.shopify.com/art-of-where                 | Art of Where ‑ Print on demand | Art of Where               | https://apps.shopify.com/partners/developer-c217608978dec9f4 | https://apps.shopifycdn.com/listing_images/deb7604059410fb5696170a7f0044cd9/icon/75578a17deb838f4671615e6bd808f9b.jpg?height=84&quality=90&width=84 |      4 |            28\n",
      "(11 rows)\n",
      "\n"
     ]
    }
   ],
   "source": [
    "!psql -c \"select * from shopify.apps limit 11\""
   ]
  },
  {
   "cell_type": "code",
   "execution_count": 27,
   "metadata": {},
   "outputs": [
    {
     "name": "stdout",
     "output_type": "stream",
     "text": [
      "                app_id                |             category_id              \n",
      "--------------------------------------+--------------------------------------\n",
      " 94e751e2-eb8f-42c1-810d-bddb71ed6cbd | 26a72de0d02e0e4e5f615332d61a878e    \n",
      " 43850ba2-302f-40cc-8140-5835f2fe7a1b | 26a72de0d02e0e4e5f615332d61a878e    \n",
      " 4c0d0351-6764-4332-b1e4-caa746b3eca9 | 26a72de0d02e0e4e5f615332d61a878e    \n",
      " 9b4045ac-dff1-4933-9cb6-6a9cb6a0bf65 | 26a72de0d02e0e4e5f615332d61a878e    \n",
      " dcd5271f-0ccf-4822-84f6-4b38208bf6ef | 26a72de0d02e0e4e5f615332d61a878e    \n",
      " c7a86427-c015-4b1f-92e2-6b0aa2151070 | 26a72de0d02e0e4e5f615332d61a878e    \n",
      " da63498e-5d98-44a6-9f28-f43e53457be7 | 26a72de0d02e0e4e5f615332d61a878e    \n",
      " 0d4eda1a-49f4-4b3b-b8cf-02692476b827 | 26a72de0d02e0e4e5f615332d61a878e    \n",
      " 7cd8eb17-fcac-40da-9b70-be291f41fd8c | 26a72de0d02e0e4e5f615332d61a878e    \n",
      " ce73513e-16f5-4262-86df-271643b482e3 | 26a72de0d02e0e4e5f615332d61a878e    \n",
      " 0c143dc3-be4a-47d2-aa72-e1d54e447b0c | 26a72de0d02e0e4e5f615332d61a878e    \n",
      "(11 rows)\n",
      "\n"
     ]
    }
   ],
   "source": [
    "!psql -c \"select * from shopify.apps_categories limit 11\""
   ]
  },
  {
   "cell_type": "code",
   "execution_count": 28,
   "metadata": {},
   "outputs": [
    {
     "name": "stdout",
     "output_type": "stream",
     "text": [
      "                  id                  |               title               \n",
      "--------------------------------------+-----------------------------------\n",
      " 64430ad2835be8ad60c59e7d44e4b0b1     | Customer support\n",
      " 737ad50051083aa051d127a53b3ac0da     | Productivity\n",
      " 30a930262efca129caafcd586bc7e6fe     | Places to sell\n",
      " 30ea2315e910c5e5335de42d5e87dca5     | Orders and shipping\n",
      " c769c2bd15500dd906102d9be97fdceb     | Marketing\n",
      " 26a72de0d02e0e4e5f615332d61a878e     | Finances\n",
      " 5eb4e29e50e3f178acc614236ed107f4     | Sales and conversion optimization\n",
      " e44cd5379a3166568741a07cc81ef6e5     | Trust and security\n",
      " c576a841fd4f333a6f074d68e76a1d37     | Reporting\n",
      " bd125b49ce6b0425d29e33cb8b49a496     | Finding and adding products\n",
      " 9fe78acd078fc030de72c896adc93a2d     | Inventory management\n",
      "(11 rows)\n",
      "\n"
     ]
    }
   ],
   "source": [
    "!psql -c \"select * from shopify.categories limit 11\""
   ]
  },
  {
   "cell_type": "code",
   "execution_count": 29,
   "metadata": {},
   "outputs": [
    {
     "name": "stdout",
     "output_type": "stream",
     "text": [
      "                app_id                |             title              |                                                                 description                                                                  \n",
      "--------------------------------------+--------------------------------+----------------------------------------------------------------------------------------------------------------------------------------------\n",
      " 00289a9f-9f12-45b1-963b-67e78403f7c7 | Improve order size             | Increase your Sales and Order Size\n",
      " 00289a9f-9f12-45b1-963b-67e78403f7c7 | Multiple Upsells and Triggers  | After Add to Cart, Checkout Popup, or Exit Intent\n",
      " 00289a9f-9f12-45b1-963b-67e78403f7c7 | Add more products to cart      | Upsell and Cross-Sell Popups\n",
      " 00312cea-3595-4d65-a60d-6e8e5b7d6897 | Best-in-class website security | Protect your Shopify store with best-in-class security. New Shop Protector Plus available to invisibly block bots in background (read more).\n",
      " 00312cea-3595-4d65-a60d-6e8e5b7d6897 | Guards against account fraud   | Your Shopify store traffic is analyzed in real time to protect against fake account creation and potentially fraudulent activity.\n",
      " 00312cea-3595-4d65-a60d-6e8e5b7d6897 | Eliminates annoying form spam  | Shop Protector prevents bots from filling out forms. Stop those annoying contact form and newsletter sign-up spam submissions.\n",
      " 003b3dbd-1295-48cb-a3e8-8f3a0e8fc6df | Reduce shopping time           | Reduce shopping time, and improve customer experience. Increase your sales.\n",
      " 003b3dbd-1295-48cb-a3e8-8f3a0e8fc6df | Preview popup                  | Let customers view the product information, add it to cart in a Fancybox popup on the category and homepage in one click.\n",
      " 003b3dbd-1295-48cb-a3e8-8f3a0e8fc6df | Free for basic features        | Free forever for basic features. If you want to have more advanced features, you can choose premium plans.\n",
      " 004cc187-6def-4058-a7f3-78e6edfe2e3c | Visualizing design your badge  | What you see is exactly what you get.\n",
      " 004cc187-6def-4058-a7f3-78e6edfe2e3c | Built-in badges                | The categorized built-in badges cover almost common scenarios of e-commerce.\n",
      "(11 rows)\n",
      "\n"
     ]
    }
   ],
   "source": [
    "!psql -c \"select * from shopify.key_benefits limit 11\""
   ]
  },
  {
   "cell_type": "code",
   "execution_count": 30,
   "metadata": {},
   "outputs": [
    {
     "name": "stdout",
     "output_type": "stream",
     "text": [
      "                  id                  |                app_id                |       title        | price \n",
      "--------------------------------------+--------------------------------------+--------------------+-------\n",
      " 89c9f488-de5e-4eed-b8d6-f928373f39a9 | 6afe1c17-a42c-4efd-ac2e-583eedd27c02 | Partner            |     0\n",
      " c8571997-f0c5-4947-a60e-aeb32357bd19 | 75c8cf82-20c3-40e4-8433-3fd3b3ff6e16 | 1 store (Basic)    |     0\n",
      " 52056a87-7c25-4178-ac3a-90f9ef5a880c | b26d38b3-89fb-453b-9b74-253a679d134d | Try-out            |     0\n",
      " 8af97ca6-8943-4622-97e3-e6a9506ade7e | 068d655d-3236-4b6b-acea-0f8847b2e4f8 | ALWAYS FREE        |     0\n",
      " 292a6d03-0e7e-4428-99b1-6d7db43bc984 | b22d2154-90b5-4c67-b79d-95df2d81628f | Startup            |     0\n",
      " 8e56b220-ec67-47e5-a8af-4079822ae8c0 | 492592d8-7bf1-4028-b956-813348cabc5d | Bronze             |     0\n",
      " 3e857e28-b50f-484b-9616-fc10ec70fa4e | bede3965-7dd4-448c-8329-c1bf84c5913d | Demo               |     0\n",
      " e6f25b25-aa6d-461e-9940-401e517c7859 | f4ddfdc1-b956-46d4-9248-b84414ed3648 | Free For Life      |     0\n",
      " 3b498fff-71f0-447e-a9f5-e3fb4bdf98bf | 617bd513-3fa4-410b-8532-3f8e009e794b | Start out for Free |     0\n",
      " 16f825c6-fce7-4050-8cd9-24647b24e4e0 | 910ad76d-636b-4367-9e59-58e4ae194bc9 | Startup            |     0\n",
      " 9687cc6b-3e78-49dc-93e1-3f771f0c45d8 | 72844c4a-07ef-4366-ac6c-2b151523fb5e | FREE Forever       |     0\n",
      "(11 rows)\n",
      "\n"
     ]
    }
   ],
   "source": [
    "!psql -c \"select * from shopify.pricing_plans limit 11\""
   ]
  },
  {
   "cell_type": "code",
   "execution_count": 31,
   "metadata": {},
   "outputs": [
    {
     "name": "stdout",
     "output_type": "stream",
     "text": [
      "           pricing_plan_id            |                app_id                |                       feature                        \n",
      "--------------------------------------+--------------------------------------+------------------------------------------------------\n",
      " 746bc28d-5bc5-42cb-9d59-1b19c9a8301d | 00312cea-3595-4d65-a60d-6e8e5b7d6897 | Reduce Bot-Based Fraud\n",
      " 746bc28d-5bc5-42cb-9d59-1b19c9a8301d | 00312cea-3595-4d65-a60d-6e8e5b7d6897 | Bulk Cancel Orders\n",
      " 746bc28d-5bc5-42cb-9d59-1b19c9a8301d | 00312cea-3595-4d65-a60d-6e8e5b7d6897 | Configurable Rules for Auto-mitigation\n",
      " 746bc28d-5bc5-42cb-9d59-1b19c9a8301d | 00312cea-3595-4d65-a60d-6e8e5b7d6897 | Checkout Protection\n",
      " 746bc28d-5bc5-42cb-9d59-1b19c9a8301d | 00312cea-3595-4d65-a60d-6e8e5b7d6897 | (Includes all SP Basic Features...)\n",
      " 8215de67-2fbe-4504-885e-ab1aff7fa31a | 00312cea-3595-4d65-a60d-6e8e5b7d6897 | Fake Account Prevention\n",
      " 8215de67-2fbe-4504-885e-ab1aff7fa31a | 00312cea-3595-4d65-a60d-6e8e5b7d6897 | Form Spam Protection\n",
      " 8215de67-2fbe-4504-885e-ab1aff7fa31a | 00312cea-3595-4d65-a60d-6e8e5b7d6897 | Analytics Reporting Dashboard\n",
      " 60858ba0-7aae-4224-a972-34ce5caef300 | 003b3dbd-1295-48cb-a3e8-8f3a0e8fc6df | Include basic features, see more in the pricing page\n",
      " 786fce16-789a-4adc-9e25-f3912a395275 | 003b3dbd-1295-48cb-a3e8-8f3a0e8fc6df | * Dedicated support\n",
      " 786fce16-789a-4adc-9e25-f3912a395275 | 003b3dbd-1295-48cb-a3e8-8f3a0e8fc6df | * Free template design\n",
      "(11 rows)\n",
      "\n"
     ]
    }
   ],
   "source": [
    "!psql -c \"select * from shopify.pricing_plan_features limit 11\""
   ]
  },
  {
   "cell_type": "code",
   "execution_count": 32,
   "metadata": {},
   "outputs": [
    {
     "name": "stdout",
     "output_type": "stream",
     "text": [
      "                app_id                |         author         | rating | posted_at  \n",
      "--------------------------------------+------------------------+--------+------------\n",
      " 00289a9f-9f12-45b1-963b-67e78403f7c7 | Hellobeanies           |      5 | 2017-09-01\n",
      " 00289a9f-9f12-45b1-963b-67e78403f7c7 | Pdmovie                |      1 | 2016-10-09\n",
      " 00289a9f-9f12-45b1-963b-67e78403f7c7 | Mommymakeup            |      1 | 2016-11-17\n",
      " 00289a9f-9f12-45b1-963b-67e78403f7c7 | The King Herb Enhancer |      5 | 2016-12-01\n",
      " 00289a9f-9f12-45b1-963b-67e78403f7c7 | Training Top           |      4 | 2018-05-02\n",
      " 005d6c7a-9eb9-4b35-bdd4-040d383e86cf | Natural Vegan          |      5 | 2019-11-15\n",
      " 005d6c7a-9eb9-4b35-bdd4-040d383e86cf | Munchiecat             |      5 | 2019-08-20\n",
      " 005d6c7a-9eb9-4b35-bdd4-040d383e86cf | LUCKY TACKLE BOX       |      5 | 2019-09-04\n",
      " 005d6c7a-9eb9-4b35-bdd4-040d383e86cf | Bertrand Block         |      5 | 2019-10-04\n",
      " 0067a20e-e307-490e-acc5-8442d4bdca4b | Upyogi Tools           |      5 | 2019-10-15\n",
      " 0067a20e-e307-490e-acc5-8442d4bdca4b | Babes kart             |      5 | 2019-10-16\n",
      "(11 rows)\n",
      "\n"
     ]
    }
   ],
   "source": [
    "!psql -c \"select * from shopify.reviews limit 11\""
   ]
  },
  {
   "cell_type": "markdown",
   "metadata": {},
   "source": [
    "### Prompt 1: Create the Foreign Keys\n",
    "#### Hint: `alter table shopify.apps_categories add foreign key (app_id) REFERENCES shopify.apps (id);`"
   ]
  },
  {
   "cell_type": "code",
   "execution_count": 35,
   "metadata": {},
   "outputs": [
    {
     "name": "stdout",
     "output_type": "stream",
     "text": [
      "ALTER TABLE\n"
     ]
    }
   ],
   "source": [
    "!psql -c \"alter table shopify.apps_categories add foreign key (app_id) REFERENCES shopify.apps (id)\""
   ]
  },
  {
   "cell_type": "code",
   "execution_count": 36,
   "metadata": {},
   "outputs": [
    {
     "name": "stdout",
     "output_type": "stream",
     "text": [
      "ALTER TABLE\n"
     ]
    }
   ],
   "source": [
    "!psql -c \"alter table shopify.apps_categories add foreign key (category_id) REFERENCES shopify.categories (id)\""
   ]
  },
  {
   "cell_type": "code",
   "execution_count": 37,
   "metadata": {},
   "outputs": [
    {
     "name": "stdout",
     "output_type": "stream",
     "text": [
      "ALTER TABLE\n"
     ]
    }
   ],
   "source": [
    "!psql -c \"alter table shopify.key_benefits add foreign key (app_id) REFERENCES shopify.apps (id)\""
   ]
  },
  {
   "cell_type": "code",
   "execution_count": 38,
   "metadata": {},
   "outputs": [
    {
     "name": "stdout",
     "output_type": "stream",
     "text": [
      "ALTER TABLE\n"
     ]
    }
   ],
   "source": [
    "!psql -c \"alter table shopify.pricing_plans add foreign key (app_id) REFERENCES shopify.apps (id)\""
   ]
  },
  {
   "cell_type": "code",
   "execution_count": 40,
   "metadata": {},
   "outputs": [
    {
     "name": "stdout",
     "output_type": "stream",
     "text": [
      "ALTER TABLE\n"
     ]
    }
   ],
   "source": [
    "!psql -c \"alter table shopify.pricing_plan_features add foreign key (app_id) REFERENCES shopify.apps (id)\""
   ]
  },
  {
   "cell_type": "code",
   "execution_count": 39,
   "metadata": {},
   "outputs": [
    {
     "name": "stdout",
     "output_type": "stream",
     "text": [
      "ALTER TABLE\n"
     ]
    }
   ],
   "source": [
    "!psql -c \"alter table shopify.pricing_plan_features add foreign key (pricing_plan_id) REFERENCES shopify.pricing_plans (id)\""
   ]
  },
  {
   "cell_type": "code",
   "execution_count": 41,
   "metadata": {},
   "outputs": [
    {
     "name": "stdout",
     "output_type": "stream",
     "text": [
      "ALTER TABLE\n"
     ]
    }
   ],
   "source": [
    "!psql -c \"alter table shopify.reviews add foreign key (app_id) REFERENCES shopify.apps (id)\""
   ]
  },
  {
   "cell_type": "markdown",
   "metadata": {},
   "source": [
    "### 7. Run in a transaction:\n",
    "#### Insert a new Shopify app"
   ]
  },
  {
   "cell_type": "code",
   "execution_count": 42,
   "metadata": {},
   "outputs": [
    {
     "name": "stdout",
     "output_type": "stream",
     "text": [
      "SET\n",
      "BEGIN\n",
      "INSERT 0 1\n",
      "INSERT 0 1\n",
      "INSERT 0 1\n",
      "INSERT 0 1\n",
      "INSERT 0 1\n",
      "COMMIT\n"
     ]
    }
   ],
   "source": [
    "!psql -c \"\\i $BASE_DIR/postgres_shopify/insert_tx.sql\""
   ]
  },
  {
   "cell_type": "markdown",
   "metadata": {},
   "source": [
    "### Prompt 2: Run in a transaction\n",
    "#### 1) Get a record count of the pricing plans whose price > 0. \n",
    "#### 2) In a transaction, perform the following logic:\n",
    "#####    -update pricing plans to half of their price value if their price > 0. \n",
    "#####    -update the title of the pricing plans whose price > 0 by adding the suffix ' Half Price' to the current title. Use the `concat(str1, str2)` function to update the title. "
   ]
  },
  {
   "cell_type": "code",
   "execution_count": 45,
   "metadata": {},
   "outputs": [
    {
     "name": "stdout",
     "output_type": "stream",
     "text": [
      "SET\n",
      "BEGIN\n",
      "UPDATE 4780\n",
      "UPDATE 4780\n",
      "COMMIT\n"
     ]
    }
   ],
   "source": [
    "!psql -c \"\\i $BASE_DIR/postgres_shopify/update_tx2.sql\""
   ]
  },
  {
   "cell_type": "markdown",
   "metadata": {},
   "source": [
    "### Prompt 3: Run in a transaction\n",
    "#### Delete the Shopify apps record for id = '683d06af-14c7-4733-9bde-ec5b699af996' and all of its related records. Hint: you should be deleting records from 5 tables. "
   ]
  },
  {
   "cell_type": "code",
   "execution_count": 47,
   "metadata": {},
   "outputs": [
    {
     "name": "stdout",
     "output_type": "stream",
     "text": [
      "SET\n",
      "BEGIN\n",
      "DELETE 1\n",
      "DELETE 1\n",
      "DELETE 1\n",
      "DELETE 1\n",
      "DELETE 0\n",
      "DELETE 1\n",
      "COMMIT\n"
     ]
    }
   ],
   "source": [
    "!psql -c \"\\i $BASE_DIR/postgres_shopify/delete_tx2.sql\""
   ]
  },
  {
   "cell_type": "code",
   "execution_count": null,
   "metadata": {},
   "outputs": [],
   "source": [
    "#begin project 3 work"
   ]
  },
  {
   "cell_type": "code",
   "execution_count": 34,
   "metadata": {},
   "outputs": [
    {
     "name": "stdout",
     "output_type": "stream",
     "text": [
      "SET\n",
      "BEGIN\n",
      "INSERT 0 1\n",
      "INSERT 0 1\n",
      "INSERT 0 1\n",
      "INSERT 0 1\n",
      "INSERT 0 1\n",
      "COMMIT\n"
     ]
    }
   ],
   "source": [
    "#Inserting shopify record id = 273d06dx-14c7-4733-9bve-al5b749af096 as a premium pricing plan that allows unlimited alert request a month\n",
    "!psql -c \"\\i $BASE_DIR/postgres_shopify/insert_p3.sql\""
   ]
  },
  {
   "cell_type": "code",
   "execution_count": 8,
   "metadata": {},
   "outputs": [
    {
     "name": "stdout",
     "output_type": "stream",
     "text": [
      "SET\n",
      "BEGIN\n",
      "UPDATE 1\n",
      "UPDATE 1\n",
      "COMMIT\n"
     ]
    }
   ],
   "source": [
    "#Updating Shopify record prices to make them 25% off\n",
    "!psql -c \"\\i $BASE_DIR/postgres_shopify/update_p3.sql\""
   ]
  },
  {
   "cell_type": "code",
   "execution_count": 33,
   "metadata": {},
   "outputs": [
    {
     "name": "stdout",
     "output_type": "stream",
     "text": [
      "SET\n",
      "BEGIN\n",
      "DELETE 0\n",
      "DELETE 0\n",
      "DELETE 0\n",
      "DELETE 0\n",
      "DELETE 0\n",
      "DELETE 0\n",
      "COMMIT\n"
     ]
    }
   ],
   "source": [
    "#Deleting shopify record with id = 273d06dx-14c7-4733-9bve-al5b749af096\n",
    "!psql -c \"\\i $BASE_DIR/postgres_shopify/delete_p3.sql\""
   ]
  },
  {
   "cell_type": "code",
   "execution_count": 63,
   "metadata": {},
   "outputs": [
    {
     "name": "stdout",
     "output_type": "stream",
     "text": [
      "                  id                  |        developer         | rating | reviews_count |    title     \n",
      "--------------------------------------+--------------------------+--------+---------------+--------------\n",
      " f5344e64-9cda-4d97-b198-2aaeb5170518 | Modd Apps Inc.           |      5 |           223 | Productivity\n",
      " c7578030-19fd-42e1-a5a5-03c7861220aa | Onjection Labs           |      5 |           219 | Productivity\n",
      " d0be03ff-f74d-4fb5-8d2c-79541a1aea1b | Excelify.io              |      5 |           178 | Productivity\n",
      " bb0ec62d-8a5d-45a5-bd46-48fbcb888077 | Kapusta Technologies Ltd |      5 |           170 | Productivity\n",
      " 4d6b0f1b-12b1-43d6-af33-c3c006a31da7 | Power Tools              |      5 |           150 | Productivity\n",
      " f99bb1e3-f326-4f10-8901-491652e9809b | Union Works Apps         |      5 |            68 | Productivity\n",
      " 6bbcc4a2-eeb5-4d58-9ce5-f4cf2d4dd0d4 | Ablestar                 |    4.9 |           103 | Productivity\n",
      " d3a6d93c-4463-4533-a712-29addc0b5a8b | Boltics                  |    4.9 |            95 | Productivity\n",
      " e8a37cbe-79da-4062-b4af-f84e749ce125 | Syncio                   |    4.9 |            68 | Productivity\n",
      " 80a8218e-0cf9-4836-a77b-bff73900e935 | Hextom                   |    4.8 |          1064 | Productivity\n",
      " 3aaf2fed-7c5e-4330-9287-db50e5268515 | Firepush                 |    4.8 |           667 | Productivity\n",
      " bfb764b5-e564-4a45-aae6-e2b6ef2b1a4f | Gorgias                  |    4.8 |           253 | Productivity\n",
      " 3541d4d3-2963-49b8-b650-a64825b9c202 | Buymaxx                  |    4.8 |           250 | Productivity\n",
      " 64f79147-e18d-4209-9374-b0dae65ee873 | How Many Steps Inc.      |    4.8 |           141 | Productivity\n",
      " cf733da2-6b5e-44af-94df-2d5c3b8e2502 | Hextom                   |    4.8 |           131 | Productivity\n",
      " 80a731d2-e2a2-4922-92a6-c07ea2b964e1 | Power Tools              |    4.8 |            88 | Productivity\n",
      " 5f3279fc-5759-43a5-9abf-60ef82372bee | AfterShip + Automizely   |    4.7 |           981 | Productivity\n",
      " 797060ad-17d6-4e46-a728-8ecafddb6c64 | Stock Sync               |    4.7 |           490 | Productivity\n",
      " c6a38c5a-5d32-4aea-9f93-4139d69fe007 | Vela                     |    4.7 |           171 | Productivity\n",
      " 2365cbd0-e7a8-4678-9948-f4fb1bb7342f | SpurIT                   |    4.7 |            98 | Productivity\n",
      " 35e449e0-7f4a-4831-bb36-ce8951794f5a | Webify Technology        |    4.6 |           132 | Productivity\n",
      " 032eeb26-b9af-4565-8cce-d72e5abcbc03 | Autoketing               |    4.6 |           103 | Productivity\n",
      " 3cee061e-48ed-4270-9925-3a12c5af3824 | Stock Sync               |    4.6 |            61 | Productivity\n",
      " 9598b415-bd16-477e-a425-85d1e06d94d9 | SpurIT                   |    4.5 |            81 | Productivity\n",
      " 9c05a5b1-2d1b-4282-9006-8c8f6c6b378b | Sellbrite                |    4.4 |            98 | Productivity\n",
      " e29ca127-1b96-48ec-8baf-7609b656c98b | Kit CRM                  |    4.3 |          1306 | Productivity\n",
      " b4a76da2-f312-491a-8e65-e3c69abd2544 | Orderimp                 |    4.1 |            60 | Productivity\n",
      " e6e43ab5-f278-4367-b35f-b6f4c12a3f02 | Shopify                  |    2.1 |           250 | Productivity\n",
      "(28 rows)\n",
      "\n"
     ]
    }
   ],
   "source": [
    "!psql -c \"SELECT apps.id, developer, rating, reviews_count,cat.title from shopify.apps apps join shopify.apps_categories ac on apps.id = ac.app_id join shopify.categories cat on ac.category_id = cat.id where cat.title = 'Productivity' and apps.reviews_count >= 50 order by rating desc, reviews_count desc;\""
   ]
  },
  {
   "cell_type": "code",
   "execution_count": 126,
   "metadata": {},
   "outputs": [
    {
     "name": "stdout",
     "output_type": "stream",
     "text": [
      "             title              | price \n",
      "--------------------------------+-------\n",
      " Promio ‑ Influencer Marketing  |     0\n",
      " Bold Store Locator             |     0\n",
      " Store Locator by B&N           |     0\n",
      " Fishbowl Prizes Email Capture  |     0\n",
      " MailChimp Advance Segmentation |     0\n",
      " Swell Loyalty & Rewards        |     0\n",
      " Next‑Cart Store Migration      |     0\n",
      " Edit Orders ‑ Cart Pencil      |     0\n",
      " Recapture Abandoned Carts      |     0\n",
      " Marketplace in a Box           |     0\n",
      " Nudgify ‑ Social Proof & More  |     0\n",
      " Chatfunnels Messenger Chatbots |     0\n",
      " Statusy                        |     0\n",
      " DPD Shipping‑Services          |     0\n",
      " Pollen                         |     0\n",
      " SEO Ranger                     |     0\n",
      " One‑Armed Bandit               |     0\n",
      " Metafields Manager             |     0\n",
      " Recurring Payments & Orders    |     0\n",
      " Personalized Recommendations   |     0\n",
      " Minifier SEO Image Optimizer   |     0\n",
      " Ship•Systems 3D Box Packing    |     0\n",
      " Ekoma: Loyalty & Referrals     |     0\n",
      " Data Backups & Recovery        |     0\n",
      " Stamped.io Reviews & UGCs      |     0\n",
      " Buy Me ‑ Sticky Buy Button     |     0\n",
      " Spreadr App ‑ Amazon Importer  |     0\n",
      " Custom Css                     |     0\n",
      " Tab Sales Booster              |     0\n",
      " Excelify                       |     0\n",
      " Free Contact Form              |     0\n",
      " TargetBay Reviews              |     0\n",
      " TinyIMG SEO Image Optimizer    |     0\n",
      " Bulk Discount & Sales Manager  |     0\n",
      " FraudLabs Pro Fraud Prevention |     0\n",
      " FB FreeDropship                |     0\n",
      " Amplifier                      |     0\n",
      " Facebook Likes Popup           |     0\n",
      " Multi‑Store Sync Power         |     0\n",
      " FraudBlock Fraud Prevention    |     0\n",
      " Clever Variant Images          |     0\n",
      " Upsell X ‑ Upsell              |     0\n",
      " Variant Options Swatch King    |     0\n",
      " Sitejabber Free Store Reviews  |     0\n",
      " Alpacapost Email Automation    |     0\n",
      " Focused Collections            |     0\n",
      " Moose Sync ‑ Custom CSV Import |     0\n",
      " Post Purchase                  |     0\n",
      " Judge.me Product Reviews       |     0\n",
      " Sendcloud                      |     0\n",
      " Banner Slider ‑ Image Slider   |     0\n",
      " Jioukou Group Buying           |     0\n",
      " Bitmeli Mercado Libre Importer |     0\n",
      " WhatsApp Live Chat ‑WhatSocial |     0\n",
      " Chatra Live Chat + Facebook    |     0\n",
      " Google Retargeting Ads         |     0\n",
      " Instafeed ‑ Instagram Feed     |     0\n",
      " LeadsRx Attribution Monitor    |     0\n",
      " ISORAW All in 1 Instagram App  |     0\n",
      " Free Exit Pop ups, Email Popup |     0\n",
      " Simile | Smart Bundles         |     0\n",
      " Smart Search & Instant Search  |     0\n",
      " Jewelry Solution               |     0\n",
      " FREE Web Push Notifications    |     0\n",
      " Simple Purchase Orders         |     0\n",
      " Ombré – A.I. Fashion Stylist   |     0\n",
      " Kartify                        |     0\n",
      " StatsMaster True Profit        |     0\n",
      " Peek Mode                      |     0\n",
      " Affiliate External Outlinks    |     0\n",
      " Syncee                         |     0\n",
      " Announcement Bar & Header Bar  |     0\n",
      " AdScale: Google & Facebook Ads |     0\n",
      " Live Chat for Slack            |     0\n",
      " Advanced Store Localization    |     0\n",
      " Customify ‑ Product Customizer |     0\n",
      " Visual Search                  |     0\n",
      " ProFit                         |     0\n",
      " Bestsellers reSort             |     0\n",
      " Excel‑like Product Manager     |     0\n",
      " Shop Shield Pro                |     0\n",
      " Acornity                       |     0\n",
      " SPO (SEO Product Optimizer)    |     0\n",
      " Discount Box                   |     0\n",
      " Smart Popup                    |     0\n",
      " ShopCheck ‑ Store Audit App    |     0\n",
      " Fast Checkout In One Click     |     0\n",
      " Accessibility Enabler          |     0\n",
      " Invoicify                      |     0\n",
      " Acobot Virtual Shop Assistant  |     0\n",
      " Repriced.io                    |     0\n",
      " Analytics Buddy                |     0\n",
      " GearLaunch ‑ Print on Demand   |     0\n",
      " COOL CART ‑ Free‑4‑Ever Avail  |     0\n",
      " Mega Product Image Exporter    |     0\n",
      " Worry Free Shipping            |     0\n",
      " In‑store Pickup by HubBox      |     0\n",
      " Free Call                      |     0\n",
      " Single Music                   |     0\n",
      " Brainify Analytic & Conversion |     0\n",
      " AI Product Recommendations     |     0\n",
      " Closeby ‑ Store Locator        |     0\n",
      " Flexify: Facebook Product Feed |     0\n",
      " Personalized Recommendations   |     0\n",
      " AsiaMart                       |     0\n",
      " GIF Maker                      |     0\n",
      " Modalyst: Dropshipping App     |     0\n",
      " Recom.ai ‑ Upsell & Cross‑sell |     0\n",
      " AmaZone DropShipper + Walmart  |     0\n",
      " FAQ Page by NDNAPPS            |     0\n",
      " Simile | Similar Upsell        |     0\n",
      " Store Copy by Replay           |     0\n",
      " Better Coupon & Sales Pop Ups  |     0\n",
      " Swap Photo Editor              |     0\n",
      " Hoversignal | 5+ Growth Apps   |     0\n",
      " ReConvert Post Purchase Upsell |     0\n",
      " Bing Shopping Feed             |     0\n",
      " Recomailer Personalized Emails |     0\n",
      " SEO Onpage ‑ Increase Traffic  |     0\n",
      " Octovid                        |     0\n",
      " Easy Watermarks                |     0\n",
      " Out‑of‑Stock Police            |     0\n",
      " Gift Wrap Plus                 |     0\n",
      " GDPR+                          |     0\n",
      " Globo Request a Quote          |     0\n",
      " Qimify Quick View              |     0\n",
      " Gratisfaction                  |     0\n",
      " Trackital. ‑ Shipment Tracking |     0\n",
      " Jilt email marketing           |     0\n",
      " PE (Bulk Price Editor)         |     0\n",
      " Currency Converter Box ‑ BEST  |     0\n",
      " Shipping Bar by ShopStorm      |     0\n",
      " FREE Traffic & Ads             |     0\n",
      " Delm: Delivery Message         |     0\n",
      " Round Up for Charity           |     0\n",
      " Photo Gallery ‑ Image Gallery  |     0\n",
      " Dynamic Banner Suite           |     0\n",
      " Motivation Bar                 |     0\n",
      " Globo Upsell, Related Products |     0\n",
      " Bulk Product Editor & Sync     |     0\n",
      " Sales Notification | Sales Pop |     0\n",
      " Callback Request               |     0\n",
      " Quick Mini Cart                |     0\n",
      " Sticky Cart by Uplinkly        |     0\n",
      " Social Boost                   |     0\n",
      " Christmas deals calendar       |     0\n",
      " Visual Search & Creativesearch |     0\n",
      " Product Reviews: Video & Photo |     0\n",
      " Parcel Panel Order Tracking    |     0\n",
      " Mobile Menu by qikify          |     0\n",
      " Upsell Funnel Engine ‑ Upsells |     0\n",
      " Variant Descriptions King      |     0\n",
      " SMS | Apparel Size Recommender |     0\n",
      " Bamboo · Referral Program      |     0\n",
      " Shiprocket ‑ Shipping in India |     0\n",
      " Auto Currency Switcher         |     0\n",
      " Gatsby: Rethink Influencers    |     0\n",
      " All‑in‑one Bar                 |     0\n",
      " Thankster Handwritten Cards    |     0\n",
      " Order Deadline                 |     0\n",
      " Store Locator ‑ Dealer Locator |     0\n",
      " Social Login by NDNAPPS        |     0\n",
      " Snowfall Effect by Anh Kiet    |     0\n",
      " CustomCat ‑ Print on Demand    |     0\n",
      " Google Shopping Feed & Ads     |     0\n",
      " Liana · Rewards & Loyalty      |     0\n",
      " PixPix Image Editor            |     0\n",
      " Kudobuzz Reviews               |     0\n",
      " Newsletters by Promo.ai        |     0\n",
      " Collection Slideshow           |     0\n",
      " ShopShare                      |     0\n",
      " DropCommerce: US Dropshipping  |     0\n",
      " Segments Analytics             |     0\n",
      " Size Chart ‑ Clothes Fit Guide |     0\n",
      " Text Video Maker by Typito     |     0\n",
      " WhatsApp Chat ‑ Live Chat      |     0\n",
      " Smart Bar by qikify            |     0\n",
      " Google Ads with Smart Shopping |     0\n",
      " By the Numbers                 |     0\n",
      " Winback SMS Marketing          |     0\n",
      " Aiva ‑ Email Pop Ups & Upsells |     0\n",
      " WhatsApp Chat + Abandoned Cart |     0\n",
      " NextsChain ~ One‑Stop Dropship |     0\n",
      " Inventory Source               |     0\n",
      " Wholester                      |     0\n",
      " Reputon Customer Reviews App   |     0\n",
      " Boostify                       |     0\n",
      " Accountify: Real Time Profit   |     0\n",
      " Contact Form ‑ Contact Us Form |     0\n",
      " BookThatApp                    |     0\n",
      " Smart Menu ‑Free Mega Menu app |     0\n",
      " Text Funnels SMS Marketing     |     0\n",
      " Connectr for Amazon Sellers    |     0\n",
      " Loyalty, rewards and referrals |     0\n",
      " izyInvoice                     |     0\n",
      " Variant Image Automator        |     0\n",
      " SlimFAQ                        |     0\n",
      " Countdown Timer X              |     0\n",
      " EmbedSocial: Verified Reviews  |     0\n",
      " TrustedSite                    |     0\n",
      " Smart Image Optimizer          |     0\n",
      " Advanced Voice Mail            |     0\n",
      " BRANDSCOVERY Traffic and Sales |     0\n",
      " Scratch and WIN!               |     0\n",
      " Smart Product Filter & Search  |     0\n",
      " Orders Proofy | Sales Pop      |     0\n",
      " Retail Ready Photos by Pixc    |     0\n",
      " Zigpoll‑Feedback Survey & Form |     0\n",
      " JivoChat Business Live Chat    |     0\n",
      " Quick View Plus                |     0\n",
      " Power Currency Converter       |     0\n",
      " Bulk Discount Manager & Sales  |     0\n",
      " Instagram Shopping Gallery Pro |     0\n",
      " Klevu Search                   |     0\n",
      " Disable Right‑Click FREE       |     0\n",
      " Power Pricer                   |     0\n",
      " Dynamic Currency Converter     |     0\n",
      " Oberlo ‑ Dropshipping App      |     0\n",
      " YFret  Personalization Engine  |     0\n",
      " InsightBucket ‑ User Analytics |     0\n",
      " Ecomfit ‑ Better Sales Boost   |     0\n",
      " Correios ‑ SEDEX ‑ PAC         |     0\n",
      " Plug in SEO                    |     0\n",
      " Photo Resize                   |     0\n",
      " Sales Pop Master ‑ Countdown   |     0\n",
      " SEO Assistant by Buymaxx       |     0\n",
      " ProveSource ‑ Top Social Proof |     0\n",
      " Qimify Announcement Bar Maker  |     0\n",
      " Flashchat Messenger Marketing  |     0\n",
      " BEST Currency Converter        |     0\n",
      " Indi                           |     0\n",
      " Back in Stock Alerts           |     0\n",
      " Proofer Proof Management       |     0\n",
      " Bizeazy                        |     0\n",
      " CS PWA                         |     0\n",
      " Bundler ‑ Product Bundles      |     0\n",
      " Delivery Timer Order Deadline  |     0\n",
      " Funify ‑ Page Builder          |     0\n",
      " Powerful Countdown Timer       |     0\n",
      " Freighty ‑ Shipping Insurance  |     0\n",
      " A2X for QuickBooks and Xero    |     0\n",
      " Post Studio ‑ Auto Posting     |     0\n",
      " Marketful                      |     0\n",
      " Cart Notifications             |     0\n",
      " NS8 Download Tracker           |     0\n",
      " Calendify                      |     0\n",
      " Free & Simple Cross‑Selling    |     0\n",
      " Smake                          |     0\n",
      " Email Signatures               |     0\n",
      " uAfrica Shipping &Multichannel |     0\n",
      " Amp.ai Personalized Discounts  |     0\n",
      " Shipwell                       |     0\n",
      " Zonos Duty and Tax             |     0\n",
      " Social Proof & Sales Kit       |     0\n",
      " CleverReach ‑ Email marketing  |     0\n",
      " Postcard Marketing ‑ Touchcard |     0\n",
      " Parcel Pro                     |     0\n",
      " ULTIMATE Countdown Timer       |     0\n",
      " Carro: Influencer Marketing    |     0\n",
      " BOGO, Cart Upsell & Cross Sell |     0\n",
      " Add To Cart Button Animator    |     0\n",
      " Emailify                       |     0\n",
      " Country Based Announcement Bar |     0\n",
      " DropCL US/EU Dropshipping      |     0\n",
      " Cross‑Promotion                |     0\n",
      " Email My Webhooks              |     0\n",
      " World Options Global Shipping  |     0\n",
      " FraudLabs Pro SMS Verification |     0\n",
      " Klarna On‑Site Messaging       |     0\n",
      " Staffy ‑ Employee Management   |     0\n",
      " Etsify ‑ Import From Etsy      |     0\n",
      " ZigZag Global                  |     0\n",
      " WhatShare                      |     0\n",
      " Extra Verification             |     0\n",
      " Pósturinn                      |     0\n",
      " Outfy ‑ Social Media Promotion |     0\n",
      " Inkthreadable                  |     0\n",
      " SEO Image Optimizer Pro        |     0\n",
      " AddThis Share Buttons          |     0\n",
      " Boost Conversions Bar          |     0\n",
      " Freight Club                   |     0\n",
      " Bannr ‑ Posts for Social Media |     0\n",
      " Designar ‑ AR builder          |     0\n",
      " Teezily Plus                   |     0\n",
      " Nosto                          |     0\n",
      " Route4Me                       |     0\n",
      " Sellazy‑Dropshipping&Sourcing  |     0\n",
      " Page Speed Booster             |     0\n",
      " GeoInsight                     |     0\n",
      " Nitro Live Coupon              |     0\n",
      " mienvio                        |     0\n",
      " eBay                           |     0\n",
      " Delhivery CL APP               |     0\n",
      " Facebook Save Button           |     0\n",
      " Messenger Channel by SilFer    |     0\n",
      " Cookie Consent Message         |     0\n",
      " E‑Commerce Affiliate Network   |     0\n",
      " Opinew Product Reviews         |     0\n",
      " Basecost manager profit report |     0\n",
      " MonetizeSocial                 |     0\n",
      " Old Product Collection Booster |     0\n",
      " Spin To Win by Secomapp        |     0\n",
      " Factory                        |     0\n",
      " SEO Site Audit, Benchmark Hero |     0\n",
      " creativehub                    |     0\n",
      " MyParcel BE                    |     0\n",
      " Local SEO ‑ Free               |     0\n",
      " Selling on Sears               |     0\n",
      " Wishtack                       |     0\n",
      " Shlack                         |     0\n",
      " Feefo Ratings & Reviews        |     0\n",
      " Fetchy                         |     0\n",
      " Vantage                        |     0\n",
      " Remote Area Detector           |     0\n",
      " VendorDen                      |     0\n",
      " Fulfillrite                    |     0\n",
      " Feedo                          |     0\n",
      " Transdirect Shipping           |     0\n",
      " Rakuten Super Logistics        |     0\n",
      " Simile | Smart Visual Search   |     0\n",
      " Popbox MY                      |     0\n",
      " Logistia                       |     0\n",
      " ITD Global: Connect            |     0\n",
      " Recommendation Hero            |     0\n",
      " Linkcious For Blogs            |     0\n",
      " Arch Spin Offers               |     0\n",
      " Igloo Free Returns Protection  |     0\n",
      " Smartr Recommendations         |     0\n",
      " GetReviews                     |     0\n",
      " Carbon Checkout                |     0\n",
      " FREE Tabs ‑ Product page tabs  |     0\n",
      " LitExtension Store Migration   |     0\n",
      " SMS & FB Messenger marketing   |     0\n",
      " Vault AntiTheft ‑ BFCM         |     0\n",
      " Collection Merchandiser        |     0\n",
      " Tunetoo                        |     0\n",
      " Smart Send                     |     0\n",
      " Shopper Age Check              |     0\n",
      " Delivery Date & Time Suite     |     0\n",
      " Grapevine Post‑Purchase Survey |     0\n",
      " Darkstore                      |     0\n",
      " 納品書発行アプリ               |     0\n",
      " Koin Rewards                   |     0\n",
      " Epic Product Descriptions      |     0\n",
      " Badge Cashback                 |     0\n",
      " Father's Day Celebration       |     0\n",
      " HitPay ‑ Inventory Sync        |     0\n",
      " Easy Import ‑ Etsy Migration   |     0\n",
      " AOP+ Easy Print on Demand      |     0\n",
      " Performance Team               |     0\n",
      " 1st Sales                      |     0\n",
      " rBux: Reward your Community    |     0\n",
      " Wyred Up Facebook Feed         |     0\n",
      " Format My Fuzzy CSV            |     0\n",
      " SEO App ‑ Setup Optizen        |     0\n",
      " Bulk Products Discount         |     0\n",
      " Trustbadge: Reviews Toolkit    |     0\n",
      " Internetmarke                  |     0\n",
      " Hotbox: Show off recent sales  |     0\n",
      " Social Share Buttons and Popup |     0\n",
      " ShopSync                       |     0\n",
      " Feedback Scale                 |     0\n",
      " Vantage Analytics              |     0\n",
      " Widgetic (Facebook Like)       |     0\n",
      " Art of Where ‑ Print on demand |     0\n",
      " Print Partners                 |     0\n",
      " Conekta Antifraud              |     0\n",
      " Cart & Button Animator         |     0\n",
      " WhatsApp & Messenger Marketing |     0\n",
      " Hura FB Messenger              |     0\n",
      " Coupo Trust Badge              |     0\n",
      " Convead                        |     0\n",
      " Simile | Personalization Suite |     0\n",
      " Xml products import            |     0\n",
      " Powerful Contact Form Builder  |     0\n",
      " Give & Grow                    |     0\n",
      " OC Disclaimer Popup            |     0\n",
      " Shipping Rate Estimator        |     0\n",
      " Shirts Mark                    |     0\n",
      " UPC Code Manager               |     0\n",
      " Actindo Unified Commerce Suite |     0\n",
      " SlackShop                      |     0\n",
      " Smile                          |     0\n",
      " Amaz FAQ & Accordion App       |     0\n",
      " bnkle search                   |     0\n",
      " Free Persistent Cart App       |     0\n",
      " Simple Header Bar              |     0\n",
      " Share a Refund                 |     0\n",
      " Globo Store Locator + Pickup   |     0\n",
      " Malca‑Amit Shipping Services   |     0\n",
      " ShipRobot                      |     0\n",
      " Ads by Varinode                |     0\n",
      " Messenger channel              |     0\n",
      " Zendesk Support                |     0\n",
      " IgnitePost Handwritten Notes   |     0\n",
      " Instagram Shop + Feed Gallery  |     0\n",
      " Mortar Promotional Pages       |     0\n",
      " Daily Report by IvanWebDev     |     0\n",
      " Envia                          |     0\n",
      " Airpak Express                 |     0\n",
      " No Cure No Pay Abandoned Cart  |     0\n",
      " CTA buttons                    |     0\n",
      " Newsletter2Go Email Marketing  |     0\n",
      " SEO Plus                       |     0\n",
      " Buy Button channel             |     0\n",
      " Chatchamp Messenger Marketing  |     0\n",
      " Frisbo E‑Fulfillment Services  |     0\n",
      " Segmently                      |     0\n",
      " IWD Product / Feature Request  |     0\n",
      " UploadIt ‑100% Free Upload App |     0\n",
      " AdRoll Ads & Retargeting       |     0\n",
      " Unite Free Ads & Free Traffic  |     0\n",
      " Free GDPR + Cookie Management  |     0\n",
      " Cross Sell Last‑Step Offers    |     0\n",
      " Tsunami Personalize + DropShip |     0\n",
      " Voice Tools                    |     0\n",
      " Pargo pickup points            |     0\n",
      " Festival Decorations Meggnotec |     0\n",
      " Sales Pop ‑ Live Notifications |     0\n",
      " ShipRelay Fulfillment          |     0\n",
      " SMSBump SMS + MMS Marketing    |     0\n",
      " DropWorx                       |     0\n",
      " Dianxiaomi                     |     0\n",
      " magnalister                    |     0\n",
      " Translate Your Store ‑ Weglot  |     0\n",
      " Postmates                      |     0\n",
      " XPS Ship                       |     0\n",
      " EZ Importer ‑ Order Importer   |     0\n",
      " MRW                            |     0\n",
      " Countdown Timer by EOE         |     0\n",
      " CBox PopUp Builder             |     0\n",
      " Tipo Appointment Booking       |     0\n",
      " Forma                          |     0\n",
      " Recover by Oriontec            |     0\n",
      " Amaz Chat Messenger            |     0\n",
      " T‑Pop: Print on Demand         |     0\n",
      " Sticky Add to Cart + Animation |     0\n",
      " Zoho Survey                    |     0\n",
      " SourceKnowledge Shopping Ads   |     0\n",
      " Google Ads Keyword Genius      |     0\n",
      " AutoBoost                      |     0\n",
      " Clicksit Return Center         |     0\n",
      " Change Commerce ‑ Donation App |     0\n",
      " After 5 Logistics              |     0\n",
      " OrderlyEmails                  |     0\n",
      " Thirdwatch                     |     0\n",
      " Related Products ‑ Upsell      |     0\n",
      " Fyrebox Quizzes                |     0\n",
      " NeatTracker                    |     0\n",
      " Streetshirts                   |     0\n",
      " UpTracker ‑ 3PL Order Tracking |     0\n",
      " BuzzFeed                       |     0\n",
      " Woo Importer                   |     0\n",
      " Chat Button for Messaging Apps |     0\n",
      " EU GDPR Cookies Notification   |     0\n",
      " Savy ‑ Replace Clearance Sales |     0\n",
      " OGO Australian Print on Demand |     0\n",
      " TrueStock                      |     0\n",
      " Chat Button by GetButton.io    |     0\n",
      " Easy GDPR + Cookie Bar         |     0\n",
      " Facebook Messenger Marketing   |     0\n",
      " JetPrint: Print On Demand      |     0\n",
      " GDPR Cookie Bar                |     0\n",
      " Quick View and Color Swatch    |     0\n",
      " Free Trust Badge Master        |     0\n",
      " WanbExpress Shipping           |     0\n",
      " XOCookie ‑ EU Cookie & GDPR    |     0\n",
      " Recently Viewed Items          |     0\n",
      " Print Aura                     |     0\n",
      " Zendesk Chat                   |     0\n",
      " Omnisend Email Marketing       |     0\n",
      " Zipline                        |     0\n",
      " Lulu xPress                    |     0\n",
      " Yahoo Product Ads              |     0\n",
      " Amazon channel                 |     0\n",
      " Google Ads for Small Business  |     0\n",
      " Ajaxify Cart                   |     0\n",
      " Facebook Chat Flux             |     0\n",
      " Metafields Guru                |     0\n",
      " mmuze                          |     0\n",
      " Facebook Custom Audiences      |     0\n",
      " GDPR Cookie Notice Bar         |     0\n",
      " Lookbook Maker                 |     0\n",
      " Gophr ‑ UK Same Day Delivery   |     0\n",
      " Chukou1 (出口易)               |     0\n",
      " Perfect Audience               |     0\n",
      " eBay Connect                   |     0\n",
      " Product Options + Testimonials |     0\n",
      " NEON: Inventory and sold count |     0\n",
      " Curate                         |     0\n",
      " PrintPro                       |     0\n",
      " Australian Shipping Unlimited  |     0\n",
      " Trackhive ‑ FREE Track, Notify |     0\n",
      " Channable                      |     0\n",
      " Rate Me                        |     0\n",
      " ANJUN                          |     0\n",
      " Flightplan                     |     0\n",
      " Trust Hero ‑ FREE Trust Badges |     0\n",
      " Sweepstakes as a Service       |     0\n",
      " YunExpress ‑ Shipping          |     0\n",
      " Tax Receipts                   |     0\n",
      " Pickrr                         |     0\n",
      " Omni Importer                  |     0\n",
      " Prodigi Print on Demand        |     0\n",
      " Facebook Google Feed‑Sinoclick |     0\n",
      " GetSiteControl targeted popups |     0\n",
      " Xpert Importer                 |     0\n",
      " Pollenly channel               |     0\n",
      " SEO Expert Pro ‑ SEO Tools     |     0\n",
      " Video 9 ‑ Free Video Ad Editor |     0\n",
      " Instagallery                   |     0\n",
      " Kit                            |     0\n",
      " Image Slider & Hero Banner     |     0\n",
      " OCS Worldwide (UK)             |     0\n",
      " QR Code By Freeh               |     0\n",
      " Sticky Cart+ Fly Cart + Drawer |     0\n",
      " DHL                            |     0\n",
      " Shapeways Fulfillment          |     0\n",
      " Compare It!                    |     0\n",
      " Messenger Marketing Automation |     0\n",
      " ShipMonk | Order Fulfillment   |     0\n",
      " Scribeless                     |     0\n",
      " Easy Discounts & Promotions    |     0\n",
      " SMS Daddy                      |     0\n",
      " E‑Commerce Image Editing       |     0\n",
      " Orderimp                       |     0\n",
      " Etsy Importer                  |     0\n",
      " Advanced Cash on Delivery      |     0\n",
      " Retail/Wholesale Catalog Maker |     0\n",
      " Cart2Cart Store Migration App  |     0\n",
      " BBA Mastro Integration         |     0\n",
      " BFCM Cozy Best Sellers Country |     0\n",
      " Feedback Rebates               |     0\n",
      " Facebook Live Chat             |     0\n",
      " COD Verification by IVR call   |     0\n",
      " Sales & ROI via Social Button  |     0\n",
      " Fresh Relevance                |     0\n",
      " Ship, Delivery and Pickup      |     0\n",
      " Testimonials Master            |     0\n",
      " Google Shopping with Heraldbee |     0\n",
      " Shipmondo                      |     0\n",
      " Quibble!                       |     0\n",
      " Customer Acquisition by Argo   |     0\n",
      " Sendle                         |     0\n",
      " Facebook Chat 2.0              |     0\n",
      " Omni Migrator                  |     0\n",
      " Printsome: Print On Demand     |     0\n",
      " Route ‑ Shipping Insurance     |     0\n",
      " Speedr ‑ Faster Stores         |     0\n",
      " Shopify Chat                   |     0\n",
      " Mobile Web Push Notifications  |     0\n",
      " Yotpo: Product & Photo Reviews |     0\n",
      " Pie VAT ‑ Tax Free Shopping    |     0\n",
      " ShipSaver ‑ Labels & Insurance |     0\n",
      " ginnie                         |     0\n",
      " Instagram Feed ‑ Gallery       |     0\n",
      " Interactive Pop‑up             |     0\n",
      " SuperFast POD                  |     0\n",
      " GDPR Cookie Consent Banner     |     0\n",
      " Front Systems                  |     0\n",
      " COD Order Confirmation         |     0\n",
      " Popup ‑ Free Email Popup       |     0\n",
      " Shopkyo ‑ Japan Dropshipping   |     0\n",
      " Boxtal ‑ your shipping expert  |     0\n",
      " EU Cookie Popup                |     0\n",
      " Login to Access Pages          |     0\n",
      " Sales Countup                  |     0\n",
      " Milk The Leads                 |     0\n",
      " Print Melon ‑ Print on Demand  |     0\n",
      " Insert code Header & Footer    |     0\n",
      " ProductPix                     |     0\n",
      " Cloud Hooks                    |     0\n",
      " Pixels ‑ Print On Demand       |     0\n",
      " Cyber Insurance                |     0\n",
      " Bold Multi‑Currency            |     0\n",
      " DPEX Worldwide                 |     0\n",
      " ReviewStory ‑ Yotpo discounts  |     0\n",
      " E.BoxSecure                    |     0\n",
      " Amazon Associate Connector     |     0\n",
      " eMAG Marketplace Connector     |     0\n",
      " Awesome ‑ Coupons & Discounts  |     0\n",
      " Unite Free Traffic             |     0\n",
      " ImageFinder                    |     0\n",
      " EasyClip: Post Checkout Videos |     0\n",
      " Gooten                         |     0\n",
      " Virtual Product Warehouse      |     0\n",
      " Leadslide Coupon Popup         |     0\n",
      " CustomShip                     |     0\n",
      " Metafields Webguruz            |     0\n",
      " Level Up                       |     0\n",
      " Translate your shop GTranslate |     0\n",
      " FREE > GDPR Cookie Bar ‑ Kooke |     0\n",
      " FlavorCloud                    |     0\n",
      " Social Locker                  |     0\n",
      " FTSY for Brands                |     0\n",
      " Variant Title King             |     0\n",
      " sessionly Reviews              |     0\n",
      " Kraken Recommends              |     0\n",
      " Smart Related Products         |     0\n",
      " FindShop Reviews               |     0\n",
      " ClickShip                      |     0\n",
      " LIVEb4buy                      |     0\n",
      " EasySignin ‑ Email Popup       |     0\n",
      " Seguno: Email Marketing        |     0\n",
      " Emailable ‑ Email Verification |     0\n",
      " RAPP ‑ Retention & Churn App   |     0\n",
      " E‑Marketplace Services (EMS)   |     0\n",
      " PayPal Marketing Solutions     |     0\n",
      " Twitter Timeline               |     0\n",
      " High Conversion Collections    |     0\n",
      " AliExpress Review Importer     |     0\n",
      " CodesWholesale.com             |     0\n",
      " Sales Pop up ‑ Social Proof    |     0\n",
      " Clyde | Warranty Platform      |     0\n",
      " MassFulfill                    |     0\n",
      " Ends Soon ‑ Countdown Timer    |     0\n",
      " Sticky Cart by qikify          |     0\n",
      " SiBi ‑ See It Buy It           |     0\n",
      " PinterestFeed by TechnologyMin |     0\n",
      " Poppy · Smart Popups           |     0\n",
      " Pick Pack for iOS              |     0\n",
      " One Tree Planted at Checkout   |     0\n",
      " Shop for Good                  |     0\n",
      " Printful: Print‑on‑Demand      |     0\n",
      " Halloween Day Celebration      |     0\n",
      " Shippo                         |     0\n",
      " BEST PRICE XML Feed            |     0\n",
      " Cover ‑ Warranties Made Easy   |     0\n",
      " Push Notifications PushAssist  |     0\n",
      " Address Validator              |     0\n",
      " ANIX                           |     0\n",
      " ShopMaster Dropshipping        |     0\n",
      " AnalytiXR                      |     0\n",
      " Easyship ‑ All in one shipping |     0\n",
      " Reportify                      |     0\n",
      " KS (SEO Keywords Suggester)    |     0\n",
      " NoFraud Fraud Prevention       |     0\n",
      " EyeFitU SizeEngine             |     0\n",
      " Order Printer                  |     0\n",
      " Appush                         |     0\n",
      " Crowd Content                  |     0\n",
      " Microsoft Advertising          |     0\n",
      " Ship&co                        |     0\n",
      " Stocky                         |     0\n",
      " DSers‑AliExpress bulk order    |     0\n",
      " Make an Offer                  |     0\n",
      " Shoppy: A Better Slack Bot     |     0\n",
      " Inventory Yo                   |     0\n",
      " Secureship                     |     0\n",
      " SPOD ‑ Print‑on‑Demand         |     0\n",
      " Vamaship                       |     0\n",
      " Customer Attentioner           |     0\n",
      " Go Cart                        |     0\n",
      " Smaily E‑Commerce Integration  |     0\n",
      " Sales Pop ‑ Free Exit Popup    |     0\n",
      " Social Media Tabs              |     0\n",
      " Retina Go                      |     0\n",
      " Stockify                       |     0\n",
      " DPD Shipping Benelux           |     0\n",
      " Pricestack                     |     0\n",
      " Gobot ‑ Sales Boosting Chatbot |     0\n",
      " Real‑Time Shop Insights        |     0\n",
      " SMS Marketing Automation       |     0\n",
      " Pickupp Same Day Deliveries    |     0\n",
      " ShipNerd                       |     0\n",
      " Globo Pre‑Order                |     0\n",
      " Facebook Chat, Messenger       |     0\n",
      " FREE Variant Images            |     0\n",
      " eLolos                         |     0\n",
      " Cross Sell Pro                 |     0\n",
      " SEO JSON‑LD Boost by Verge     |     0\n",
      " Skroutz XML Feed               |     0\n",
      " Parcelly Click & Collect       |     0\n",
      " zenloop: NPS‑Feedback Platform |     0\n",
      " Login with Amazon              |     0\n",
      " Invoicing with InvoiceXpress   |     0\n",
      " G1 Shipping Warranty Manager   |     0\n",
      " RCS Shipping Audit             |     0\n",
      " Around the Corner              |     0\n",
      " BFCM Cozy AntiTheft Protection |     0\n",
      " Negotio ‑ Make Your Offer Now  |     0\n",
      " Budbee                         |     0\n",
      " Plixpod                        |     0\n",
      " レビューアプリ                 |     0\n",
      " Free GDPR + EU Cookie Bar      |     0\n",
      " MoonMail Autoresponders        |     0\n",
      " Pirate Ship                    |     0\n",
      " Talkable Referrals             |     0\n",
      " Error Tracking with CatchJS    |     0\n",
      " Easy Messenger ‑ Live Chat     |     0\n",
      " Simple Admin                   |     0\n",
      " Google Analytics Assistant     |     0\n",
      " CallTrackingMetrics            |     0\n",
      " DropHippo ‑ eCom Simplified    |     0\n",
      " TZ Plus Gallery                |     0\n",
      " PopExpress                     |     0\n",
      " Imuge                          |     0\n",
      " Northland Fulfillment          |     0\n",
      " Social Commerce Sales Boost    |     0\n",
      " Google Shopping Assistant      |     0\n",
      " GDPR Data Compliance Banner EU |     0\n",
      " Product description writing    |     0\n",
      " Allroot ERP                    |     0\n",
      " Widgetic (Social Buttons)      |     0\n",
      " Snow · Notification Widget     |     0\n",
      " Shipway ‑ Shipment Tracking    |     0\n",
      " Shoelace: Retargeting Journeys |     0\n",
      " AllSome Track                  |     0\n",
      " EU Cookie Bar ‑ Cookie GDPR    |     0\n",
      " Product Reviews                |     0\n",
      " Docurain                       |     0\n",
      " Kin Custom                     |     0\n",
      " Recently Viewed                |     0\n",
      " Electric Creations             |     0\n",
      " Leadslide Free Shipping Bar    |     0\n",
      " Shoppable Photos by Chiibi     |     0\n",
      " ShipHero Fulfillment           |     0\n",
      " Announcement Bar & Web Push    |     0\n",
      " One‑click Email Joe            |     0\n",
      " Web‑Stat. Know your visitors!  |     0\n",
      " Paprcart                       |     0\n",
      " GEM Worldwide                  |     0\n",
      " Contact Us Form with Captcha   |     0\n",
      " Whimm                          |     0\n",
      " New user discount              |     0\n",
      " ShipperBee                     |     0\n",
      " Recolize: Easy Personalization |     0\n",
      " Twitter Feed                   |     0\n",
      " emarketing                     |     0\n",
      " Conekta Offline Payments       |     0\n",
      " Store Scanner Hero             |     0\n",
      " Duplicate Store                |     0\n",
      " Pre‑order Now ‑ PreOrder       |     0\n",
      " Social Call and Chat support   |     0\n",
      " Purolator                      |     0\n",
      " Two Fifteen ‑ Print On Demand  |     0\n",
      " SaveMySales SMS/MMS Marketing  |     0\n",
      " CampaignLite                   |     0\n",
      " jonathan test                  |     0\n",
      " Mrspeedy same day delivery     |     0\n",
      " Shopify Flow                   |     0\n",
      " Script Editor                  |     0\n",
      " OGOship                        |     0\n",
      " Lengow: sell on marketplaces   |     0\n",
      " Signals: Simple Sales Popups   |     0\n",
      " Launchpad                      |     0\n",
      " Google Shopping                |     0\n",
      " AmpSync                        |     0\n",
      " Easy Terms & Conditions Pop‑up |     0\n",
      " GDPR Cookie Compiler           |     0\n",
      " Enable Payment Button Check    |     0\n",
      " PageSpeed Monitor              |     0\n",
      " ImageRecycle Image Compression |     0\n",
      " Speedyman Envios               |     0\n",
      " Channelize                     |     0\n",
      " Facebook Chat & Messenger      |     0\n",
      " Acumbamail                     |     0\n",
      " QuickBadge                     |     0\n",
      " Stock On Demand                |     0\n",
      " Conversations                  |     0\n",
      " Fast Conversion Bar            |     0\n",
      " IP Blocker & Country Redirect  |     0\n",
      " COD Order Confirmation         |     0\n",
      " Viralstyle Fulfillment         |     0\n",
      " Cobiro                         |     0\n",
      " Promo.com ‑ Promo Video Maker  |     0\n",
      " ShippyPro ‑ Labels and Returns |     0\n",
      " browsxp ‑ Screensharing / Chat |     0\n",
      " Transporter                    |     0\n",
      " Order Printer Templates        |     0\n",
      " FREE Tabs ‑ Accordions & FAQ   |     0\n",
      " CALCULATE                      |     0\n",
      " Heyoya Voice Reviews           |     0\n",
      " Whiplash Fulfillment           |     0\n",
      " ValueQ Affiliate               |     0\n",
      " Facebook Messenger ‑ Live Chat |     0\n",
      " MyShopping Datafeed            |     0\n",
      " FREE Responsive web            |     0\n",
      " EWE Helper                     |     0\n",
      " Billbee                        |     0\n",
      " Bulk Discount Code Generator   |     0\n",
      " Retail Barcode Labels          |     0\n",
      " Product Recommendation Quiz    |     0\n",
      " Zenstores                      |     0\n",
      " Omsify ‑ Order Manage System   |     0\n",
      " Carts Guru                     |     0\n",
      " Aramex ‑ shipping app          |     0\n",
      " Widgetic (Countdown Timer)     |     0\n",
      " Simple Discount Code Generator |     0\n",
      " Image FineTuner                |     0\n",
      " HTML Notification Bar          |     0\n",
      " Msg2Send                       |     0\n",
      " Content Genie                  |     0\n",
      " Checkout Comments              |     0\n",
      " Spocket for Suppliers          |     0\n",
      " DeepMarkit                     |     0\n",
      " Geo Shipping Bar               |     0\n",
      " Soleius                        |     0\n",
      " Product Reviews with photo     |     0\n",
      " Facebook Chat Box ‑ Live Chat  |     0\n",
      " Smart Image SEO                |     0\n",
      " Facebook Shop channel          |     0\n",
      " AllSome Order Fulfillment      |     0\n",
      " Duoplane                       |     0\n",
      " Kai by ZipThunder              |     0\n",
      " Lufapak Fulfillment Service    |     0\n",
      " Smart Information              |     0\n",
      " Instagram channel              |     0\n",
      " Dispatch                       |     0\n",
      " Events Calendar                |     0\n",
      " JSON‑LD:Rich Snippet in Google |     0\n",
      " SMS Notifications              |     0\n",
      " edrone                         |     0\n",
      " Easy Free Shipping Bar         |     0\n",
      " Age Verification Popup Master  |     0\n",
      " 4PX ‑ Shipping                 |     0\n",
      " Kinfo: Reviews for Kids Stores |     0\n",
      " Quik                           |     0\n",
      " Global SMS Notifier            |     0\n",
      " Shipwire Order Management      |     0\n",
      " Quick Order Process            |     0\n",
      " Email Template Creator         |     0\n",
      " Sweatcoin Marketplace App      |     0\n",
      " Cross Ads Traffic Booster      |     0\n",
      " Peel                           |     0\n",
      " DHL Express Shipping           |     0\n",
      " Fulfillment & Publishing       |     0\n",
      " Content Sumo                   |     0\n",
      " Payment Icon Hider             |     0\n",
      " CustomEdit                     |     0\n",
      " Wholesale Line Sheet Generator |     0\n",
      " ChinaDivision Fulfillment      |     0\n",
      " Accessibly                     |     0\n",
      " Instagram shop by SNPT         |     0\n",
      " Invoice Hero                   |     0\n",
      " eBay Professional Importer     |     0\n",
      " PUT IT ON LAY‑BUY              |     0\n",
      " Sellagram                      |     0\n",
      " MIIUT ‑ Unlimited Dropshipping |     0\n",
      " GLS AWB Eastern Europe         |     0\n",
      " Instagram Feed by SketchThemes |     0\n",
      " Apple Business Chat            |     0\n",
      " PixelPhant                     |     0\n",
      " Owids ‑ Instant Widgets        |     0\n",
      " FREE Facebook Chat & Live chat |     0\n",
      " Responsive Cookie Consent      |     0\n",
      " Shoppy SMS: Reports via SMS    |     0\n",
      " ROBOLTZ ‑ Facebook Recart      |     0\n",
      " Trust Me ‑ The Trust Badges    |     0\n",
      " Better Replay                  |     0\n",
      " Cooki                          |     0\n",
      " Lyst                           |     0\n",
      " SMS Chatbot by HiSumo          |     0\n",
      " Smart Push Marketing ‑ WebPush |     0\n",
      " DataChamp                      |     0\n",
      " Quick view + Announcement Bar  |     0\n",
      " Shipping & announcement bar    |     0\n",
      " weewado ‑ the art copy         |     0\n",
      " Price Drop FREE                |     0\n",
      " Floatton                       |     0\n",
      " teelaunch: Print on Demand     |     0\n",
      " EPROLO‑Dropshipping & Branding |     0\n",
      " Notifications Bar | Header Bar |     0\n",
      " DTDC Express                   |     0\n",
      " Swatchy                        |     0\n",
      " Shoppy Bot ‑ Smart Assistant   |     0\n",
      " Fraud Filter                   |     0\n",
      " Order Status Tracker           |     0\n",
      " Callexa NPS Feedback           |     0\n",
      " Chinabrands US Dropshipping    |     0\n",
      " Facebook Carousel Retargeting  |     0\n",
      " Phizit ‑ Facebook Audiences    |     0\n",
      " CARTROIDS ‑ 3 IN 1 UPSELL APP  |     0\n",
      " Hapilogi はぴロジ              |     0\n",
      " SilkRoad ‑ Facebook Auto Ads   |     0\n",
      " EZ Cart & Sticky Checkout      |     0\n",
      " Consistent Cart                |     0\n",
      " Trackable ‑ Order Status       |     0\n",
      " HubSpot                        |     0\n",
      " Toll Express Parcels Global    |     0\n",
      " Kisuke                         |     0\n",
      " Sell To TJX Canada             |     0\n",
      " Frequently Asked Questions     |     0\n",
      " Fancy Sales Popup              |     0\n",
      " EVS Age Verification           |     0\n",
      " ReachDrip ‑ Recover Lost Sales |     0\n",
      " Powerful Announcement Bar      |     0\n",
      " Customer's FAQ                 |     0\n",
      " Related Blog Posts             |     0\n",
      " DropShip Importer              |     0\n",
      " Paragon Fulfillment Inc        |     0\n",
      " Freetargeting                  |     0\n",
      " WowFulfillment: Dropship Shoes |     0\n",
      " Lookbook Image + Video Gallery |     0\n",
      " Sac Digital App                |     0\n",
      " Sales Climb Sticky Add To Cart |     0\n",
      " MailerLite Email Marketing     |     0\n",
      " NPS & customer satisfaction    |     0\n",
      " ReadyToShip Shipping Tracking  |     0\n",
      " MoonMail                       |     0\n",
      " Rockerbox Attribution          |     0\n",
      " AdMonks: Automated Retargeting |     0\n",
      " Videofy ‑ Make Product Videos  |     0\n",
      " ExIm ‑ Export / Import data    |     0\n",
      " Upsell by Email                |     0\n",
      " AVADA PDF Invoice              |     0\n",
      " Call Courier                   |     0\n",
      " Beauty License Verification    |     0\n",
      " Printmotor                     |     0\n",
      " SMS, Web Push, Email ‑Firepush |     0\n",
      " Shirtigo: Print‑on‑Demand      |     0\n",
      " InXpress ‑ DHL at Checkout     |     0\n",
      " Bulk Edit Tags by Power Tools  |     0\n",
      " Simple RFID                    |     0\n",
      " Gateway Supply Chain           |     0\n",
      " Estimated Shipping Cost        |     0\n",
      " tawk.to Live Chat              |     0\n",
      " BeezUP                         |     0\n",
      " CustomerMeta, Wishlist Compare |     0\n",
      " Factory4me ‑ Print on Demand   |     0\n",
      " Shirtee App                    |     0\n",
      " SFC China Order Fulfillment    |     0\n",
      " Uplinkly Language Translate    |     0\n",
      " Exto Look Alike                |     0\n",
      " DCL Logistics                  |     0\n",
      " Skynet Worldwide Express       |     0\n",
      " Shipping Tracker by DevCloud   |     0\n",
      " Wishpond Free Popup Builder    |     0\n",
      " FlagShip                       |     0\n",
      " Notify ‑ Slack Notifications   |     0\n",
      " Print Genie ‑ Print on Demand  |     0\n",
      " guru.club                      |     0\n",
      " Chatigy                        |     0\n",
      " AdWords Google Retargeting Ads |     0\n",
      " Infoplus Connect               |     0\n",
      " Google Ads Conversion Tracking |     0\n",
      " Email Invoice by Latori        |     0\n",
      " FindAnyway for Dropshipping    |     0\n",
      " US Drop Ship                   |     0\n",
      " Automizely Sales Pop + Webpush |     0\n",
      " Mega PDF Invoice Generator     |     0\n",
      " Snapchat Ads                   |     0\n",
      " Pulse Commerce OMS             |     0\n",
      " Ultimate Trust Badges          |     0\n",
      " Shopper Personality            |     0\n",
      " PostPilot Postcard Marketing   |     0\n",
      " PopaSell                       |     0\n",
      " Simplio: Simple Invoice        |     0\n",
      " Post Purchase Survey           |     0\n",
      " MyDeal.com.au                  |     0\n",
      " Facebook Hidden Interests      |     0\n",
      " Experiences App                |     0\n",
      " GovX ID Military Discount      |     0\n",
      " Promotion Popup by Secomapp    |     0\n",
      " Size Matters                   |     0\n",
      " AdMetrics                      |     0\n",
      " Facebook Messenger Bot         |     0\n",
      " Cartify ‑ Nitro Cart Related   |     0\n",
      " Bold Social Autopilot          |     0\n",
      " Shippy                         |     0\n",
      " Bulk Page Poster               |     0\n",
      " Segmentify Insights            |     0\n",
      " UI Ave Popups ‑ Easy Edition   |     0\n",
      " WOMI.io                        |     0\n",
      " Prizemojo                      |     0\n",
      " Killer Sales Messages          |     0\n",
      " Video on Checkout              |     0\n",
      " Sale Kit ‑ Social Proof bundle |     0\n",
      " KNB ‑ Discount Code Generator  |     0\n",
      " QuickBooks Daily Summary       |     0\n",
      " Disable Right Click Master     |     0\n",
      " Israel Post                    |     0\n",
      " VeSaas                         |     0\n",
      " Sales Motivator — Promo Bars   |     0\n",
      " Sendinblue ‑ Email Marketing   |     0\n",
      " Product Recommendation Quiz    |     0\n",
      " Subliminator                   |     0\n",
      " Knowband ‑ Exit Popup          |     0\n",
      " Fontify ‑ Use any font         |     0\n",
      " Shopcodes                      |     0\n",
      " Point of Sale                  |     0\n",
      " SKUGen                         |     0\n",
      " Yandex.Metrica Analytics       |     0\n",
      " DeskPOS — POS for desktop      |     0\n",
      " Free Shipping :Money Money Bar |     0\n",
      " Facebook Marketing             |     0\n",
      " Me‑Zur Me                      |     0\n",
      " Ahia! ‑ Easy Price Changer     |     0\n",
      " Boxsy                          |     0\n",
      " ADCELL Tracking & Remarketing  |     0\n",
      " Lotus · Social Auto‑Post       |     0\n",
      " JITBU: Bulk edit products      |     0\n",
      " Bulk Discounts                 |     0\n",
      " OPENLOGI                       |     0\n",
      " CTA Now ‑ Sticky Mobile Button |     0\n",
      " Retentify ‑ Customer Retention |     0\n",
      " Pakettikauppa                  |     0\n",
      " NS8 Visitors                   |     0\n",
      " WC Fulfillment Print on Demand |     0\n",
      " Video Ads Builder              |     0\n",
      " BON2tv Shopping                |     0\n",
      " eFulfillment Service           |     0\n",
      " Fuel: Print on Demand          |     0\n",
      " MyParcel NL                    |     0\n",
      " Constant Contact               |     0\n",
      " Upsell Recommendations         |     0\n",
      " Image Optimize                 |     0\n",
      " Wanelo                         |     0\n",
      " Digital Downloads              |     0\n",
      " Dostavista – срочная доставка  |     0\n",
      " Facebook Ads Audit Growth Hero |     0\n",
      " Parcel Perform ‑ Best tracking |     0\n",
      " Olemno Sync                    |     0\n",
      " Metrics Box Email Reports      |     0\n",
      " PixFulfillment                 |     0\n",
      " blu Logistics                  |     0\n",
      " Rivet Works Photos and Videos  |     0\n",
      " Canvath                        |     0\n",
      " Same‑Day Delivery              |     0\n",
      " ThemeWatch ‑ theme backup tool |     0\n",
      " MEMKEN Gift Card w. Blockchain |     0\n",
      " Partial.ly Payment Plans       |     0\n",
      " Youneeq A.I. Personalization   |     0\n",
      " Google Shopping Feed Audit     |     0\n",
      " MultiChannel Sales Manager     |     0\n",
      " On Demand Photo Editing        |     0\n",
      " Troupe ‑ Style On‑Demand       |     0\n",
      " MoonMail Recover Checkouts     |     0\n",
      " Loyaltyplex                    |     0\n",
      " SKYOU                          |     0\n",
      " RageOn Connect                 |     0\n",
      " Zillafy Free Exit Intent Popup |     0\n",
      " Abandoned Cart Messenger+Wheel |     0\n",
      " Printrove ‑ Print & Dropship   |     0\n",
      " Customer insights & analytics  |     0\n",
      " netParcel                      |     0\n",
      " Page Speed Optimizer ‑ FREE    |     0\n",
      " BFCM Cozy Recover Sales By Tab |     0\n",
      " Vela                           |     0\n",
      " Springbot Marketing Automation |     0\n",
      " Way2Enjoy Image Optimizer      |     0\n",
      " Apliiq Dropship                |     0\n",
      " Add to Cart bar by Stickify    |     0\n",
      " Delightful Email by Ecango     |     0\n",
      " Printy6                        |     0\n",
      " Teescape Fulfillment           |     0\n",
      " Mailjoy Postcard Marketing     |     0\n",
      " TrackingMore ‑ Order Tracking  |     0\n",
      " Tshirtgang TShirt Fulfillment  |     0\n",
      " Klaviyo: Marketing Automation  |     0\n",
      " Facebook Ads and Instagram Ads |     0\n",
      " Bulk Account Invite Sender     |     0\n",
      " Diamond Table                  |     0\n",
      " Accessibility Assistant        |     0\n",
      " Modalyst ‑ Sell to Retailers   |     0\n",
      " Arka Packaging                 |     0\n",
      " CutOutWiz                      |     0\n",
      " Code Customizer                |     0\n",
      " Omega Instant Search           |     0\n",
      " QD (Quantity Breaks/Discounts) |     0\n",
      " Reviify ‑ AliExpress Reviews   |     0\n",
      " Globo Mega Menu                |     0\n",
      " Thank You Email by Autoketing  |     0\n",
      " Shopoo ‑ Premium Dropshipping  |     0\n",
      " Glazfit                        |     0\n",
      " Storakle                       |     0\n",
      " Sales Pop ‑ Popup Notification |     0\n",
      " ShopHero                       |     0\n",
      " Shop Instagram & UGC           |     0\n",
      " PreOrder Hero ‑FREE Pre Order  |     0\n",
      " Advanced Reports               |     0\n",
      " Clau.io Loyalty                |     0\n",
      " Smart Email Marketing          |     0\n",
      " Customer Segment Builder       |     0\n",
      " POS fiscal printer             |     0\n",
      " HelpCenter                     |     0\n",
      " Reviews, Loyalty, Wishlist, +  |     0\n",
      " Product + Packages Price Table |     0\n",
      " SB (Free Shipping Bar)         |     0\n",
      " CT (Countdown Timer Bar)       |     0\n",
      " Kmetric ‑ Real‑time Analytics  |     0\n",
      " Spin Studio ‑ Spinning Images  |     0\n",
      " PageFly Advanced Page Builder  |     0\n",
      " Smart Inventory                |     0\n",
      " Easy Upsell Cross‑sell         |     0\n",
      " Our Story                      |     0\n",
      " Omega Shopping Feeds           |     0\n",
      " Instant Product Video Ad Maker |     0\n",
      " Ali Orders AliExpress Dropship |     0\n",
      " Zinrelo Loyalty Rewards        |     0\n",
      " Discount Master ‑ Quantity     |     0\n",
      " Upsell X                       |     0\n",
      " SP (Sales Popup)               |     0\n",
      " Dropshipping Unite Aliexpress  |     0\n",
      " Lopster ‑ Edit order by .Brick |     0\n",
      " Back In Stock via Messenger    |     0\n",
      " Store Locator ‑ W3             |     0\n",
      " Globo Sticky Add To Cart       |     0\n",
      " Animify – Storefront Animation |     0\n",
      " Rad Product Feeds              |     0\n",
      " Worldphoneize!                 |     0\n",
      " Ryviu: Product Review Platform |     0\n",
      " Awesome Store Locator          |     0\n",
      " LiveSupporti ‑ Live Chat       |     0\n",
      " Integration with FGO invoicing |     0\n",
      " Contactly                      |     0\n",
      " BookingMap by VT Labs          |     0\n",
      " Store Locator by Metizsoft     |     0\n",
      " Sesami: Appointment Booking    |     0\n",
      " Shipping Bar Master‑Autoketing |     0\n",
      " StoreYa Facebook store         |     0\n",
      " In Cart Upsell                 |     0\n",
      " Widgetic (Image Hotspots)      |     0\n",
      " Checkout Share                 |     0\n",
      " Bundlo: Products Bundle        |     0\n",
      " Variants Options Products      |     0\n",
      " Insight Magic                  |     0\n",
      " viaGlamour Cosmetics           |     0\n",
      " StockKeeper                    |     0\n",
      " OnVoard                        |     0\n",
      " Lottery – Smart Cross‑Sells    |     0\n",
      " eBay Marketplace Integration   |     0\n",
      " MailChimp Forms by MailMunch   |     0\n",
      " Kapful‑Product Discovery Popup |     0\n",
      " Exit Intent Popup by OptiMonk  |     0\n",
      " Instant Search & Smart Filters |     0\n",
      " Qteedy                         |     0\n",
      " Delivery Time Guru             |     0\n",
      " YouTube + Vimeo Video Gallery  |     0\n",
      " Personal Discount              |     0\n",
      " Giftee                         |     0\n",
      " Charge Rabbit                  |     0\n",
      " Kudobuzz SEO                   |     0\n",
      " Quick View by Secomapp         |     0\n",
      " Meteor Mega Menu               |     0\n",
      " Discount Board                 |     0\n",
      " ReviewCaddy                    |     0\n",
      " Pure Chat ‑ Free Live Chat     |     0\n",
      " Campaignified                  |     0\n",
      " Conversific ‑ Store Analytics  |     0\n",
      " Raid Funnels                   |     0\n",
      " Photo Editor + Stock Images    |     0\n",
      " Popup | Pop up Notifications   |     0\n",
      " Gallery By EA ‑ Image + Video  |     0\n",
      " Privy ‑ Exit Pop Ups & Email   |     0\n",
      " Customer  & Cart Attribute     |     0\n",
      " SMS Notifications              |     0\n",
      " Uplogic AI Search              |     0\n",
      " Wholesale Hero ‑ Wholesale     |     0\n",
      " Omnified                       |     0\n",
      " Smile: Rewards & Loyalty       |     0\n",
      " Widgetic (Accordion Gallery)   |     0\n",
      " Bold Brain ‑ AI for your store |     0\n",
      " Glow Rewards & Loyalty         |     0\n",
      " Printify: Print on Demand      |     0\n",
      " Bold Loyalty Points & Rewards  |     0\n",
      " Incentivise Loyalty & Rewards  |     0\n",
      " Lootly Loyalty & Rewards       |     0\n",
      " Vizard ‑ Instant Video Maker   |     0\n",
      " Back In Stock: Customer Alerts |     0\n",
      " Quickbooks Sync by Bold        |     0\n",
      " Business Profile ‑ About Us    |     0\n",
      " Sky Pilot                      |     0\n",
      " SimplyTick                     |     0\n",
      " Bulk Price Editor & Discounts  |     0\n",
      " PayHelm ‑ Analytics & Reports  |     0\n",
      " Advanced Pre‑Order             |     0\n",
      " Discount Ninja                 |     0\n",
      " Shopimail                      |     0\n",
      " YouTube + Vimeo Video Slider   |     0\n",
      " Countdown Timer by POWr        |     0\n",
      " Social Proof | Comments        |     0\n",
      " Track Your Store Sales Chatbot |     0\n",
      " MailMunch ‑ Email Popup        |     0\n",
      " Superchargify ‑ AMP + PWA      |     0\n",
      " AMP by Ampify Me               |     0\n",
      " StarUpon: Survey Automations   |     0\n",
      " AMP by Shop Sheriff            |     0\n",
      " Wholesale + Ambassador Forms   |     0\n",
      " Easy Sync                      |     0\n",
      " Tabs by Station                |     0\n",
      " Passwordless Social Login      |     0\n",
      " SumatoCommerce AI Search       |     0\n",
      " Email Alchemy                  |     0\n",
      " Satellite                      |     0\n",
      " Email Popup by fewtaps         |     0\n",
      " Sale Spinner: For Each Product |     0\n",
      " Broken Link Manager‑ Automated |     0\n",
      " Invoice Browse                 |     0\n",
      " Widgetic (Social Media Grid)   |     0\n",
      " Aliexpress Reviews Importer    |     0\n",
      " Best Sellers by Country        |     0\n",
      " Customer.guru Net Promoter NPS |     0\n",
      " Banner Slider by Secomapp      |     0\n",
      " Widgetic (Video Player)        |     0\n",
      " Global Currency Converter      |     0\n",
      " ChatLi Post Purchase Chatbot   |     0\n",
      " Facebook Chat | Messenger Chat |     0\n",
      " Map + Store Locator            |     0\n",
      " Chaty: All‑In‑One Chat Button  |     0\n",
      " Hit Counter                    |     0\n",
      " WhatsApp Chat + Abandoned Cart |     0\n",
      " WhatsApp Chat + Cart Recovery  |     0\n",
      " Sumo: Boost Conversion & Sales |     0\n",
      " Instant Search +               |     0\n",
      " Back In Stock (In Stock Alert) |     0\n",
      " Form Builder | Mailchimp Forms |     0\n",
      " Facebook Feed | Social Proof   |     0\n",
      " Comity                         |     0\n",
      " Rabbit SEO                     |     0\n",
      " Loyalty, Rewards & Referrals   |     0\n",
      " Rating‑Widget: 5‑Star Reviews  |     0\n",
      " Profitario                     |     0\n",
      " Widgetic (News Headlines)      |     0\n",
      " Crush.pics Image Optimizer     |     0\n",
      " Quiz for Coupon                |     0\n",
      " Visceral Gallery + Slider      |     0\n",
      " Facebook & Google Easy Ads     |     0\n",
      " Sling                          |     0\n",
      " InstaStories                   |     0\n",
      " Product Previewer              |     0\n",
      " Know Your Customer             |     0\n",
      " Aftersales Repair Support      |     0\n",
      " Marsello | Email & Loyalty     |     0\n",
      " Areviews ‑  Reviews Importer   |     0\n",
      " Visitors Proof ‑ Sales Popup   |     0\n",
      " PushEngage Push Notifications  |     0\n",
      " Bonify Customer Account Fields |     0\n",
      " XO Scroll to Top               |     0\n",
      " Store Mangment By Vertibrix    |     0\n",
      " UserGems                       |     0\n",
      " Power Order Status Tracker     |     0\n",
      " Sputnik ‑ SEO Setup            |     0\n",
      " Widgetic (Before and After)    |     0\n",
      " Spocket: EU & US Dropshipping  |     0\n",
      " Product Lookup Form            |     0\n",
      " Hurdlr ‑ Expense Tracker       |     0\n",
      " Widgetic (FAQ Accordion)       |     0\n",
      " Customized ‑ Print on Demand   |     0\n",
      " Widgetic (Post It Notes)       |     0\n",
      " Shop The Look ‑ Upsell Bundles |     0\n",
      " Product Promoter               |     0\n",
      " FetchApp                       |     0\n",
      " Covet.pics ‑ Instagram Gallery |     0\n",
      " Widgetic (Maps)                |     0\n",
      " Refericon                      |     0\n",
      " Abandoned Cart Web Push        |     0\n",
      " Panda Catalog                  |     0\n",
      " Weather by POWr                |     0\n",
      " Richpanel Customer Service App |     0\n",
      " PushAlert ‑ Web Push           |     0\n",
      " Image Slider + Carousel        |     0\n",
      " XO Insert Code                 |     0\n",
      " ListR Store Locator            |     0\n",
      " FanCourier Integration         |     0\n",
      " Quest                          |     0\n",
      " Callback Button                |     0\n",
      " Instagram Feed | Social Proof  |     0\n",
      " Widgetic (Audio Players)       |     0\n",
      " Storify: Stories that convert  |     0\n",
      " Nextsale Social Proof, Urgency |     0\n",
      " Swiss Post Label Printer       |     0\n",
      " Widgetic (Mosaic Gallery)      |     0\n",
      " FAQ by POWr                    |     0\n",
      " KungFu Notify                  |     0\n",
      " FREE Tabs ‑ Easy Product Tabs  |     0\n",
      " KNB ‑ Image SEO Alt Text       |     0\n",
      " PriceWhiz                      |     0\n",
      " Photo Gallery + Lookbook       |     0\n",
      " Tracktor Order Tracking        |     0\n",
      " Social Media Icons             |     0\n",
      " PWA by Ampify Me               |     0\n",
      " Product Labels                 |     0\n",
      " Zelina                         |     0\n",
      " xConnector                     |     0\n",
      " Chop                           |     0\n",
      " Survey + Poll                  |     0\n",
      " Walmart Importer               |     0\n",
      " Custom Fields                  |     0\n",
      " CC ‑ Video & Photo Reviews     |     0\n",
      " PressKitHero                   |     0\n",
      " Product Warnings on Checkout   |     0\n",
      " HTML5 Flipbook                 |     0\n",
      " Contact Us Form ‑ Contact Form |     0\n",
      " Automatic Discount             |     0\n",
      " BFCM App ‑ EVM Spin Wheel      |     0\n",
      " Thinkific ‑ Online Courses     |     0\n",
      " Wishlist Pro                   |     0\n",
      " In Stock Alerts                |     0\n",
      " DPD Integration                |     0\n",
      " Accentuate Custom Fields       |     0\n",
      " Wishlist Plus                  |     0\n",
      " Promotion Bar                  |     0\n",
      " OrderCup                       |     0\n",
      " Smart Labels                   |     0\n",
      " Shopkeeper Gift Cards          |     0\n",
      " Wipeout                        |     0\n",
      " Sendtinel                      |     0\n",
      " TrendSeam Sales Reporting      |     0\n",
      " Pathfinder                     |     0\n",
      " Good Galleries                 |     0\n",
      " Upsell with AI recommendations |     0\n",
      " Banner Slideshow               |     0\n",
      " AskReorder ‑ Retarget Customer |     0\n",
      " SEO Master ‑ Image Alt Text    |     0\n",
      " Localizer                      |     0\n",
      " Custom JavaScript & jQuery     |     0\n",
      " Xero Integration by Bold       |     0\n",
      " Instant Upsell                 |     0\n",
      " Texting and Live Chat Support  |     0\n",
      " FB Messenger Marketing & Sales |     0\n",
      " WhatsApp Chat and Share        |     0\n",
      " Free Shipping Popup            |     0\n",
      " Bulk Metafields Edit           |     0\n",
      " GDPR Cookie Optimizer          |     0\n",
      " EasyBulkFulfill                |     0\n",
      " Pixelpop Popups & Banners      |     0\n",
      " PushOwl Web Push Notifications |     0\n",
      " Quick view and Quick shop      |     0\n",
      " Shoppable Fashion Galleries    |     0\n",
      " viigii                         |     0\n",
      " Gameball: Badges & Rewards     |     0\n",
      " Revamp CRM (Wholesale, Retail) |     0\n",
      " Features Section               |     0\n",
      " Google Customer Reviews        |     0\n",
      " Merchant Mail                  |     0\n",
      " Zero ‑ Free Shipping Bar       |     0\n",
      " Rentals and Reservations       |     0\n",
      " Cart Convert‑Upsell Cross‑sell |     0\n",
      " Display Ad Generator           |     0\n",
      " shipcon                        |     0\n",
      " Purchase Motivation Popup      |     0\n",
      " Quick Announcement Bar         |     0\n",
      " iZooto Web Push Notifications  |     0\n",
      " Easy Redirects by ESC          |     0\n",
      " Free Trust Badge               |     0\n",
      " Fablet                         |     0\n",
      " Improved Contact Form          |     0\n",
      " Yapaytech Personalize          |     0\n",
      " Order Delivery Date Selector   |     0\n",
      " Social Testimonial Slider      |     0\n",
      " Customer Account Page + More   |     0\n",
      " AskNed Conversion Insights     |     0\n",
      " Google Ads & Google Shopping   |     0\n",
      " PWA Pro with Caching           |     0\n",
      " Smart Shipping Bar             |     0\n",
      " Dcode ‑ Discount codes in Cart |     0\n",
      " Countdown Sales Timer          |     0\n",
      " ShippingEasy                   |     0\n",
      " Wholesale Pricing Now          |     0\n",
      " Robin PRO Image Gallery        |     0\n",
      " AfterShip Returns Center       |     0\n",
      " Rebuy: Email Upsell Cross‑Sell |     0\n",
      " Cricket Returns                |     0\n",
      " Text Alerts By LiftMetrics     |     0\n",
      " Google Shopping (FREE 4 BF)    |     0\n",
      " Today's Offers                 |     0\n",
      " Email Reports by Ablestar      |     0\n",
      " Messenger Chatbot Marketing    |     0\n",
      " Alice Commerce                 |     0\n",
      " AfterShip ‑ Track & Notify     |     0\n",
      " Supercharged Store Emails      |     0\n",
      " GrooveJar ‑ Conversion Tools   |     0\n",
      " Total Email Popup              |     0\n",
      " AZEXO Free Page Builder        |     0\n",
      " Daily Deals ‑ Schedule Sales   |     0\n",
      " Ako Facebook Retargeting Ads   |     0\n",
      " BFCM Cozy Image Gallery onSale |     0\n",
      " TRUST                          |     0\n",
      " Link Manager                   |     0\n",
      " Olio Instant Search            |     0\n",
      " Kudobuzz Multichannel          |     0\n",
      " Product Questions and Answers  |     0\n",
      " Ultimate Scarcity Pro          |     0\n",
      " Event Ticketing                |     0\n",
      " FavSEO                         |     0\n",
      " Uptra                          |     0\n",
      " Formilla Live Chat             |     0\n",
      " XE Currency Converter          |     0\n",
      " Image Optimizer & Watermark    |     0\n",
      " ActionFeed                     |     0\n",
      " Bulk Products Editor           |     0\n",
      " SatisMeter                     |     0\n",
      " Gleam Competitions             |     0\n",
      " Parachute by Cleverific        |     0\n",
      " Flashy ‑ Marketing Automation  |     0\n",
      " Social Coupon Popup            |     0\n",
      " Post Purchase Upselly          |     0\n",
      " Instant Giveaway               |     0\n",
      " Unlimited Bundles & Discounts  |     0\n",
      " Checkout Upsell Post Purchase  |     0\n",
      " Subscribers Web Push           |     0\n",
      " ShopySlack ‑ Gateway to Slack  |     0\n",
      " Simplebooklet                  |     0\n",
      " Countdown Timer Ultimate       |     0\n",
      " SmartrMail Email Marketing     |     0\n",
      " Smart Capture                  |     0\n",
      " SellUp • Free Upsell App       |     0\n",
      " SEO Image Optimizer ‑ Auto SEO |     0\n",
      " Bulk Product Edit & CSV import |     0\n",
      " Kiwi Size Chart & Recommender  |     0\n",
      " Buy Now Button: Amazon & more  |     0\n",
      " Pretty Free Shipping Goal Bar  |     0\n",
      " Store Locator by Secomapp      |     0\n",
      " ICONX ‑ Free GDPR & Mini Menu  |     0\n",
      " Quantity Breaks & Discounts    |     0\n",
      " Translate your shop ConveyThis |     0\n",
      " Secomapp: Affiliate Marketing  |     0\n",
      " Currency Converter HQ          |     0\n",
      " Blingy: Jewelry Dropshipping   |     0\n",
      " Wishlist PRO                   |     0\n",
      " LeftBrain                      |     0\n",
      " Toast – Non‑intrusive Popups   |     0\n",
      " Push Monkey ‑ Retention Tools  |     0\n",
      " SEO Image Optimizer & Resizer  |     0\n",
      " Justuno Pop Ups & CRO Tools    |     0\n",
      " Bleeper Live Chat              |     0\n",
      " Shop Secure                    |     0\n",
      " Besto: Best Sellers Collection |     0\n",
      " SizeType                       |     0\n",
      " Order Printer Pro              |     0\n",
      " Wishlist ‑ Wishify             |     0\n",
      " Quantity Breaks Now ‑Discounts |     0\n",
      " Sales Motivator Bar by Revy    |     0\n",
      " Pro Affiliate Marketing        |     0\n",
      " Sparq | Instant & Smart Search |     0\n",
      " GMCFeed                        |     0\n",
      " Scout ‑ 1 on 1 Customer Alerts |     0\n",
      " Product Countdown Pro          |     0\n",
      " Orderv                         |     0\n",
      " SEO Booster ‑ SEO Marketing    |     0\n",
      " Announcement Bar Maker         |     0\n",
      " Simple Map                     |     0\n",
      " Movo ‑ Discount & Free Gift    |     0\n",
      " Smart Tags                     |     0\n",
      " Panda Product Gallery          |     0\n",
      " Buddha Mega Menu               |     0\n",
      " Instant Buy                    |     0\n",
      " EZ Notify ‑ Slack Integration  |     0\n",
      " ProductPro                     |     0\n",
      " Aliexpress Dropshipping & More |     0\n",
      " Upsell Now ‑ Free Upsell App!  |     0\n",
      " Pre‑Order Manager 2.0 PreOrder |     0\n",
      " Currency Switcher by Secomapp  |     0\n",
      " ProSEOTracker                  |     0\n",
      " Stock Sync ‑ Inventory Update  |     0\n",
      " SEO Images All‑In‑One          |     0\n",
      " Editorify ‑ Product Reviews    |     0\n",
      " Mass Edit by Seller Panda      |     0\n",
      " Gravy Sales and Marketing      |     0\n",
      " Beardsy: Hair Care Dropshipper |     0\n",
      " Rivyo Product Review           |     0\n",
      " Newegg Marketplace Integration |     0\n",
      " Livezify ‑ Live Chat           |     0\n",
      " Easy Announce Bar              |     0\n",
      " Metafields Custom Field Master |     0\n",
      " Instant Sales Notifications    |     0\n",
      " Free Shipping Bar              |     0\n",
      " Beauty Clout                   |     0\n",
      " Form Builder with File Upload  |     0\n",
      " Verisart                       |     0\n",
      " Dropship Beauty                |     0\n",
      " URL Short Link Generator       |     0\n",
      " Tidio Live Chat                |     0\n",
      " Showcase ‑ Shop Instagram      |     0\n",
      " TagTray                        |     0\n",
      " Collection Import/Export & SEO |     0\n",
      " Best Fit ‑ Size Charts         |     0\n",
      " Infinite Product Options       |     0\n",
      " Inventorify                    |     0\n",
      " InstaShop: Shoppable Instagram |     0\n",
      " Rendezvous Recommendations     |     0\n",
      " Muzeboard                      |     0\n",
      " 123FormBuilder                 |     0\n",
      " Disco: Countdown Bar Sale App  |     0\n",
      " Delivery Date by StreamThing   |     0\n",
      " Instant Traffic & Ads          |     0\n",
      " Volume & Tiered Discounts      |     0\n",
      " Japan Order CSV                |     0\n",
      " Personalized Recommendations   |     0\n",
      " Erply POS Integration          |     0\n",
      " UPS Access Point Service       |     0\n",
      " Click and Collect by HubBox    |     0\n",
      " Hitsteps Analytics             |     0\n",
      " Shop Workflow Automation       |     0\n",
      " Fraud Scanner                  |     0\n",
      " Naiz Fit Chart: Recommend Size |     0\n",
      " Conversion Plus                |     0\n",
      " Bulk Image Edit ‑ Image SEO    |     0\n",
      " Email Collection Bar           |     0\n",
      " AiTrillion Marketing Automated |     0\n",
      " Active Cart ‑ Exciting Rewards |     0\n",
      " Discount Product Feed          |     0\n",
      " Ultimate Sales Boost           |     0\n",
      " Lookbook ‑ Shop by Gallery     |     0\n",
      " Currency Converter Ultimate    |     0\n",
      "(1496 rows)\n",
      "\n"
     ]
    }
   ],
   "source": [
    "#The count of the queries is 1496\n",
    "!psql -c \"SELECT shopify.apps.title, shopify.pricing_plans.price from shopify.apps full join shopify.pricing_plans on shopify.apps.id = shopify.pricing_plans.app_id where price = 0 OR shopify.apps.title is null\""
   ]
  },
  {
   "cell_type": "code",
   "execution_count": 104,
   "metadata": {},
   "outputs": [
    {
     "name": "stdout",
     "output_type": "stream",
     "text": [
      "                  id                  |             developer             |             title              | rating \n",
      "--------------------------------------+-----------------------------------+--------------------------------+--------\n",
      " 1c68fab5-7df6-4fb8-90ee-c8ad03d48747 | App Developer Group               | Ordering Rules ‑ Fraud Blocker |      5\n",
      " 607e2d30-1385-4826-a3a6-1fba0ffca7a8 | beeclever                         | Embargo Shield                 |      5\n",
      " 65b22742-6a8b-4c4f-b8f2-33025f1a1e6c | Coupo                             | Coupo Trust Badge              |      5\n",
      " 8785d00f-6652-495d-a5e8-18e488e42839 | LitExtension                      | LitExtension Store Migration   |      5\n",
      " 3ea45eed-1606-4be5-a93c-21ecbc9f413f | Dimension Software                | Passwordless Social Login      |      5\n",
      " 6d830a4d-bda6-4a91-b1a0-80a124cc7290 | CedCommerce                       | Omni Migrator                  |      5\n",
      " 6ca391f3-cd0f-4059-a436-50b4ab238212 | iSenseLabs                        | Free GDPR + Cookie Management  |      5\n",
      " 95368b79-2ca2-4eeb-a02d-a2484275d46a | Varinode, Inc.                    | TRUST                          |    4.9\n",
      " 30b2e816-061c-46f5-afa5-9f2c94c344e5 | Accentuate Digital                | Accentuate Custom Fields       |    4.9\n",
      " c578d9da-7776-4d7d-86b6-9efe431d9c9c | 256 Development                   | Metafields Guru                |    4.9\n",
      " 30402fc6-2cce-4217-b594-8bb7a84e5208 | Booster Apps                      | Trust Hero ‑ FREE Trust Badges |    4.8\n",
      " 7dec7abb-d616-4d11-889b-a286445ef257 | Wholesale Helper                  | Wholesale Lock Manager         |    4.8\n",
      " 70bff9e0-4316-4cc6-84ce-92fcd1bc6925 | Booster Apps                      | EU Cookie Bar ‑ Cookie GDPR    |    4.7\n",
      " 50aaa827-1a4f-4ffd-8bd6-8e6aade34853 | TrustedSite                       | TrustedSite                    |    4.6\n",
      " 00312cea-3595-4d65-a60d-6e8e5b7d6897 | Human Presence Technology         | Shop Protector                 |    4.3\n",
      " 50c93b6e-3b16-4eeb-afd8-b3d883f49c79 | webserviceXXL                     | Terms Confirmation Checkbox    |    4.3\n",
      " 967aa13b-bd5a-4397-8bee-ceaf52772288 | Vilango GmbH + Trusted Shops GmbH | Trustbadge: Reviews Toolkit    |    4.1\n",
      " f6961d6d-ae13-45a9-bbf9-f2a670840ec2 | Shopify                           | Fraud Filter                   |    3.3\n",
      " 9906834d-1323-4033-a3e6-976448273c27 | Shoptigrator                      | Zero Spam Contact Form         |      3\n",
      " 3ebc2404-f110-4b83-b4cf-e22a8d7f4401 | Booster Apps                      | Store Scanner Hero             |    2.3\n",
      " 822217d1-a882-4293-b681-ce29b37c8e7f | Zestard Technologies Pvt Ltd      | Anywhere Custom Forms          |      0\n",
      " e0399fb4-5678-48ef-b8b8-21ea2cad1317 | Coalition, Inc.                   | Cyber Insurance                |      0\n",
      " e0399fb4-5678-48ef-b8b8-21ea2cad1317 | Coalition, Inc.                   | Cyber Insurance                |      0\n",
      " c09427b5-eb85-4944-a8de-ab664ceb9d3c | Alchemative (SMC-PVT) LTD         | Call Courier                   |      0\n",
      "(24 rows)\n",
      "\n"
     ]
    }
   ],
   "source": [
    "!psql -c\"SELECT shopify.apps.id, developer, shopify.apps.title, rating FROM shopify.apps join shopify.key_benefits on shopify.apps.id = shopify.key_benefits.app_id WHERE    LOWER(shopify.key_benefits.title) LIKE '%security%' OR    LOWER(description) LIKE '%security%' ORDER BY rating DESC;\""
   ]
  },
  {
   "cell_type": "code",
   "execution_count": null,
   "metadata": {},
   "outputs": [],
   "source": []
  }
 ],
 "metadata": {
  "environment": {
   "kernel": "python3",
   "name": "common-cpu.m111",
   "type": "gcloud",
   "uri": "gcr.io/deeplearning-platform-release/base-cpu:m111"
  },
  "kernelspec": {
   "display_name": "Python 3",
   "language": "python",
   "name": "python3"
  },
  "language_info": {
   "codemirror_mode": {
    "name": "ipython",
    "version": 3
   },
   "file_extension": ".py",
   "mimetype": "text/x-python",
   "name": "python",
   "nbconvert_exporter": "python",
   "pygments_lexer": "ipython3",
   "version": "3.10.12"
  }
 },
 "nbformat": 4,
 "nbformat_minor": 4
}

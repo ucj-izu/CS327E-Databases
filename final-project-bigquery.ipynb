{
 "cells": [
  {
   "cell_type": "code",
   "execution_count": 14,
   "id": "e334e382-29c8-41e3-9acc-b2abf023ca86",
   "metadata": {},
   "outputs": [],
   "source": [
    "PROJECT = \"unified-canyon-397523\"\n",
    "DATASET = \"final_project\"\n",
    "REGION = \"us-west1\""
   ]
  },
  {
   "cell_type": "code",
   "execution_count": 20,
   "id": "20b4968c-84f1-410f-96ac-435d68404469",
   "metadata": {},
   "outputs": [
    {
     "name": "stdout",
     "output_type": "stream",
     "text": [
      "CREATE OR REPLACE TABLE final_project.currency(\n",
      "    curr_code STRING NOT NULL,\n",
      "    curr_name STRING NOT NULL,\n",
      "    cntry_code STRING NOT NULL,\n",
      "    cntry_name STRING NOT NULL, \n",
      "    )\n",
      "\n"
     ]
    }
   ],
   "source": [
    "from google.cloud import bigquery\n",
    "\n",
    "client = bigquery.Client(project=PROJECT, location=REGION)\n",
    "\n",
    "ddl = '''CREATE OR REPLACE TABLE final_project.currency(\n",
    "    curr_code STRING NOT NULL,\n",
    "    curr_name STRING NOT NULL,\n",
    "    cntry_code STRING NOT NULL,\n",
    "    cntry_name STRING NOT NULL, \n",
    "    )\n",
    "'''\n",
    "\n",
    "print(ddl)\n",
    "\n",
    "try:\n",
    "    query_job = client.query(ddl)\n",
    "    query_job.result()\n",
    "except Exception as e:\n",
    "    print(\"Error occurred while creating table:\", e)"
   ]
  },
  {
   "cell_type": "code",
   "execution_count": null,
   "id": "3116f413-2ed3-419f-8d24-02a425eff5a8",
   "metadata": {},
   "outputs": [],
   "source": [
    "from faker import Faker\n",
    "from google.cloud import bigquery\n",
    "import random\n",
    "\n",
    "fake = Faker()\n",
    "\n",
    "client = bigquery.Client(project=PROJECT, location=REGION)\n",
    "\n",
    "num_records = 30\n",
    "record = []\n",
    "\n",
    "\n",
    "cnt = ['MC', 'HR', 'MY', 'DK', 'KR', 'GH', 'CU', 'JM', 'RU', 'CG', 'ME', 'MD', 'BT', 'JM', 'CV', 'UY', 'UZ', 'TJ', 'CG', 'DE', 'TO', 'MC', 'SO', 'LV', 'ZW', 'SY', 'KR', 'SM', 'FJ', 'BY', 'FJ', 'EE', 'TL', 'BO', 'GR', 'GW', 'UY', 'KN', 'MY', 'UY', 'TD', 'KN', 'MR', 'TZ', 'UG', 'LK', 'TL', 'MN', 'TD', 'TO', 'DM', 'GR', 'UG', 'GN', 'CD', 'BH', 'SL', 'TW', 'PH', 'NI', 'HT', 'NI', 'RW', 'CU', 'BN', 'UZ', 'SY', 'BZ', 'FJ', 'CZ', 'LV', 'CH', 'SE', 'LY', 'BB', 'CF', 'FM', 'KN', 'ES', 'ST', 'CU', 'CM', 'DO', 'IN', 'PA', 'NG', 'PY', 'BB', 'CU', 'CA', 'VC', 'HR', 'AF', 'FI', 'EC', 'TV', 'CI', 'LR', 'ZA', 'KZ']\n",
    "\n",
    "\n",
    "for x in range(num_records):\n",
    "    curr_code = fake.currency_code()\n",
    "    curr_name = fake.currency_name()\n",
    "    cntry_code = cnt[random.randint(0,99)]\n",
    "    cntry_name = fake.country()\n",
    "    \n",
    "\n",
    "    currency = (\n",
    "        curr_code,\n",
    "        curr_name,\n",
    "        cntry_code,\n",
    "        cntry_name\n",
    "    )\n",
    "\n",
    "    record.append(currency)\n",
    "\n",
    "sql = '''INSERT INTO final_project.currency (curr_code,curr_name,cntry_code,cntry_name) \n",
    "         VALUES \n",
    "         (@curr_code,@curr_name,@cntry_code,@cntry_name)'''\n",
    "\n",
    "\n",
    "try:\n",
    "    for rec in record:\n",
    "        query_job = client.query(sql, job_config=bigquery.QueryJobConfig(query_parameters=[\n",
    "            bigquery.ScalarQueryParameter('curr_code', 'STRING', rec[0]),\n",
    "            bigquery.ScalarQueryParameter('curr_name', 'STRING', rec[1]),\n",
    "            bigquery.ScalarQueryParameter('cntry_code', 'STRING', rec[2]),\n",
    "            bigquery.ScalarQueryParameter('cntry_name', 'STRING', rec[3]),\n",
    "        ]))\n",
    "        query_job.result()\n",
    "    print('Wrote 30 records into currency table')\n",
    "except Exception as e:\n",
    "    print(\"Error occurred while writing to table:\", e)"
   ]
  },
  {
   "cell_type": "code",
   "execution_count": null,
   "id": "698c112d-0dc2-4f8c-9644-b0bf5640894d",
   "metadata": {},
   "outputs": [],
   "source": []
  }
 ],
 "metadata": {
  "environment": {
   "kernel": "python3",
   "name": "common-cpu.m111",
   "type": "gcloud",
   "uri": "gcr.io/deeplearning-platform-release/base-cpu:m111"
  },
  "kernelspec": {
   "display_name": "Python 3",
   "language": "python",
   "name": "python3"
  },
  "language_info": {
   "codemirror_mode": {
    "name": "ipython",
    "version": 3
   },
   "file_extension": ".py",
   "mimetype": "text/x-python",
   "name": "python",
   "nbconvert_exporter": "python",
   "pygments_lexer": "ipython3",
   "version": "3.10.12"
  }
 },
 "nbformat": 4,
 "nbformat_minor": 5
}

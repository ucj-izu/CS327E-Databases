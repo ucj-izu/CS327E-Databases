{
 "cells": [
  {
   "cell_type": "code",
   "execution_count": 8,
   "id": "c35721a3-ae3b-498c-8d0e-8333c13454b2",
   "metadata": {},
   "outputs": [
    {
     "name": "stdout",
     "output_type": "stream",
     "text": [
      "\"bigquery\"\n",
      "\"mongo\"\n",
      "\"mysql\"\n",
      "\"postgres\"\n",
      "\"system\"\n",
      "\"tpch\"\n"
     ]
    }
   ],
   "source": [
    "URL = \"http://10.206.0.2:8080\"\n",
    "\n",
    "!trino $URL --execute \"show catalogs\"\n"
   ]
  },
  {
   "cell_type": "code",
   "execution_count": 9,
   "id": "2ec37cb6-b759-4f71-9550-c34a4f64d530",
   "metadata": {},
   "outputs": [],
   "source": [
    "#Q1"
   ]
  },
  {
   "cell_type": "code",
   "execution_count": 77,
   "id": "9582515e-5d32-41e2-907c-7e1b5983db66",
   "metadata": {},
   "outputs": [
    {
     "name": "stdout",
     "output_type": "stream",
     "text": [
      "\"100ff8b0-30c4-42c6-857e-8a4f75cef62a\",\"lindsey10@example.net\",\"1\"\n"
     ]
    }
   ],
   "source": [
    "#Our database faker didn't generate any country codes in the US so I had to use the MV country code which the TA said is okay\n",
    "!trino $URL --execute \"\\\n",
    "SELECT s.cust_id, s.email, COUNT(r.res_id) AS reservation_count\\\n",
    "FROM postgres.final_project.reservation r \\\n",
    "JOIN mysql.final_project.shopper s ON r.cust_id = s.cust_id \\\n",
    "JOIN bigquery.final_project.currency c ON c.cntry_code=r.cnt_code\\\n",
    "WHERE r.city <> s.city \\\n",
    "AND c.curr_code = 'ANG' \\\n",
    "GROUP BY s.cust_id, s.email \\\n",
    "ORDER BY s.cust_id \\\n",
    "LIMIT 5\""
   ]
  },
  {
   "cell_type": "code",
   "execution_count": 14,
   "id": "1d24f573-6ecb-4dd1-aa90-43d688c07425",
   "metadata": {},
   "outputs": [],
   "source": [
    "#Q2"
   ]
  },
  {
   "cell_type": "code",
   "execution_count": 98,
   "id": "e3c1bc83-37d2-43e6-9368-ab1ce60a76a4",
   "metadata": {},
   "outputs": [
    {
     "name": "stdout",
     "output_type": "stream",
     "text": [
      "\"0edcab56-9dd1-4872-ab49-995d2b9a2bd0\",\"anitabriggs@example.com\",\"Allenhaven\",\"2023-12-25T20:01:05.450196\"\n"
     ]
    }
   ],
   "source": [
    "#Our database faker didn't produce any airlines with american airlines so I had to use another airline that produced the most results and the TA said it is okay\n",
    "!trino $URL --execute \"\\\n",
    "    SELECT t.cust_id, s.email, t.dep_airport, t.dep_date\\\n",
    "    FROM mongo.final_project.ticketing t\\\n",
    "    JOIN mysql.final_project.shopper s ON t.cust_id = s.cust_id\\\n",
    "    WHERE t.airline = 'Quinn, Sullivan and Garrison'\\\n",
    "        AND t.stops = 0\\\n",
    "        AND t.dep_date BETWEEN '2020-01-01T15:30:00.000000' AND '2024-12-31T15:30:00.000000'\\\n",
    "    ORDER BY t.dep_date\\\n",
    "    LIMIT 5\""
   ]
  },
  {
   "cell_type": "code",
   "execution_count": 16,
   "id": "07165880-f944-461e-b934-73df6cfcdadb",
   "metadata": {},
   "outputs": [],
   "source": [
    "#Q3"
   ]
  },
  {
   "cell_type": "code",
   "execution_count": 97,
   "id": "eb1e4d3c-01c6-40c2-96f9-c265c872945f",
   "metadata": {},
   "outputs": [
    {
     "name": "stdout",
     "output_type": "stream",
     "text": [
      "\"0edcab56-9dd1-4872-ab49-995d2b9a2bd0\",\"anitabriggs@example.com\",\"8926.25\",\"14388.0\",\"23314.25\"\n",
      "\"bda866f7-28d8-443e-96af-40ef2d49a6c0\",\"jessicacollins@example.org\",\"6304.98\",\"9724.0\",\"16028.98\"\n",
      "\"d2ce4a8e-9666-477c-b72b-b23176ab2679\",\"enguyen@example.org\",\"4937.92\",\"8226.0\",\"13163.92\"\n",
      "\"ce7df055-f3e7-4f59-a5ec-e94b4fbd7406\",\"mcook@example.net\",\"6305.49\",\"5700.0\",\"12005.49\"\n",
      "\"b5ce43a4-75b1-497d-8608-792dbd3a5c94\",\"karen09@example.org\",\"6517.56\",\"3840.0\",\"10357.560000000001\"\n"
     ]
    }
   ],
   "source": [
    "!trino $URL --execute \"\\\n",
    "    SELECT r.cust_id, s.email, SUM(r.pmt_amt) AS pmt_amt, SUM(t.tik_amt) AS tik_amt, SUM(r.pmt_amt) + SUM(t.tik_amt) AS trip_amount\\\n",
    "    FROM postgres.final_project.reservation r\\\n",
    "    JOIN mongo.final_project.ticketing t ON r.cust_id = t.cust_id\\\n",
    "    JOIN mysql.final_project.shopper s ON s.cust_id = r.cust_id\\\n",
    "    WHERE CAST(r.arr_date AS VARCHAR)= SUBSTRING(t.dep_date, 1, 10) AND CAST(r.dep_date AS VARCHAR) = SUBSTRING(t.arr_date, 1, 10)\\\n",
    "    GROUP BY r.cust_id, s.email\\\n",
    "    ORDER BY trip_amount DESC\\\n",
    "    LIMIT 5\""
   ]
  },
  {
   "cell_type": "code",
   "execution_count": null,
   "id": "44c103a6-e9f6-4419-852a-43f14091ad9e",
   "metadata": {},
   "outputs": [],
   "source": [
    "#Trino Evaluation"
   ]
  },
  {
   "cell_type": "code",
   "execution_count": 104,
   "id": "743c94e2-bf2a-4a95-9fcf-84731b68b576",
   "metadata": {},
   "outputs": [
    {
     "name": "stdout",
     "output_type": "stream",
     "text": [
      "CREATE TABLE\n"
     ]
    }
   ],
   "source": [
    "!trino $URL --execute \"\\\n",
    "CREATE TABLE mongo.final_project.new_table (\\\n",
    "    id INT,\\\n",
    "    name VARCHAR\\\n",
    ");\"\n",
    "# Create a new table in the MongoDB database:"
   ]
  },
  {
   "cell_type": "code",
   "execution_count": 106,
   "id": "1d3b0492-d491-4577-a35e-d5fa7626b86f",
   "metadata": {},
   "outputs": [
    {
     "name": "stdout",
     "output_type": "stream",
     "text": [
      "INSERT: 3 rows\n"
     ]
    }
   ],
   "source": [
    "!trino $URL --execute \"\\\n",
    "INSERT INTO mongo.final_project.new_table VALUES\\\n",
    "    (1, 'John'),\\\n",
    "    (2, 'Alice'),\\\n",
    "    (3, 'Bob');\"\n",
    "# Insert some sample data into the newly created table:"
   ]
  },
  {
   "cell_type": "code",
   "execution_count": 108,
   "id": "3efc9f7f-4c90-4089-ac93-3fa08faf968b",
   "metadata": {},
   "outputs": [
    {
     "name": "stdout",
     "output_type": "stream",
     "text": [
      "ADD COLUMN\n"
     ]
    }
   ],
   "source": [
    "!trino $URL --execute \"\\\n",
    "ALTER TABLE mongo.final_project.new_table\\\n",
    "ADD COLUMN age INT;\"\n",
    "# Alter the structure of the new table in MongoDB:"
   ]
  },
  {
   "cell_type": "code",
   "execution_count": 109,
   "id": "1cfabbba-5e31-4724-9463-3ba442d59b7c",
   "metadata": {},
   "outputs": [
    {
     "name": "stdout",
     "output_type": "stream",
     "text": [
      "Query 20231207_054710_00095_hncrz failed: This connector does not support modifying table rows\n",
      "\n"
     ]
    }
   ],
   "source": [
    "!trino $URL --execute \"\\\n",
    "UPDATE mongo.final_project.new_table \\\n",
    "SET age = CASE\\\n",
    "    WHEN id = 1 THEN 25\\\n",
    "    WHEN id = 2 THEN 30\\\n",
    "    WHEN id = 3 THEN 28\\\n",
    "END;\"\n",
    "# Update the age values in the new table:"
   ]
  },
  {
   "cell_type": "code",
   "execution_count": 107,
   "id": "a316ab34-3663-4094-a0f9-46953cf7dd67",
   "metadata": {},
   "outputs": [
    {
     "name": "stdout",
     "output_type": "stream",
     "text": [
      "Query 20231207_054439_00093_hncrz failed: line 1:110: Cannot apply operator: integer = varchar(200)\n",
      "\u001b[36mSELECT n.id, n.name, s.email FROM mongo.final_project.new_table n JOIN mysql.final_project.shopper s ON n.id \u001b[31m= s.cust_id LIMIT 5\n",
      "\u001b[0m\n"
     ]
    }
   ],
   "source": [
    "!trino $URL --execute \"\\\n",
    "SELECT n.id, n.name, s.email\\\n",
    "FROM mongo.final_project.new_table n\\\n",
    "JOIN mysql.final_project.shopper s ON n.id = s.cust_id\\\n",
    "LIMIT 5;\"\n",
    "# Perform a SELECT query involving a join between the new table and the MySQL shopper table:"
   ]
  },
  {
   "cell_type": "code",
   "execution_count": 111,
   "id": "0f0bf775-d04f-405d-879a-aae9418d21bf",
   "metadata": {},
   "outputs": [
    {
     "name": "stdout",
     "output_type": "stream",
     "text": [
      "\"872344fd-60af-4183-a03c-d56c8f8b0805\",\"tiffanyblackwell@example.net\",\"1\"\n",
      "\"97e33f79-faf1-45d5-8a0f-1d8bc53f3022\",\"eserrano@example.net\",\"1\"\n",
      "\"bda866f7-28d8-443e-96af-40ef2d49a6c0\",\"jessicacollins@example.org\",\"1\"\n"
     ]
    }
   ],
   "source": [
    "!trino $URL --execute \"\\\n",
    "SELECT s.cust_id, s.email, COUNT(r.res_id) AS reservation_count\\\n",
    "FROM postgres.final_project.reservation r \\\n",
    "JOIN mysql.final_project.shopper s ON r.cust_id = s.cust_id \\\n",
    "WHERE r.city <> s.city \\\n",
    "AND r.cnt_code = 'MV'\\\n",
    "GROUP BY s.cust_id, s.email \\\n",
    "ORDER BY s.cust_id \\\n",
    "LIMIT 5\"\n",
    "#Finds shoppers who have reservations in a different city from their own city and and are in the country code MV For those shoppers it returns their cust_id, email, along with their reservation count and orders the results by cust_id and limits the results to 5 records.\n"
   ]
  },
  {
   "cell_type": "code",
   "execution_count": 110,
   "id": "eca5e00e-cb54-4d35-bbd8-ef4eb9992a40",
   "metadata": {},
   "outputs": [],
   "source": [
    "!trino $URL --execute \"\\\n",
    "    SELECT t.cust_id, s.email, t.dep_airport, t.dep_date\\\n",
    "    FROM mongo.final_project.ticketing t\\\n",
    "    JOIN mysql.final_project.shopper s ON t.cust_id = s.cust_id\\\n",
    "    WHERE t.airline = 'Quinn, Sullivan and Garrison'\\\n",
    "        AND t.stops = 1\\\n",
    "        AND t.dep_date BETWEEN '2021-01-01T15:30:00.000000' AND '2023-12-31T15:30:00.000000'\\\n",
    "    ORDER BY t.dep_date\\\n",
    "    LIMIT 5\"\n",
    "#Finds the shoppers who bought tickets on Quinn, Sullivan and Garrison with a departure date between 01/01/2021 and 12/31/2023 and returns the shopper’s cust_id, email,dep_airport and dep_date. It then orders the results by dep_date and Limits the results to 5 records"
   ]
  },
  {
   "cell_type": "code",
   "execution_count": 113,
   "id": "4b90c0a9-0ed9-4ef4-ac51-701f044724c9",
   "metadata": {},
   "outputs": [
    {
     "name": "stdout",
     "output_type": "stream",
     "text": [
      "DROP TABLE\n"
     ]
    }
   ],
   "source": [
    "!trino $URL --execute \"\\\n",
    "DROP TABLE mongo.final_project.new_table;\"\n",
    "# Drop the new table in MongoDB:"
   ]
  },
  {
   "cell_type": "code",
   "execution_count": null,
   "id": "2f7401f5-257f-446d-95de-fca9d9c208c3",
   "metadata": {},
   "outputs": [],
   "source": []
  }
 ],
 "metadata": {
  "environment": {
   "kernel": "python3",
   "name": "common-cpu.m111",
   "type": "gcloud",
   "uri": "gcr.io/deeplearning-platform-release/base-cpu:m111"
  },
  "kernelspec": {
   "display_name": "Python 3",
   "language": "python",
   "name": "python3"
  },
  "language_info": {
   "codemirror_mode": {
    "name": "ipython",
    "version": 3
   },
   "file_extension": ".py",
   "mimetype": "text/x-python",
   "name": "python",
   "nbconvert_exporter": "python",
   "pygments_lexer": "ipython3",
   "version": "3.10.12"
  }
 },
 "nbformat": 4,
 "nbformat_minor": 5
}

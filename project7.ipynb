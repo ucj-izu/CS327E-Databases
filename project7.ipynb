{
 "cells": [
  {
   "cell_type": "code",
   "execution_count": 1,
   "id": "07c9906c-e641-4805-9547-d6ca510eccf9",
   "metadata": {},
   "outputs": [
    {
     "name": "stdout",
     "output_type": "stream",
     "text": [
      "env: CYPHER=/usr/bin/cypher-shell\n",
      "env: HOST=neo4j+s://13768751.databases.neo4j.io\n",
      "env: USER=neo4j\n",
      "env: PW=lfnY1rRXaYrkUwQcM993uIL0ohlVBJ-si0phny0gxVs\n"
     ]
    }
   ],
   "source": [
    "%env CYPHER=/usr/bin/cypher-shell\n",
    "%env HOST=neo4j+s://13768751.databases.neo4j.io\n",
    "%env USER=neo4j\n",
    "%env PW=lfnY1rRXaYrkUwQcM993uIL0ohlVBJ-si0phny0gxVs"
   ]
  },
  {
   "cell_type": "code",
   "execution_count": 2,
   "id": "b2c8095e-1953-48ba-8bf0-c52ad45aeb8e",
   "metadata": {},
   "outputs": [],
   "source": [
    "CONNECT=\"$CYPHER -a $HOST -u $USER -p $PW\""
   ]
  },
  {
   "cell_type": "code",
   "execution_count": 3,
   "id": "fd665150-1f15-4d51-bf54-2d453d501b5c",
   "metadata": {},
   "outputs": [],
   "source": [
    "from IPython.core.magic import register_cell_magic\n",
    "import shlex\n",
    "\n",
    "@register_cell_magic('neo')\n",
    "def neo(line, cell):\n",
    "    !{CONNECT} {shlex.quote(cell)}"
   ]
  },
  {
   "cell_type": "code",
   "execution_count": 4,
   "id": "a346da01-60be-4b70-ac2b-ccbe6a7a5d69",
   "metadata": {},
   "outputs": [
    {
     "name": "stdout",
     "output_type": "stream",
     "text": [
      "+-----------------------------------------------------------------------------------------------------------------------------------------------------------------------------------------------------------------------------------------------------------------------------------------------------------+\n",
      "| n                                                                                                                                                                                                                                                                                                         |\n",
      "+-----------------------------------------------------------------------------------------------------------------------------------------------------------------------------------------------------------------------------------------------------------------------------------------------------------+\n",
      "| (:Recipe {preparationTime: 900, name: \"Tomato & mozzarella couscous salad\", description: \"Keep some couscous in your cupboard as a stand-by, it's ready in minutes\", id: \"101233\", skillLevel: \"Easy\", cookingTime: 0})                                                                                   |\n",
      "| (:Recipe {name: \"Baked nectarines & raspberries with almonds & honey\", preparationTime: 900, description: \"One of the simplest ways to showcase summer fruit, this dessert is finished with a crunchy amaretti biscuit and flaked almond topping\", id: \"5257356\", skillLevel: \"Easy\", cookingTime: 1800}) |\n",
      "| (:Recipe {preparationTime: 3600, name: \"Chocolate & caramel ombre cake\", description: \"For the ultimate indulgence look no further than Sarah Cook's four-layered chocolate-caramel extravaganza\", id: \"102539\", skillLevel: \"More effort\", cookingTime: 3300})                                           |\n",
      "| (:Recipe {preparationTime: 0, name: \"Chicken, goat's cheese & cherry tomato bake\", description: \"This is a really easy meal to cook for friends - you can make ahead and keep in the fridge for 24 hours\", id: \"99266\", skillLevel: \"Easy\", cookingTime: 0})                                              |\n",
      "| (:Recipe {name: \"Chipotle chicken tacos with pineapple salsa\", preparationTime: 600, description: \"A spicy, smoky chicken filling in soft tortillas, this moreish, low-calorie dinner is on the table in just 20 minutes\", id: \"5702361\", skillLevel: \"Easy\", cookingTime: 600})                          |\n",
      "+-----------------------------------------------------------------------------------------------------------------------------------------------------------------------------------------------------------------------------------------------------------------------------------------------------------+\n",
      "\n",
      "5 rows\n",
      "ready to start consuming query after 14 ms, results consumed after another 1 ms\n"
     ]
    }
   ],
   "source": [
    "%%neo\n",
    "MATCH (n) RETURN n LIMIT 5"
   ]
  },
  {
   "cell_type": "code",
   "execution_count": null,
   "id": "6d015ce4-24ba-4824-a525-4160109d2bec",
   "metadata": {},
   "outputs": [],
   "source": [
    "# begin project 7 work"
   ]
  },
  {
   "cell_type": "code",
   "execution_count": null,
   "id": "22351341-f708-4d01-b029-beedcc5ca27f",
   "metadata": {},
   "outputs": [],
   "source": [
    "#1 Find the collections for recipies where the cooking time is greater than 1000 and the recipe's skill level is easy, ordered by cooking time in ascending order."
   ]
  },
  {
   "cell_type": "code",
   "execution_count": 9,
   "id": "372ac4c7-9aeb-416a-b695-b6c14d17a90f",
   "metadata": {},
   "outputs": [
    {
     "name": "stdout",
     "output_type": "stream",
     "text": [
      "+----------------------------------------------------------------------------------------------------------------------------------------------------------------------------------------------------------------------------------------------------------------------------------------------------------+\n",
      "| r                                                                                                                                                                                                                                                          | c                                           |\n",
      "+----------------------------------------------------------------------------------------------------------------------------------------------------------------------------------------------------------------------------------------------------------------------------------------------------------+\n",
      "| (:Recipe {name: \"Fancy iced biscuits\", preparationTime: 3600, description: \"Edd Kimber talks through how to master piping and flood icing to create these cute cookies with a distinct decoration\", id: \"3455586\", skillLevel: \"Easy\", cookingTime: 1020}) | (:Collection {name: \"Cheap baking\"})        |\n",
      "| (:Recipe {name: \"Fancy iced biscuits\", preparationTime: 3600, description: \"Edd Kimber talks through how to master piping and flood icing to create these cute cookies with a distinct decoration\", id: \"3455586\", skillLevel: \"Easy\", cookingTime: 1020}) | (:Collection {name: \"Christmas biscuit\"})   |\n",
      "| (:Recipe {name: \"Fancy iced biscuits\", preparationTime: 3600, description: \"Edd Kimber talks through how to master piping and flood icing to create these cute cookies with a distinct decoration\", id: \"3455586\", skillLevel: \"Easy\", cookingTime: 1020}) | (:Collection {name: \"Valentine's biscuit\"}) |\n",
      "| (:Recipe {name: \"Fancy iced biscuits\", preparationTime: 3600, description: \"Edd Kimber talks through how to master piping and flood icing to create these cute cookies with a distinct decoration\", id: \"3455586\", skillLevel: \"Easy\", cookingTime: 1020}) | (:Collection {name: \"Easy biscuit\"})        |\n",
      "| (:Recipe {preparationTime: 300, name: \"Roasted salt & paprika almonds\", description: \"These nuts have a great kick of spice and can be whipped up quickly ahead of entertaining\", id: \"99437\", skillLevel: \"Easy\", cookingTime: 1020})                     | (:Collection {name: \"Quick nibbles\"})       |\n",
      "+----------------------------------------------------------------------------------------------------------------------------------------------------------------------------------------------------------------------------------------------------------------------------------------------------------+\n",
      "\n",
      "5 rows\n",
      "ready to start consuming query after 109 ms, results consumed after another 51 ms\n"
     ]
    }
   ],
   "source": [
    "%%neo\n",
    "MATCH (r:Recipe)-[:COLLECTION]->(c:Collection) WHERE r.cookingTime > 1000 AND r.skillLevel = 'Easy' RETURN r,c ORDER BY r.cookingTime ASC LIMIT 5"
   ]
  },
  {
   "cell_type": "code",
   "execution_count": null,
   "id": "62333de4-2d29-4190-ae93-648b752a91f0",
   "metadata": {},
   "outputs": [],
   "source": [
    "#2 Find the collections for recipies where the preparation time is less than 300 and the recipe's skill level is not easy, ordered by preparation time in descending order."
   ]
  },
  {
   "cell_type": "code",
   "execution_count": 8,
   "id": "cae690fc-123b-4580-b65d-409f826ae6fb",
   "metadata": {},
   "outputs": [
    {
     "name": "stdout",
     "output_type": "stream",
     "text": [
      "+-----------------------------------------------------------------------------------------------------------------------------------------------------------------------------------------------------------------------------------------------------------------------------------------------------------------------------+\n",
      "| r                                                                                                                                                                                                                                                                                   | c                                     |\n",
      "+-----------------------------------------------------------------------------------------------------------------------------------------------------------------------------------------------------------------------------------------------------------------------------------------------------------------------------+\n",
      "| (:Recipe {name: \"Caramel sauce\", preparationTime: 120, description: \"This classic sauce uses only three ingredients. Drizzle around chocolate puddings or over your favourite ice cream\", id: \"101636\", skillLevel: \"More effort\", cookingTime: 600})                               | (:Collection {name: \"Caramel\"})       |\n",
      "| (:Recipe {name: \"Spiced pecans & peach fizz\", preparationTime: 120, description: \"These American-style snacks are ready in minutes and very moreish - enjoy with a fruity cocktail\", id: \"95384\", skillLevel: \"More effort\", cookingTime: 300})                                     | (:Collection {name: \"Quick nibbles\"}) |\n",
      "| (:Recipe {name: \"Spiced pecans & peach fizz\", preparationTime: 120, description: \"These American-style snacks are ready in minutes and very moreish - enjoy with a fruity cocktail\", id: \"95384\", skillLevel: \"More effort\", cookingTime: 300})                                     | (:Collection {name: \"CanapÃ©\"})       |\n",
      "| (:Recipe {preparationTime: 120, name: \"Strawberry & sweet wine savarin\", description: \"A savarin is like a big rum baba, except this version is soaked with dessert wine for a light, summery feel\", id: \"100892\", skillLevel: \"More effort\", cookingTime: 900})                    | (:Collection {name: \"Boozy bake\"})    |\n",
      "| (:Recipe {name: \"Lighter Cornish pasties\", preparationTime: 60, description: \"Angela Nilsen retains the taste but halves the fat of these traditional pastry bakes by using beef skirt and less butter in the pastry\", id: \"103287\", skillLevel: \"More effort\", cookingTime: 3000}) | (:Collection {name: \"Diced beef\"})    |\n",
      "+-----------------------------------------------------------------------------------------------------------------------------------------------------------------------------------------------------------------------------------------------------------------------------------------------------------------------------+\n",
      "\n",
      "5 rows\n",
      "ready to start consuming query after 108 ms, results consumed after another 17 ms\n"
     ]
    }
   ],
   "source": [
    "%%neo\n",
    "MATCH (r:Recipe)-[:COLLECTION]->(c:Collection) WHERE NOT r.skillLevel = 'Easy' AND r.preparationTime < 300 RETURN r,c ORDER BY r.preparationTime DESC LIMIT 5"
   ]
  },
  {
   "cell_type": "code",
   "execution_count": null,
   "id": "51837888-96e8-4afa-981d-60e1b0c5fe4e",
   "metadata": {},
   "outputs": [],
   "source": [
    "#3 Find the collections for recipies where the preparation time is less than 300 and the recipe's skill level is not easy, ordered by preparation time in descending order."
   ]
  },
  {
   "cell_type": "code",
   "execution_count": 12,
   "id": "dc1899df-882d-4db6-b982-0da6b2542058",
   "metadata": {},
   "outputs": [
    {
     "name": "stdout",
     "output_type": "stream",
     "text": [
      "+----------------------------------------------------------------------------------------------------------------------------------------------------------------------------------------------------------------------------------------------------------------------------------------------------------+\n",
      "| r                                                                                                                                                                                                                                                            | c                                         |\n",
      "+----------------------------------------------------------------------------------------------------------------------------------------------------------------------------------------------------------------------------------------------------------------------------------------------------------+\n",
      "| (:Recipe {preparationTime: 0, name: \"Chicken, goat's cheese & cherry tomato bake\", description: \"This is a really easy meal to cook for friends - you can make ahead and keep in the fridge for 24 hours\", id: \"99266\", skillLevel: \"Easy\", cookingTime: 0}) | (:Collection {name: \"Dinner party main\"}) |\n",
      "| (:Recipe {preparationTime: 0, name: \"Lincolnshire sausage & lentil simmer\", description: \"A one-pot hearty stew to share with friends and family - you can make ahead and freeze it if you prefer\", id: \"93457\", skillLevel: \"Easy\", cookingTime: 0})        | (:Collection {name: \"Freezable family\"})  |\n",
      "| (:Recipe {preparationTime: 0, name: \"Lincolnshire sausage & lentil simmer\", description: \"A one-pot hearty stew to share with friends and family - you can make ahead and freeze it if you prefer\", id: \"93457\", skillLevel: \"Easy\", cookingTime: 0})        | (:Collection {name: \"Sausage casserole\"}) |\n",
      "| (:Recipe {preparationTime: 0, name: \"Lincolnshire sausage & lentil simmer\", description: \"A one-pot hearty stew to share with friends and family - you can make ahead and freeze it if you prefer\", id: \"93457\", skillLevel: \"Easy\", cookingTime: 0})        | (:Collection {name: \"Lentil\"})            |\n",
      "| (:Recipe {preparationTime: 0, name: \"Lincolnshire sausage & lentil simmer\", description: \"A one-pot hearty stew to share with friends and family - you can make ahead and freeze it if you prefer\", id: \"93457\", skillLevel: \"Easy\", cookingTime: 0})        | (:Collection {name: \"Family casserole\"})  |\n",
      "+----------------------------------------------------------------------------------------------------------------------------------------------------------------------------------------------------------------------------------------------------------------------------------------------------------+\n",
      "\n",
      "5 rows\n",
      "ready to start consuming query after 52 ms, results consumed after another 1 ms\n"
     ]
    }
   ],
   "source": [
    "%%neo\n",
    "MATCH (r:Recipe)-[:COLLECTION]->(c:Collection) WHERE NOT r.skillLevel = 'More effort' AND r.preparationTime < 300 RETURN r,c LIMIT 5"
   ]
  },
  {
   "cell_type": "code",
   "execution_count": null,
   "id": "5e42fd90-3a2f-4ed0-8184-f90e0f4a6cac",
   "metadata": {},
   "outputs": [],
   "source": [
    "#4 Find recipes where diet type names' are low-salt or low-fat"
   ]
  },
  {
   "cell_type": "code",
   "execution_count": 13,
   "id": "167d56c3-5b48-442f-a108-98d04c958995",
   "metadata": {},
   "outputs": [
    {
     "name": "stdout",
     "output_type": "stream",
     "text": [
      "+--------------------------------------------------------------------------------------------------------------------------------------------------------------------------------------------------------------------------------------------------------------------------------------------------------------------------------------+\n",
      "| r                                                                                                                                                                                                                                                                                                   | d                              |\n",
      "+--------------------------------------------------------------------------------------------------------------------------------------------------------------------------------------------------------------------------------------------------------------------------------------------------------------------------------------+\n",
      "| (:Recipe {name: \"Apricot & almond Bakewell\", preparationTime: 1200, description: \"A winning combination of sweet pastry with a sharp compote\", id: \"95061\", skillLevel: \"More effort\", cookingTime: 5100})                                                                                          | (:DietType {name: \"Low-salt\"}) |\n",
      "| (:Recipe {name: \"Spiced pork & potato pie\", preparationTime: 1500, description: \"This budget-friendly French-Canadian speciality, known as tourtiÃ¨re, is traditionally served at Christmas, but with salad it makes a perfect spring supper\", id: \"95806\", skillLevel: \"Easy\", cookingTime: 1800}) | (:DietType {name: \"Low-salt\"}) |\n",
      "| (:Recipe {preparationTime: 0, name: \"Boiled beef & carrots with parsley dumplings\", description: \"Gordon Ramsay revives a British stalwart, boiled beef and dumplings, with a few modern twists\", id: \"94779\", skillLevel: \"More effort\", cookingTime: 0})                                          | (:DietType {name: \"Low-salt\"}) |\n",
      "| (:Recipe {name: \"Spiced squash pasta with lime pickle\", preparationTime: 900, description: \"Asian flavours are great with noodles, so why not with pasta? Give fusion food a go\", id: \"101850\", skillLevel: \"Easy\", cookingTime: 2400})                                                             | (:DietType {name: \"Low-salt\"}) |\n",
      "| (:Recipe {name: \"Blackcurrant & mint sorbet\", preparationTime: 2100, description: \"Bursting with dramatic and intense flavours\", id: \"93864\", skillLevel: \"More effort\", cookingTime: 0})                                                                                                           | (:DietType {name: \"Low-salt\"}) |\n",
      "+--------------------------------------------------------------------------------------------------------------------------------------------------------------------------------------------------------------------------------------------------------------------------------------------------------------------------------------+\n",
      "\n",
      "5 rows\n",
      "ready to start consuming query after 59 ms, results consumed after another 2 ms\n"
     ]
    }
   ],
   "source": [
    "%%neo\n",
    "MATCH (r:Recipe)-[:DIET_TYPE]->(d:DietType) WHERE d.name = 'Low-salt' OR d.name = 'Low-fat' RETURN r,d LIMIT 5"
   ]
  },
  {
   "cell_type": "code",
   "execution_count": null,
   "id": "5bc12314-72d5-422a-98c6-1805468103b7",
   "metadata": {},
   "outputs": [],
   "source": [
    "#5 Find all diet type relationship properties between recipe and diet type"
   ]
  },
  {
   "cell_type": "code",
   "execution_count": 18,
   "id": "800c616b-1b29-4e06-8df4-679db0f9788d",
   "metadata": {},
   "outputs": [
    {
     "name": "stdout",
     "output_type": "stream",
     "text": [
      "+--------+\n",
      "| id(dt) |\n",
      "+--------+\n",
      "| 3761   |\n",
      "| 4613   |\n",
      "| 2244   |\n",
      "| 10869  |\n",
      "| 11755  |\n",
      "+--------+\n",
      "\n",
      "5 rows\n",
      "ready to start consuming query after 61 ms, results consumed after another 1 ms\n"
     ]
    }
   ],
   "source": [
    "%%neo\n",
    "MATCH (:Recipe)-[dt:DIET_TYPE]->(:DietType)\n",
    "RETURN id(dt) LIMIT 5"
   ]
  },
  {
   "cell_type": "code",
   "execution_count": null,
   "id": "13c8d931-eaac-4d62-ac9e-4dc2fcb1b346",
   "metadata": {},
   "outputs": [],
   "source": [
    "#6 Find the properties of all recipes where the recipe's cooking time is greater than 10"
   ]
  },
  {
   "cell_type": "code",
   "execution_count": 22,
   "id": "855e41cf-8bf8-4521-b13a-d360a38842a2",
   "metadata": {},
   "outputs": [
    {
     "name": "stdout",
     "output_type": "stream",
     "text": [
      "+-----------------------------------------------------------------------------------------------------------------------------------------------------------------------------------------------------------------------------------------------------------------------------------------------------------+\n",
      "| r                                                                                                                                                                                                                                                                                                         |\n",
      "+-----------------------------------------------------------------------------------------------------------------------------------------------------------------------------------------------------------------------------------------------------------------------------------------------------------+\n",
      "| (:Recipe {name: \"Baked nectarines & raspberries with almonds & honey\", preparationTime: 900, description: \"One of the simplest ways to showcase summer fruit, this dessert is finished with a crunchy amaretti biscuit and flaked almond topping\", id: \"5257356\", skillLevel: \"Easy\", cookingTime: 1800}) |\n",
      "| (:Recipe {preparationTime: 3600, name: \"Chocolate & caramel ombre cake\", description: \"For the ultimate indulgence look no further than Sarah Cook's four-layered chocolate-caramel extravaganza\", id: \"102539\", skillLevel: \"More effort\", cookingTime: 3300})                                           |\n",
      "| (:Recipe {name: \"Chipotle chicken tacos with pineapple salsa\", preparationTime: 600, description: \"A spicy, smoky chicken filling in soft tortillas, this moreish, low-calorie dinner is on the table in just 20 minutes\", id: \"5702361\", skillLevel: \"Easy\", cookingTime: 600})                          |\n",
      "| (:Recipe {name: \"Gnocchi bolognese with spinach\", preparationTime: 300, description: \"A filling, cheesy bake that is great for lunch the next - if there's any left!\", id: \"102870\", skillLevel: \"Easy\", cookingTime: 1800})                                                                              |\n",
      "| (:Recipe {preparationTime: 600, name: \"Sprouts with chestnuts & crisp pancetta\", description: \"If you struggle to get the family to eat their sprouts, try adding some chestnuts and pancetta to make an irresistible side dish\", id: \"103131\", skillLevel: \"Easy\", cookingTime: 1200})                   |\n",
      "+-----------------------------------------------------------------------------------------------------------------------------------------------------------------------------------------------------------------------------------------------------------------------------------------------------------+\n",
      "\n",
      "5 rows\n",
      "ready to start consuming query after 40 ms, results consumed after another 1 ms\n"
     ]
    }
   ],
   "source": [
    "%%neo\n",
    "MATCH (r:Recipe) WHERE r.cookingTime > 10 RETURN r LIMIT 5"
   ]
  },
  {
   "cell_type": "code",
   "execution_count": null,
   "id": "2d94d565-a9d3-473a-8c5a-4e24111907ce",
   "metadata": {},
   "outputs": [],
   "source": [
    "#7 Find the unique node labels and the number of nodes for each"
   ]
  },
  {
   "cell_type": "code",
   "execution_count": 29,
   "id": "ec097eeb-6a0e-477c-93d5-77473ae31740",
   "metadata": {},
   "outputs": [
    {
     "name": "stdout",
     "output_type": "stream",
     "text": [
      "+-----------------------------+\n",
      "| node_label     | node_count |\n",
      "+-----------------------------+\n",
      "| [\"Recipe\"]     | 11634      |\n",
      "| [\"Author\"]     | 303        |\n",
      "| [\"DietType\"]   | 12         |\n",
      "| [\"Collection\"] | 1049       |\n",
      "| [\"Ingredient\"] | 3077       |\n",
      "+-----------------------------+\n",
      "\n",
      "5 rows\n",
      "ready to start consuming query after 32 ms, results consumed after another 13 ms\n"
     ]
    }
   ],
   "source": [
    "%%neo\n",
    "MATCH (n) RETURN LABELS(n) AS node_label, COUNT(*) AS node_count "
   ]
  },
  {
   "cell_type": "code",
   "execution_count": null,
   "id": "191fe3a6-a546-4d2b-b3fb-10fe04ba100b",
   "metadata": {},
   "outputs": [],
   "source": [
    "#8 Find the unique relationship types and the number of relationships for each "
   ]
  },
  {
   "cell_type": "code",
   "execution_count": 45,
   "id": "ad1876cb-19f9-4861-8053-e0ee3657ff51",
   "metadata": {},
   "outputs": [
    {
     "name": "stdout",
     "output_type": "stream",
     "text": [
      "+-------------------------------------------+\n",
      "| relationshipType      | relationshipCount |\n",
      "+-------------------------------------------+\n",
      "| \"DIET_TYPE\"           | 14858             |\n",
      "| \"COLLECTION\"          | 32240             |\n",
      "| \"CONTAINS_INGREDIENT\" | 106148            |\n",
      "| \"WROTE\"               | 11634             |\n",
      "+-------------------------------------------+\n",
      "\n",
      "4 rows\n",
      "ready to start consuming query after 43 ms, results consumed after another 89 ms\n"
     ]
    }
   ],
   "source": [
    "%%neo\n",
    "MATCH ()-[r]->()\n",
    "RETURN TYPE(r) AS relationshipType, COUNT(*) AS relationshipCount"
   ]
  },
  {
   "cell_type": "code",
   "execution_count": null,
   "id": "011aac33-7d59-4693-bc6f-9f7b234701aa",
   "metadata": {},
   "outputs": [],
   "source": [
    "#9 Find all distinct preparation times for vegan or low-salt recipes "
   ]
  },
  {
   "cell_type": "code",
   "execution_count": 39,
   "id": "e9de1ae1-0cfc-4ab6-a42f-6349456d9798",
   "metadata": {},
   "outputs": [
    {
     "name": "stdout",
     "output_type": "stream",
     "text": [
      "+----------------------------------------------------+\n",
      "| r.preparationTime | d                              |\n",
      "+----------------------------------------------------+\n",
      "| 1200              | (:DietType {name: \"Low-salt\"}) |\n",
      "| 1500              | (:DietType {name: \"Low-salt\"}) |\n",
      "| 0                 | (:DietType {name: \"Low-salt\"}) |\n",
      "| 900               | (:DietType {name: \"Low-salt\"}) |\n",
      "| 2100              | (:DietType {name: \"Low-salt\"}) |\n",
      "| 1800              | (:DietType {name: \"Low-salt\"}) |\n",
      "| 600               | (:DietType {name: \"Low-salt\"}) |\n",
      "| 300               | (:DietType {name: \"Low-salt\"}) |\n",
      "| 2400              | (:DietType {name: \"Low-salt\"}) |\n",
      "| 3600              | (:DietType {name: \"Low-salt\"}) |\n",
      "| 2700              | (:DietType {name: \"Low-salt\"}) |\n",
      "| 720               | (:DietType {name: \"Low-salt\"}) |\n",
      "| 7200              | (:DietType {name: \"Low-salt\"}) |\n",
      "| 480               | (:DietType {name: \"Low-salt\"}) |\n",
      "| 9000              | (:DietType {name: \"Low-salt\"}) |\n",
      "| 120               | (:DietType {name: \"Low-salt\"}) |\n",
      "| 4800              | (:DietType {name: \"Low-salt\"}) |\n",
      "| 4500              | (:DietType {name: \"Low-salt\"}) |\n",
      "| 5400              | (:DietType {name: \"Low-salt\"}) |\n",
      "| 3000              | (:DietType {name: \"Low-salt\"}) |\n",
      "| 3300              | (:DietType {name: \"Low-salt\"}) |\n",
      "| 6300              | (:DietType {name: \"Low-salt\"}) |\n",
      "| 4200              | (:DietType {name: \"Low-salt\"}) |\n",
      "| 11700             | (:DietType {name: \"Low-salt\"}) |\n",
      "| 5100              | (:DietType {name: \"Low-salt\"}) |\n",
      "| 12600             | (:DietType {name: \"Low-salt\"}) |\n",
      "| 23400             | (:DietType {name: \"Low-salt\"}) |\n",
      "| 10800             | (:DietType {name: \"Low-salt\"}) |\n",
      "| 240               | (:DietType {name: \"Low-salt\"}) |\n",
      "| 14400             | (:DietType {name: \"Low-salt\"}) |\n",
      "| 18000             | (:DietType {name: \"Low-salt\"}) |\n",
      "| 8100              | (:DietType {name: \"Low-salt\"}) |\n",
      "| 180               | (:DietType {name: \"Low-salt\"}) |\n",
      "| 6000              | (:DietType {name: \"Low-salt\"}) |\n",
      "| 8700              | (:DietType {name: \"Low-salt\"}) |\n",
      "| 13800             | (:DietType {name: \"Low-salt\"}) |\n",
      "| 16200             | (:DietType {name: \"Low-salt\"}) |\n",
      "| 6600              | (:DietType {name: \"Low-salt\"}) |\n",
      "| 960               | (:DietType {name: \"Low-salt\"}) |\n",
      "| 60                | (:DietType {name: \"Low-salt\"}) |\n",
      "| 1020              | (:DietType {name: \"Low-salt\"}) |\n",
      "| 600               | (:DietType {name: \"Vegan\"})    |\n",
      "| 3000              | (:DietType {name: \"Vegan\"})    |\n",
      "| 900               | (:DietType {name: \"Vegan\"})    |\n",
      "| 300               | (:DietType {name: \"Vegan\"})    |\n",
      "| 1800              | (:DietType {name: \"Vegan\"})    |\n",
      "| 1500              | (:DietType {name: \"Vegan\"})    |\n",
      "| 3600              | (:DietType {name: \"Vegan\"})    |\n",
      "| 1200              | (:DietType {name: \"Vegan\"})    |\n",
      "| 2100              | (:DietType {name: \"Vegan\"})    |\n",
      "| 2700              | (:DietType {name: \"Vegan\"})    |\n",
      "| 2400              | (:DietType {name: \"Vegan\"})    |\n",
      "| 120               | (:DietType {name: \"Vegan\"})    |\n",
      "| 180               | (:DietType {name: \"Vegan\"})    |\n",
      "| 0                 | (:DietType {name: \"Vegan\"})    |\n",
      "| 960               | (:DietType {name: \"Vegan\"})    |\n",
      "| 480               | (:DietType {name: \"Vegan\"})    |\n",
      "| 4200              | (:DietType {name: \"Vegan\"})    |\n",
      "| 720               | (:DietType {name: \"Vegan\"})    |\n",
      "| 5400              | (:DietType {name: \"Vegan\"})    |\n",
      "+----------------------------------------------------+\n",
      "\n",
      "60 rows\n",
      "ready to start consuming query after 68 ms, results consumed after another 12 ms\n"
     ]
    }
   ],
   "source": [
    "%%neo\n",
    "MATCH (r:Recipe)-[:DIET_TYPE]->(d:DietType) WHERE d.name = 'Vegan' OR d.name = 'Low-salt' RETURN DISTINCT r.preparationTime, d"
   ]
  },
  {
   "cell_type": "code",
   "execution_count": null,
   "id": "315993ff-4eb5-44ea-ab92-14b32297d864",
   "metadata": {},
   "outputs": [],
   "source": [
    "#10 Finds recipes and their authors, lists the ingredients in each recipe, and includes the diet type for each recipe where the cooking time is greater than 1000"
   ]
  },
  {
   "cell_type": "code",
   "execution_count": 53,
   "id": "19ca0451-0588-48d5-ab26-dd1b93a8d2fa",
   "metadata": {},
   "outputs": [
    {
     "name": "stdout",
     "output_type": "stream",
     "text": [
      "+------------------------------------------------------------------+\n",
      "| authorName   | recipeTitle | ingredients           | dietTypeNam |\n",
      "+------------------------------------------------------------------+\n",
      "| \"Tony Tobin\" | NULL        | \"cranberry\"           | \"Low-salt\"  |\n",
      "| \"Tony Tobin\" | NULL        | \"star anise\"          | \"Low-salt\"  |\n",
      "| \"Tony Tobin\" | NULL        | \"redcurrant\"          | \"Low-salt\"  |\n",
      "| \"Tony Tobin\" | NULL        | \"port\"                | \"Low-salt\"  |\n",
      "| \"Tony Tobin\" | NULL        | \"golden caster sugar\" | \"Low-salt\"  |\n",
      "+------------------------------------------------------------------+\n",
      "\n",
      "5 rows\n",
      "ready to start consuming query after 105 ms, results consumed after another 1 ms\n"
     ]
    }
   ],
   "source": [
    "%%neo\n",
    "MATCH (a:Author)-[:WROTE]->(r:Recipe)\n",
    "MATCH (r:Recipe)-[:CONTAINS_INGREDIENT]->(i:Ingredient)\n",
    "MATCH (r:Recipe)-[:DIET_TYPE]->(dietType:DietType) WHERE r.cookingTime > 1000 \n",
    "RETURN a.name AS authorName, r.title AS recipeTitle, i.name AS ingredients, dietType.name AS dietTypeNam LIMIT 5 "
   ]
  },
  {
   "cell_type": "code",
   "execution_count": 59,
   "id": "09f02393-b1fc-4239-a856-ee232b72072e",
   "metadata": {},
   "outputs": [
    {
     "ename": "SyntaxError",
     "evalue": "invalid syntax (1912036209.py, line 3)",
     "output_type": "error",
     "traceback": [
      "\u001b[0;36m  Cell \u001b[0;32mIn[59], line 3\u001b[0;36m\u001b[0m\n\u001b[0;31m    MATCH (a:Author)-[:WROTE]->(r:Recipe)\u001b[0m\n\u001b[0m            ^\u001b[0m\n\u001b[0;31mSyntaxError\u001b[0m\u001b[0;31m:\u001b[0m invalid syntax\n"
     ]
    }
   ],
   "source": [
    "#11 Finds recipes and their authors, lists the ingredients in each recipe, and includes the diet type for each recipe where the cooking time is less than 1000"
   ]
  },
  {
   "cell_type": "code",
   "execution_count": 65,
   "id": "e81ba0f1-756a-4119-8d75-6d67bf6610ea",
   "metadata": {},
   "outputs": [
    {
     "name": "stdout",
     "output_type": "stream",
     "text": [
      "+-----------------------------------------------------------------------+\n",
      "| authorName    | recipeTitle | ingredients             | dietTypeNam   |\n",
      "+-----------------------------------------------------------------------+\n",
      "| \"Jane Hornby\" | NULL        | \"turnip\"                | \"Gluten-free\" |\n",
      "| \"Jane Hornby\" | NULL        | \"Japanese rice vinegar\" | \"Gluten-free\" |\n",
      "| \"Jane Hornby\" | NULL        | \"red onion\"             | \"Gluten-free\" |\n",
      "| \"Jane Hornby\" | NULL        | \"lemongrass\"            | \"Gluten-free\" |\n",
      "| \"Jane Hornby\" | NULL        | \"coriander\"             | \"Gluten-free\" |\n",
      "+-----------------------------------------------------------------------+\n",
      "\n",
      "5 rows\n",
      "ready to start consuming query after 117 ms, results consumed after another 1 ms\n"
     ]
    }
   ],
   "source": [
    "%%neo\n",
    "MATCH (a:Author)-[:WROTE]->(r:Recipe)\n",
    "MATCH (r:Recipe)-[:CONTAINS_INGREDIENT]->(i:Ingredient)\n",
    "MATCH (r:Recipe)-[:DIET_TYPE]->(dietType:DietType) WHERE NOT a.name = 'Tony Tobin' AND r.cookingTime < 500 \n",
    "RETURN a.name AS authorName, r.title AS recipeTitle, i.name AS ingredients, dietType.name AS dietTypeNam LIMIT 5"
   ]
  },
  {
   "cell_type": "code",
   "execution_count": null,
   "id": "13114af8-a8ba-442f-9144-8df776a9e6e2",
   "metadata": {},
   "outputs": [],
   "source": []
  }
 ],
 "metadata": {
  "environment": {
   "kernel": "python3",
   "name": "common-cpu.m111",
   "type": "gcloud",
   "uri": "gcr.io/deeplearning-platform-release/base-cpu:m111"
  },
  "kernelspec": {
   "display_name": "Python 3",
   "language": "python",
   "name": "python3"
  },
  "language_info": {
   "codemirror_mode": {
    "name": "ipython",
    "version": 3
   },
   "file_extension": ".py",
   "mimetype": "text/x-python",
   "name": "python",
   "nbconvert_exporter": "python",
   "pygments_lexer": "ipython3",
   "version": "3.10.12"
  }
 },
 "nbformat": 4,
 "nbformat_minor": 5
}

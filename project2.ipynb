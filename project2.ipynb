{
 "cells": [
  {
   "cell_type": "code",
   "execution_count": 20,
   "id": "5747a1df-4666-4ed4-95ea-e3fd4fda350f",
   "metadata": {},
   "outputs": [
    {
     "name": "stdout",
     "output_type": "stream",
     "text": [
      "env: PGINSTANCE=postgres\n"
     ]
    }
   ],
   "source": [
    "%env PGINSTANCE=postgres"
   ]
  },
  {
   "cell_type": "code",
   "execution_count": 21,
   "id": "c9a52ebe-5633-4f6c-b844-4426367b06a3",
   "metadata": {},
   "outputs": [
    {
     "name": "stdout",
     "output_type": "stream",
     "text": [
      "env: PGDATABASE=postgres\n",
      "env: PGHOST=10.89.240.11\n",
      "env: PGPORT=5432\n",
      "env: PGUSER=postgres\n",
      "env: PGPASSWORD=dedsec\n"
     ]
    }
   ],
   "source": [
    "%env PGDATABASE=postgres\n",
    "%env PGHOST=10.89.240.11\n",
    "%env PGPORT=5432\n",
    "%env PGUSER=postgres\n",
    "%env PGPASSWORD=dedsec"
   ]
  },
  {
   "cell_type": "code",
   "execution_count": 22,
   "id": "77e24729-f725-4acc-ac92-ea6019c58df4",
   "metadata": {},
   "outputs": [
    {
     "name": "stdout",
     "output_type": "stream",
     "text": [
      "env: BASE_DIR=/home/jupyter/pagila\n"
     ]
    }
   ],
   "source": [
    "%env BASE_DIR=/home/jupyter/pagila"
   ]
  },
  {
   "cell_type": "code",
   "execution_count": 23,
   "id": "9d56a171-86f3-45e4-bfd7-8b9795ec01a3",
   "metadata": {},
   "outputs": [
    {
     "name": "stdout",
     "output_type": "stream",
     "text": [
      "/bin/bash: line 1: pagila_schema.sql: No such file or directory\n"
     ]
    }
   ],
   "source": [
    "!psql < pagila_schema.sql"
   ]
  },
  {
   "cell_type": "code",
   "execution_count": 24,
   "id": "b5dc3e25-c907-42e8-9bac-1ed5e9fb42e4",
   "metadata": {},
   "outputs": [
    {
     "name": "stdout",
     "output_type": "stream",
     "text": [
      "/bin/bash: line 1: pagila-insert-data.sql: No such file or directory\n"
     ]
    }
   ],
   "source": [
    "!psql < pagila-insert-data.sql"
   ]
  },
  {
   "cell_type": "code",
   "execution_count": 25,
   "id": "fb9a7493-6eac-4d48-ab47-b297ad84f514",
   "metadata": {},
   "outputs": [
    {
     "name": "stdout",
     "output_type": "stream",
     "text": [
      "                                              Table \"pagila.actor\"\n",
      "   Column    |           Type           | Collation | Nullable |                    Default                     \n",
      "-------------+--------------------------+-----------+----------+------------------------------------------------\n",
      " actor_id    | integer                  |           | not null | nextval('pagila.actor_actor_id_seq'::regclass)\n",
      " first_name  | text                     |           | not null | \n",
      " last_name   | text                     |           | not null | \n",
      " last_update | timestamp with time zone |           | not null | now()\n",
      "Indexes:\n",
      "    \"actor_pkey\" PRIMARY KEY, btree (actor_id)\n",
      "    \"idx_actor_last_name\" btree (last_name)\n",
      "Referenced by:\n",
      "    TABLE \"pagila.film_actor\" CONSTRAINT \"film_actor_actor_id_fkey\" FOREIGN KEY (actor_id) REFERENCES pagila.actor(actor_id) ON UPDATE CASCADE ON DELETE RESTRICT\n",
      "Triggers:\n",
      "    last_updated BEFORE UPDATE ON pagila.actor FOR EACH ROW EXECUTE FUNCTION pagila.last_updated()\n",
      "\n"
     ]
    }
   ],
   "source": [
    "!psql -c \"\\d pagila.actor\""
   ]
  },
  {
   "cell_type": "code",
   "execution_count": 26,
   "id": "ec18192e-1bf4-4beb-9875-21a72e2aa147",
   "metadata": {},
   "outputs": [
    {
     "name": "stdout",
     "output_type": "stream",
     "text": [
      "                                               Table \"pagila.country\"\n",
      "   Column    |           Type           | Collation | Nullable |                      Default                       \n",
      "-------------+--------------------------+-----------+----------+----------------------------------------------------\n",
      " country_id  | integer                  |           | not null | nextval('pagila.country_country_id_seq'::regclass)\n",
      " country     | text                     |           | not null | \n",
      " last_update | timestamp with time zone |           | not null | now()\n",
      "Indexes:\n",
      "    \"country_pkey\" PRIMARY KEY, btree (country_id)\n",
      "Referenced by:\n",
      "    TABLE \"pagila.city\" CONSTRAINT \"city_country_id_fkey\" FOREIGN KEY (country_id) REFERENCES pagila.country(country_id) ON UPDATE CASCADE ON DELETE RESTRICT\n",
      "Triggers:\n",
      "    last_updated BEFORE UPDATE ON pagila.country FOR EACH ROW EXECUTE FUNCTION pagila.last_updated()\n",
      "\n"
     ]
    }
   ],
   "source": [
    "!psql -c \"\\d pagila.country\""
   ]
  },
  {
   "cell_type": "code",
   "execution_count": 27,
   "id": "65d7415d-db6f-49c3-a8dd-ec8c792eec61",
   "metadata": {},
   "outputs": [
    {
     "name": "stdout",
     "output_type": "stream",
     "text": [
      "                                             Table \"pagila.city\"\n",
      "   Column    |           Type           | Collation | Nullable |                   Default                    \n",
      "-------------+--------------------------+-----------+----------+----------------------------------------------\n",
      " city_id     | integer                  |           | not null | nextval('pagila.city_city_id_seq'::regclass)\n",
      " city        | text                     |           | not null | \n",
      " country_id  | smallint                 |           | not null | \n",
      " last_update | timestamp with time zone |           | not null | now()\n",
      "Indexes:\n",
      "    \"city_pkey\" PRIMARY KEY, btree (city_id)\n",
      "    \"idx_fk_country_id\" btree (country_id)\n",
      "Foreign-key constraints:\n",
      "    \"city_country_id_fkey\" FOREIGN KEY (country_id) REFERENCES pagila.country(country_id) ON UPDATE CASCADE ON DELETE RESTRICT\n",
      "Referenced by:\n",
      "    TABLE \"pagila.address\" CONSTRAINT \"address_city_id_fkey\" FOREIGN KEY (city_id) REFERENCES pagila.city(city_id) ON UPDATE CASCADE ON DELETE RESTRICT\n",
      "Triggers:\n",
      "    last_updated BEFORE UPDATE ON pagila.city FOR EACH ROW EXECUTE FUNCTION pagila.last_updated()\n",
      "\n"
     ]
    }
   ],
   "source": [
    "!psql -c \"\\d pagila.city\""
   ]
  },
  {
   "cell_type": "code",
   "execution_count": 28,
   "id": "3f3dfe48-97d2-4232-901f-f30591159aca",
   "metadata": {},
   "outputs": [
    {
     "name": "stdout",
     "output_type": "stream",
     "text": [
      "                                               Table \"pagila.address\"\n",
      "   Column    |           Type           | Collation | Nullable |                      Default                       \n",
      "-------------+--------------------------+-----------+----------+----------------------------------------------------\n",
      " address_id  | integer                  |           | not null | nextval('pagila.address_address_id_seq'::regclass)\n",
      " address     | text                     |           | not null | \n",
      " address2    | text                     |           |          | \n",
      " district    | text                     |           | not null | \n",
      " city_id     | smallint                 |           | not null | \n",
      " postal_code | text                     |           |          | \n",
      " phone       | text                     |           | not null | \n",
      " last_update | timestamp with time zone |           | not null | now()\n",
      "Indexes:\n",
      "    \"address_pkey\" PRIMARY KEY, btree (address_id)\n",
      "    \"idx_fk_city_id\" btree (city_id)\n",
      "Foreign-key constraints:\n",
      "    \"address_city_id_fkey\" FOREIGN KEY (city_id) REFERENCES pagila.city(city_id) ON UPDATE CASCADE ON DELETE RESTRICT\n",
      "Referenced by:\n",
      "    TABLE \"pagila.customer\" CONSTRAINT \"customer_address_id_fkey\" FOREIGN KEY (address_id) REFERENCES pagila.address(address_id) ON UPDATE CASCADE ON DELETE RESTRICT\n",
      "    TABLE \"pagila.staff\" CONSTRAINT \"staff_address_id_fkey\" FOREIGN KEY (address_id) REFERENCES pagila.address(address_id) ON UPDATE CASCADE ON DELETE RESTRICT\n",
      "    TABLE \"pagila.store\" CONSTRAINT \"store_address_id_fkey\" FOREIGN KEY (address_id) REFERENCES pagila.address(address_id) ON UPDATE CASCADE ON DELETE RESTRICT\n",
      "Triggers:\n",
      "    last_updated BEFORE UPDATE ON pagila.address FOR EACH ROW EXECUTE FUNCTION pagila.last_updated()\n",
      "\n"
     ]
    }
   ],
   "source": [
    "!psql -c \"\\d pagila.address\""
   ]
  },
  {
   "cell_type": "code",
   "execution_count": 29,
   "id": "77976879-979d-4b83-a446-66972df4e74f",
   "metadata": {},
   "outputs": [
    {
     "name": "stdout",
     "output_type": "stream",
     "text": [
      "                                                Table \"pagila.customer\"\n",
      "   Column    |           Type           | Collation | Nullable |                        Default                        \n",
      "-------------+--------------------------+-----------+----------+-------------------------------------------------------\n",
      " customer_id | integer                  |           | not null | nextval('pagila.customer_customer_id_seq1'::regclass)\n",
      " store_id    | smallint                 |           | not null | \n",
      " first_name  | text                     |           | not null | \n",
      " last_name   | text                     |           | not null | \n",
      " email       | text                     |           |          | \n",
      " address_id  | smallint                 |           | not null | \n",
      " activebool  | boolean                  |           | not null | true\n",
      " create_date | date                     |           | not null | 'now'::text::date\n",
      " last_update | timestamp with time zone |           |          | now()\n",
      " active      | integer                  |           |          | \n",
      "Indexes:\n",
      "    \"customer_pkey\" PRIMARY KEY, btree (customer_id)\n",
      "    \"idx_fk_address_id\" btree (address_id)\n",
      "    \"idx_fk_store_id\" btree (store_id)\n",
      "    \"idx_last_name\" btree (last_name)\n",
      "Foreign-key constraints:\n",
      "    \"customer_address_id_fkey\" FOREIGN KEY (address_id) REFERENCES pagila.address(address_id) ON UPDATE CASCADE ON DELETE RESTRICT\n",
      "    \"customer_store_id_fkey\" FOREIGN KEY (store_id) REFERENCES pagila.store(store_id) ON UPDATE CASCADE ON DELETE RESTRICT\n",
      "Referenced by:\n",
      "    TABLE \"pagila.payment\" CONSTRAINT \"customer_id_fkey\" FOREIGN KEY (customer_id) REFERENCES pagila.customer(customer_id) ON UPDATE CASCADE ON DELETE RESTRICT\n",
      "    TABLE \"pagila.rental\" CONSTRAINT \"rental_customer_id_fkey\" FOREIGN KEY (customer_id) REFERENCES pagila.customer(customer_id) ON UPDATE CASCADE ON DELETE RESTRICT\n",
      "Triggers:\n",
      "    last_updated BEFORE UPDATE ON pagila.customer FOR EACH ROW EXECUTE FUNCTION pagila.last_updated()\n",
      "\n"
     ]
    }
   ],
   "source": [
    "!psql -c \"\\d pagila.customer\""
   ]
  },
  {
   "cell_type": "code",
   "execution_count": 30,
   "id": "95ed0912-834d-44b7-a592-e1a8f6756f50",
   "metadata": {},
   "outputs": [
    {
     "name": "stdout",
     "output_type": "stream",
     "text": [
      "                                                  Table \"pagila.film\"\n",
      "        Column        |           Type           | Collation | Nullable |                   Default                    \n",
      "----------------------+--------------------------+-----------+----------+----------------------------------------------\n",
      " film_id              | integer                  |           | not null | nextval('pagila.film_film_id_seq'::regclass)\n",
      " title                | text                     |           | not null | \n",
      " description          | text                     |           |          | \n",
      " release_year         | pagila.year              |           |          | \n",
      " language_id          | smallint                 |           | not null | \n",
      " original_language_id | smallint                 |           |          | \n",
      " rental_duration      | smallint                 |           | not null | 3\n",
      " rental_rate          | numeric(4,2)             |           | not null | 4.99\n",
      " length               | smallint                 |           |          | \n",
      " replacement_cost     | numeric(5,2)             |           | not null | 19.99\n",
      " rating               | pagila.mpaa_rating       |           |          | 'G'::pagila.mpaa_rating\n",
      " last_update          | timestamp with time zone |           | not null | now()\n",
      " special_features     | text[]                   |           |          | \n",
      " fulltext             | tsvector                 |           | not null | \n",
      "Indexes:\n",
      "    \"film_pkey\" PRIMARY KEY, btree (film_id)\n",
      "    \"film_fulltext_idx\" gist (fulltext)\n",
      "    \"idx_fk_language_id\" btree (language_id)\n",
      "    \"idx_fk_original_language_id\" btree (original_language_id)\n",
      "    \"idx_title\" btree (title)\n",
      "Foreign-key constraints:\n",
      "    \"film_language_id_fkey\" FOREIGN KEY (language_id) REFERENCES pagila.language(language_id) ON UPDATE CASCADE ON DELETE RESTRICT\n",
      "    \"film_original_language_id_fkey\" FOREIGN KEY (original_language_id) REFERENCES pagila.language(language_id) ON UPDATE CASCADE ON DELETE RESTRICT\n",
      "Referenced by:\n",
      "    TABLE \"pagila.film_actor\" CONSTRAINT \"film_actor_film_id_fkey\" FOREIGN KEY (film_id) REFERENCES pagila.film(film_id) ON UPDATE CASCADE ON DELETE RESTRICT\n",
      "    TABLE \"pagila.film_category\" CONSTRAINT \"film_category_film_id_fkey\" FOREIGN KEY (film_id) REFERENCES pagila.film(film_id) ON UPDATE CASCADE ON DELETE RESTRICT\n",
      "    TABLE \"pagila.inventory\" CONSTRAINT \"inventory_film_id_fkey\" FOREIGN KEY (film_id) REFERENCES pagila.film(film_id) ON UPDATE CASCADE ON DELETE RESTRICT\n",
      "Triggers:\n",
      "    film_fulltext_trigger BEFORE INSERT OR UPDATE ON pagila.film FOR EACH ROW EXECUTE FUNCTION tsvector_update_trigger('fulltext', 'pg_catalog.english', 'title', 'description')\n",
      "    last_updated BEFORE UPDATE ON pagila.film FOR EACH ROW EXECUTE FUNCTION pagila.last_updated()\n",
      "\n"
     ]
    }
   ],
   "source": [
    "!psql -c \"\\d pagila.film\""
   ]
  },
  {
   "cell_type": "code",
   "execution_count": 31,
   "id": "2ab8fe50-e251-41c9-a774-49f46373d0fa",
   "metadata": {},
   "outputs": [
    {
     "name": "stdout",
     "output_type": "stream",
     "text": [
      "                        Table \"pagila.film_actor\"\n",
      "   Column    |           Type           | Collation | Nullable | Default \n",
      "-------------+--------------------------+-----------+----------+---------\n",
      " actor_id    | smallint                 |           | not null | \n",
      " film_id     | smallint                 |           | not null | \n",
      " last_update | timestamp with time zone |           | not null | now()\n",
      "Indexes:\n",
      "    \"film_actor_pkey\" PRIMARY KEY, btree (actor_id, film_id)\n",
      "    \"idx_fk_film_id\" btree (film_id)\n",
      "Foreign-key constraints:\n",
      "    \"film_actor_actor_id_fkey\" FOREIGN KEY (actor_id) REFERENCES pagila.actor(actor_id) ON UPDATE CASCADE ON DELETE RESTRICT\n",
      "    \"film_actor_film_id_fkey\" FOREIGN KEY (film_id) REFERENCES pagila.film(film_id) ON UPDATE CASCADE ON DELETE RESTRICT\n",
      "Triggers:\n",
      "    last_updated BEFORE UPDATE ON pagila.film_actor FOR EACH ROW EXECUTE FUNCTION pagila.last_updated()\n",
      "\n"
     ]
    }
   ],
   "source": [
    "!psql -c \"\\d pagila.film_actor\""
   ]
  },
  {
   "cell_type": "code",
   "execution_count": 32,
   "id": "323b597e-669a-4e2f-94ac-152bb08750c7",
   "metadata": {},
   "outputs": [
    {
     "name": "stdout",
     "output_type": "stream",
     "text": [
      "                                                Table \"pagila.inventory\"\n",
      "    Column    |           Type           | Collation | Nullable |                        Default                         \n",
      "--------------+--------------------------+-----------+----------+--------------------------------------------------------\n",
      " inventory_id | integer                  |           | not null | nextval('pagila.inventory_inventory_id_seq'::regclass)\n",
      " film_id      | smallint                 |           | not null | \n",
      " store_id     | smallint                 |           | not null | \n",
      " last_update  | timestamp with time zone |           | not null | now()\n",
      "Indexes:\n",
      "    \"inventory_pkey\" PRIMARY KEY, btree (inventory_id)\n",
      "    \"idx_store_id_film_id\" btree (store_id, film_id)\n",
      "Foreign-key constraints:\n",
      "    \"inventory_film_id_fkey\" FOREIGN KEY (film_id) REFERENCES pagila.film(film_id) ON UPDATE CASCADE ON DELETE RESTRICT\n",
      "    \"inventory_store_id_fkey\" FOREIGN KEY (store_id) REFERENCES pagila.store(store_id) ON UPDATE CASCADE ON DELETE RESTRICT\n",
      "Referenced by:\n",
      "    TABLE \"pagila.rental\" CONSTRAINT \"rental_inventory_id_fkey\" FOREIGN KEY (inventory_id) REFERENCES pagila.inventory(inventory_id) ON UPDATE CASCADE ON DELETE RESTRICT\n",
      "Triggers:\n",
      "    last_updated BEFORE UPDATE ON pagila.inventory FOR EACH ROW EXECUTE FUNCTION pagila.last_updated()\n",
      "\n"
     ]
    }
   ],
   "source": [
    "!psql -c \"\\d pagila.inventory\""
   ]
  },
  {
   "cell_type": "code",
   "execution_count": 33,
   "id": "d4af5ef4-711e-4740-b0c2-45ac3ac8afa7",
   "metadata": {},
   "outputs": [
    {
     "name": "stdout",
     "output_type": "stream",
     "text": [
      "                                               Table \"pagila.language\"\n",
      "   Column    |           Type           | Collation | Nullable |                       Default                        \n",
      "-------------+--------------------------+-----------+----------+------------------------------------------------------\n",
      " language_id | integer                  |           | not null | nextval('pagila.language_language_id_seq'::regclass)\n",
      " name        | character(20)            |           | not null | \n",
      " last_update | timestamp with time zone |           | not null | now()\n",
      "Indexes:\n",
      "    \"language_pkey\" PRIMARY KEY, btree (language_id)\n",
      "Referenced by:\n",
      "    TABLE \"pagila.film\" CONSTRAINT \"film_language_id_fkey\" FOREIGN KEY (language_id) REFERENCES pagila.language(language_id) ON UPDATE CASCADE ON DELETE RESTRICT\n",
      "    TABLE \"pagila.film\" CONSTRAINT \"film_original_language_id_fkey\" FOREIGN KEY (original_language_id) REFERENCES pagila.language(language_id) ON UPDATE CASCADE ON DELETE RESTRICT\n",
      "Triggers:\n",
      "    last_updated BEFORE UPDATE ON pagila.language FOR EACH ROW EXECUTE FUNCTION pagila.last_updated()\n",
      "\n"
     ]
    }
   ],
   "source": [
    "!psql -c \"\\d pagila.language\""
   ]
  },
  {
   "cell_type": "code",
   "execution_count": 34,
   "id": "7f19aa20-e5d5-49b4-b768-2309035b55d3",
   "metadata": {},
   "outputs": [
    {
     "name": "stdout",
     "output_type": "stream",
     "text": [
      "                                               Table \"pagila.payment\"\n",
      "    Column    |           Type           | Collation | Nullable |                      Default                       \n",
      "--------------+--------------------------+-----------+----------+----------------------------------------------------\n",
      " payment_id   | integer                  |           | not null | nextval('pagila.payment_payment_id_seq'::regclass)\n",
      " customer_id  | smallint                 |           | not null | \n",
      " staff_id     | smallint                 |           | not null | \n",
      " rental_id    | integer                  |           | not null | \n",
      " amount       | numeric(5,2)             |           | not null | \n",
      " payment_date | timestamp with time zone |           | not null | \n",
      "Indexes:\n",
      "    \"payment_pkey\" PRIMARY KEY, btree (payment_id)\n",
      "    \"idx_fk_customer_id\" btree (customer_id)\n",
      "    \"idx_fk_staff_id\" btree (staff_id)\n",
      "Foreign-key constraints:\n",
      "    \"customer_id_fkey\" FOREIGN KEY (customer_id) REFERENCES pagila.customer(customer_id) ON UPDATE CASCADE ON DELETE RESTRICT\n",
      "    \"rental_id_fkey\" FOREIGN KEY (rental_id) REFERENCES pagila.rental(rental_id) ON UPDATE CASCADE ON DELETE RESTRICT\n",
      "    \"staff_id_fkey\" FOREIGN KEY (staff_id) REFERENCES pagila.staff(staff_id) ON UPDATE CASCADE ON DELETE RESTRICT\n",
      "\n"
     ]
    }
   ],
   "source": [
    "!psql -c \"\\d pagila.payment\""
   ]
  },
  {
   "cell_type": "code",
   "execution_count": 35,
   "id": "cca6f2a0-b53c-43b6-a9a0-cc919b03f8aa",
   "metadata": {},
   "outputs": [
    {
     "name": "stdout",
     "output_type": "stream",
     "text": [
      "                                               Table \"pagila.rental\"\n",
      "    Column    |           Type           | Collation | Nullable |                     Default                      \n",
      "--------------+--------------------------+-----------+----------+--------------------------------------------------\n",
      " rental_id    | integer                  |           | not null | nextval('pagila.rental_rental_id_seq'::regclass)\n",
      " rental_date  | timestamp with time zone |           | not null | \n",
      " inventory_id | integer                  |           | not null | \n",
      " customer_id  | smallint                 |           | not null | \n",
      " return_date  | timestamp with time zone |           |          | \n",
      " staff_id     | smallint                 |           | not null | \n",
      " last_update  | timestamp with time zone |           | not null | now()\n",
      "Indexes:\n",
      "    \"rental_pkey\" PRIMARY KEY, btree (rental_id)\n",
      "    \"idx_fk_inventory_id\" btree (inventory_id)\n",
      "    \"idx_unq_rental_rental_date_inventory_id_customer_id\" UNIQUE, btree (rental_date, inventory_id, customer_id)\n",
      "Foreign-key constraints:\n",
      "    \"rental_customer_id_fkey\" FOREIGN KEY (customer_id) REFERENCES pagila.customer(customer_id) ON UPDATE CASCADE ON DELETE RESTRICT\n",
      "    \"rental_inventory_id_fkey\" FOREIGN KEY (inventory_id) REFERENCES pagila.inventory(inventory_id) ON UPDATE CASCADE ON DELETE RESTRICT\n",
      "    \"rental_staff_id_fkey\" FOREIGN KEY (staff_id) REFERENCES pagila.staff(staff_id) ON UPDATE CASCADE ON DELETE RESTRICT\n",
      "Referenced by:\n",
      "    TABLE \"pagila.payment\" CONSTRAINT \"rental_id_fkey\" FOREIGN KEY (rental_id) REFERENCES pagila.rental(rental_id) ON UPDATE CASCADE ON DELETE RESTRICT\n",
      "Triggers:\n",
      "    last_updated BEFORE UPDATE ON pagila.rental FOR EACH ROW EXECUTE FUNCTION pagila.last_updated()\n",
      "\n"
     ]
    }
   ],
   "source": [
    "!psql -c \"\\d pagila.rental\""
   ]
  },
  {
   "cell_type": "code",
   "execution_count": 36,
   "id": "f1a26699-96d8-4eec-86f0-414ffa78cecd",
   "metadata": {},
   "outputs": [
    {
     "name": "stdout",
     "output_type": "stream",
     "text": [
      "                                              Table \"pagila.staff\"\n",
      "   Column    |           Type           | Collation | Nullable |                    Default                     \n",
      "-------------+--------------------------+-----------+----------+------------------------------------------------\n",
      " staff_id    | integer                  |           | not null | nextval('pagila.staff_staff_id_seq'::regclass)\n",
      " first_name  | text                     |           | not null | \n",
      " last_name   | text                     |           | not null | \n",
      " address_id  | smallint                 |           | not null | \n",
      " email       | text                     |           |          | \n",
      " store_id    | smallint                 |           | not null | \n",
      " active      | boolean                  |           | not null | true\n",
      " username    | text                     |           | not null | \n",
      " password    | text                     |           |          | \n",
      " last_update | timestamp with time zone |           | not null | now()\n",
      " picture     | bytea                    |           |          | \n",
      "Indexes:\n",
      "    \"staff_pkey\" PRIMARY KEY, btree (staff_id)\n",
      "Foreign-key constraints:\n",
      "    \"staff_address_id_fkey\" FOREIGN KEY (address_id) REFERENCES pagila.address(address_id) ON UPDATE CASCADE ON DELETE RESTRICT\n",
      "    \"staff_store_id_fkey\" FOREIGN KEY (store_id) REFERENCES pagila.store(store_id)\n",
      "Referenced by:\n",
      "    TABLE \"pagila.rental\" CONSTRAINT \"rental_staff_id_fkey\" FOREIGN KEY (staff_id) REFERENCES pagila.staff(staff_id) ON UPDATE CASCADE ON DELETE RESTRICT\n",
      "    TABLE \"pagila.payment\" CONSTRAINT \"staff_id_fkey\" FOREIGN KEY (staff_id) REFERENCES pagila.staff(staff_id) ON UPDATE CASCADE ON DELETE RESTRICT\n",
      "Triggers:\n",
      "    last_updated BEFORE UPDATE ON pagila.staff FOR EACH ROW EXECUTE FUNCTION pagila.last_updated()\n",
      "\n"
     ]
    }
   ],
   "source": [
    "!psql -c \"\\d pagila.staff\""
   ]
  },
  {
   "cell_type": "code",
   "execution_count": 37,
   "id": "fd30d5f6-ee91-4180-9334-be2cf8077e43",
   "metadata": {},
   "outputs": [
    {
     "name": "stdout",
     "output_type": "stream",
     "text": [
      "                                                Table \"pagila.store\"\n",
      "      Column      |           Type           | Collation | Nullable |                    Default                     \n",
      "------------------+--------------------------+-----------+----------+------------------------------------------------\n",
      " store_id         | integer                  |           | not null | nextval('pagila.store_store_id_seq'::regclass)\n",
      " manager_staff_id | smallint                 |           | not null | \n",
      " address_id       | smallint                 |           | not null | \n",
      " last_update      | timestamp with time zone |           | not null | now()\n",
      "Indexes:\n",
      "    \"store_pkey\" PRIMARY KEY, btree (store_id)\n",
      "    \"idx_unq_manager_staff_id\" UNIQUE, btree (manager_staff_id)\n",
      "Foreign-key constraints:\n",
      "    \"store_address_id_fkey\" FOREIGN KEY (address_id) REFERENCES pagila.address(address_id) ON UPDATE CASCADE ON DELETE RESTRICT\n",
      "Referenced by:\n",
      "    TABLE \"pagila.customer\" CONSTRAINT \"customer_store_id_fkey\" FOREIGN KEY (store_id) REFERENCES pagila.store(store_id) ON UPDATE CASCADE ON DELETE RESTRICT\n",
      "    TABLE \"pagila.inventory\" CONSTRAINT \"inventory_store_id_fkey\" FOREIGN KEY (store_id) REFERENCES pagila.store(store_id) ON UPDATE CASCADE ON DELETE RESTRICT\n",
      "    TABLE \"pagila.staff\" CONSTRAINT \"staff_store_id_fkey\" FOREIGN KEY (store_id) REFERENCES pagila.store(store_id)\n",
      "Triggers:\n",
      "    last_updated BEFORE UPDATE ON pagila.store FOR EACH ROW EXECUTE FUNCTION pagila.last_updated()\n",
      "\n"
     ]
    }
   ],
   "source": [
    "!psql -c \"\\d pagila.store\""
   ]
  },
  {
   "cell_type": "code",
   "execution_count": 39,
   "id": "f410d4d3-4d8c-4221-9262-55c66119f042",
   "metadata": {},
   "outputs": [
    {
     "name": "stdout",
     "output_type": "stream",
     "text": [
      "                      Table \"pagila.film_category\"\n",
      "   Column    |           Type           | Collation | Nullable | Default \n",
      "-------------+--------------------------+-----------+----------+---------\n",
      " film_id     | smallint                 |           | not null | \n",
      " category_id | smallint                 |           | not null | \n",
      " last_update | timestamp with time zone |           | not null | now()\n",
      "Indexes:\n",
      "    \"film_category_pkey\" PRIMARY KEY, btree (film_id, category_id)\n",
      "Foreign-key constraints:\n",
      "    \"film_category_category_id_fkey\" FOREIGN KEY (category_id) REFERENCES pagila.category(category_id) ON UPDATE CASCADE ON DELETE RESTRICT\n",
      "    \"film_category_film_id_fkey\" FOREIGN KEY (film_id) REFERENCES pagila.film(film_id) ON UPDATE CASCADE ON DELETE RESTRICT\n",
      "Triggers:\n",
      "    last_updated BEFORE UPDATE ON pagila.film_category FOR EACH ROW EXECUTE FUNCTION pagila.last_updated()\n",
      "\n"
     ]
    }
   ],
   "source": [
    "!psql -c \"\\d pagila.film_category\""
   ]
  },
  {
   "cell_type": "code",
   "execution_count": 40,
   "id": "ac8d47bd-9c4c-4065-8815-8423156fa4ee",
   "metadata": {},
   "outputs": [
    {
     "name": "stdout",
     "output_type": "stream",
     "text": [
      "                                               Table \"pagila.category\"\n",
      "   Column    |           Type           | Collation | Nullable |                       Default                        \n",
      "-------------+--------------------------+-----------+----------+------------------------------------------------------\n",
      " category_id | integer                  |           | not null | nextval('pagila.category_category_id_seq'::regclass)\n",
      " name        | text                     |           | not null | \n",
      " last_update | timestamp with time zone |           | not null | now()\n",
      "Indexes:\n",
      "    \"category_pkey\" PRIMARY KEY, btree (category_id)\n",
      "Referenced by:\n",
      "    TABLE \"pagila.film_category\" CONSTRAINT \"film_category_category_id_fkey\" FOREIGN KEY (category_id) REFERENCES pagila.category(category_id) ON UPDATE CASCADE ON DELETE RESTRICT\n",
      "Triggers:\n",
      "    last_updated BEFORE UPDATE ON pagila.category FOR EACH ROW EXECUTE FUNCTION pagila.last_updated()\n",
      "\n"
     ]
    }
   ],
   "source": [
    "!psql -c \"\\d pagila.category\""
   ]
  },
  {
   "cell_type": "code",
   "execution_count": 76,
   "id": "69cdd31b-2141-4d14-8925-5f0ad9ca750f",
   "metadata": {},
   "outputs": [
    {
     "name": "stdout",
     "output_type": "stream",
     "text": [
      " city_id |         city          \n",
      "---------+-----------------------\n",
      "      11 | Akron\n",
      "      12 | al-Ayn\n",
      "      17 | Alessandria\n",
      "      13 | al-Hawiya\n",
      "      18 | Allappuzha (Alleppey)\n",
      "      19 | Allende\n",
      "      14 | al-Manama\n",
      "      20 | Almirante Brown\n",
      "      15 | al-Qadarif\n",
      "      16 | al-Qatif\n",
      "(10 rows)\n",
      "\n"
     ]
    }
   ],
   "source": [
    "#INNER JOINING pagila.city and pagila.country to show the city id's that are greater then 10 and cities they share based on their country id. All ordered by the city name in alphebetical order.\n",
    "!psql -c \"SELECT city_id, city FROM pagila.city INNER JOIN pagila.country ON pagila.city.country_id = pagila.country.country_id WHERE city_id>10 ORDER BY city LIMIT 10;\"\n"
   ]
  },
  {
   "cell_type": "code",
   "execution_count": 74,
   "id": "cf5e54d5-02cd-4d21-903c-145f55709dbc",
   "metadata": {},
   "outputs": [
    {
     "name": "stdout",
     "output_type": "stream",
     "text": [
      " film_id \n",
      "---------\n",
      "     205\n",
      "     210\n",
      "     162\n",
      "     194\n",
      "     111\n",
      "     130\n",
      "     126\n",
      "     115\n",
      "     105\n",
      "     212\n",
      "(10 rows)\n",
      "\n"
     ]
    }
   ],
   "source": [
    "#INNER JOINING pagila.film_category and pagila.category to show the film_id's that are greater then 100 that they share based on their category_id. All ordered by the name from pagila.category in alphebetical order.\n",
    "!psql -c \"SELECT film_id FROM pagila.film_category INNER JOIN pagila.category ON pagila.category.category_id = pagila.film_category.category_id WHERE film_id>100 ORDER BY name LIMIT 10;\""
   ]
  },
  {
   "cell_type": "code",
   "execution_count": 75,
   "id": "539a5304-6293-45be-a8ff-adb43febaaa6",
   "metadata": {},
   "outputs": [
    {
     "name": "stdout",
     "output_type": "stream",
     "text": [
      " staff_id | first_name | last_name \n",
      "----------+------------+-----------\n",
      "        2 | Jon        | Stephens\n",
      "        1 | Mike       | Hillyer\n",
      "(2 rows)\n",
      "\n"
     ]
    }
   ],
   "source": [
    "#INNER JOINING pagila.store and pagila.staff to show the staff id's, first names and last names they share using the store id's that are less then 100. All ordered by the username in alphebetical order.\n",
    "!psql -c \"SELECT staff_id, first_name, last_name FROM pagila.store INNER JOIN pagila.staff ON pagila.store.store_id = pagila.staff.store_id WHERE pagila.store.store_id<100 ORDER BY username LIMIT 10;\""
   ]
  },
  {
   "cell_type": "code",
   "execution_count": 72,
   "id": "7ef707e0-eeb9-4d91-b491-6ec56cc03bca",
   "metadata": {},
   "outputs": [
    {
     "name": "stdout",
     "output_type": "stream",
     "text": [
      " city_id |      city       \n",
      "---------+-----------------\n",
      "      20 | Almirante Brown\n",
      "      43 | Avellaneda\n",
      "      45 | Baha Blanca\n",
      "      59 | Batna\n",
      "      63 | Bchar\n",
      "      67 | Benguela\n",
      "     128 | Crdoba\n",
      "     161 | Escobar\n",
      "     165 | Ezeiza\n",
      "     251 | Kabul\n",
      "(10 rows)\n",
      "\n"
     ]
    }
   ],
   "source": [
    "#OUTER JOINING pagila.city and pagila.country to return ALL the records on city_id and city from both tables using the country_id's less then 8.All ordered by city in alphebetical order.\n",
    "!psql -c \"SELECT city_id, city FROM pagila.city FULL OUTER JOIN pagila.country ON pagila.city.country_id = pagila.country.country_id WHERE pagila.country.country_id<8 ORDER BY city LIMIT 10\";"
   ]
  },
  {
   "cell_type": "code",
   "execution_count": 78,
   "id": "8cd9afef-dbd2-4c4b-b3f1-0295e69d83ca",
   "metadata": {},
   "outputs": [
    {
     "name": "stdout",
     "output_type": "stream",
     "text": [
      " film_id \n",
      "---------\n",
      "      97\n",
      "      29\n",
      "      67\n",
      "      21\n",
      "      38\n",
      "      19\n",
      "      56\n",
      "      36\n",
      "      23\n",
      "      18\n",
      "(10 rows)\n",
      "\n"
     ]
    }
   ],
   "source": [
    "#OUTER JOINING pagila.film_category and pagila.category to return ALL the records film id's less then 100 from both tables using the category_id's .All ordered by name in alphebetical order.\n",
    "!psql -c \"SELECT film_id FROM pagila.film_category FULL OUTER JOIN pagila.category ON pagila.category.category_id = pagila.film_category.category_id WHERE film_id<100 ORDER BY name LIMIT 10;\";"
   ]
  },
  {
   "cell_type": "code",
   "execution_count": 93,
   "id": "a1d0448a-76ea-4c9b-b075-9fed52a66524",
   "metadata": {},
   "outputs": [
    {
     "name": "stdout",
     "output_type": "stream",
     "text": [
      " first_name | last_name \n",
      "------------+-----------\n",
      " Jon        | Stephens\n",
      " Mike       | Hillyer\n",
      "(2 rows)\n",
      "\n"
     ]
    }
   ],
   "source": [
    "#OUTER JOINING pagila.store and pagila.staff to return ALL the first and last names from both tables using the store_id's less then 200.All ordered by username in alphebetical order.\n",
    "!psql -c \"SELECT first_name, last_name FROM pagila.store FULL OUTER JOIN pagila.staff ON pagila.store.store_id = pagila.staff.store_id WHERE pagila.store.store_id<200 ORDER BY username LIMIT 10;\";"
   ]
  },
  {
   "cell_type": "code",
   "execution_count": 101,
   "id": "e5203b09-513d-4bc9-91e5-310c3fd9cc35",
   "metadata": {},
   "outputs": [
    {
     "name": "stdout",
     "output_type": "stream",
     "text": [
      " first_name | last_name |            email             \n",
      "------------+-----------+------------------------------\n",
      " Mike       | Hillyer   | Jon.Stephens@sakilastaff.com\n",
      " Jon        | Stephens  | Mike.Hillyer@sakilastaff.com\n",
      "(2 rows)\n",
      "\n"
     ]
    }
   ],
   "source": [
    "#SELF JOINING pagila.staff on itself and listing the first, last name and emails where the staff id's do not equal each other.\n",
    "!psql -c \"SELECT pagila.staff.first_name, pagila.staff.last_name, pagila.staff2.email FROM pagila.staff JOIN pagila.staff2 ON pagila.staff.staff_id!=pagila.staff2.staff_id\""
   ]
  }
 ],
 "metadata": {
  "environment": {
   "kernel": "python3",
   "name": "common-cpu.m111",
   "type": "gcloud",
   "uri": "gcr.io/deeplearning-platform-release/base-cpu:m111"
  },
  "kernelspec": {
   "display_name": "Python 3",
   "language": "python",
   "name": "python3"
  },
  "language_info": {
   "codemirror_mode": {
    "name": "ipython",
    "version": 3
   },
   "file_extension": ".py",
   "mimetype": "text/x-python",
   "name": "python",
   "nbconvert_exporter": "python",
   "pygments_lexer": "ipython3",
   "version": "3.10.12"
  }
 },
 "nbformat": 4,
 "nbformat_minor": 5
}

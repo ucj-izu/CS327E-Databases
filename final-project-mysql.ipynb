{
 "cells": [
  {
   "cell_type": "code",
   "execution_count": 18,
   "id": "bcd5270b-048b-425d-92e1-1d4ad879c5af",
   "metadata": {},
   "outputs": [],
   "source": [
    "HOST = \"10.89.240.3\"\n",
    "USER = \"root\"\n",
    "PW=\"dedsec\"\n",
    "DB=\"final_project\""
   ]
  },
  {
   "cell_type": "code",
   "execution_count": 19,
   "id": "408be74f-a444-4920-bfe9-172d41403244",
   "metadata": {
    "tags": []
   },
   "outputs": [
    {
     "name": "stdout",
     "output_type": "stream",
     "text": [
      "<mysql.connector.connection_cext.CMySQLConnection object at 0x7f17493b0a90>\n"
     ]
    }
   ],
   "source": [
    "import mysql.connector\n",
    "\n",
    "def connect():\n",
    "    connection = mysql.connector.connect(\n",
    "    host=HOST,\n",
    "    user=USER,\n",
    "    password=PW,\n",
    "    database=DB,\n",
    "    autocommit=False)\n",
    "    \n",
    "    return connection\n",
    "\n",
    "import mysql.connector\n",
    "\n",
    "connection = connect()\n",
    "\n",
    "print(connection)"
   ]
  },
  {
   "cell_type": "code",
   "execution_count": 20,
   "id": "1f43133c-3eb7-4896-9cca-232b4ee9ab17",
   "metadata": {},
   "outputs": [
    {
     "name": "stdout",
     "output_type": "stream",
     "text": [
      "<mysql.connector.connection_cext.CMySQLConnection object at 0x7f17493afa60>\n",
      "DROP TABLE IF EXISTS shopper\n",
      "CREATE TABLE shopper(\n",
      "    cust_id VARCHAR(200) PRIMARY KEY,\n",
      "    first_name VARCHAR(20) NOT NULL,\n",
      "    last_name VARCHAR(23) NOT NULL,\n",
      "    company VARCHAR(40) NOT NULL,\n",
      "    street_1 VARCHAR(41) NOT NULL,\n",
      "    street_2 VARCHAR(41) NOT NULL,\n",
      "    city VARCHAR(29) NOT NULL,\n",
      "    county VARCHAR(30) NOT NULL, \n",
      "    state CHAR(50)NOT NULL, \n",
      "    zip CHAR(5) NOT NULL,\n",
      "    phone_1 CHAR(155) NOT NULL,\n",
      "    phone_2 CHAR(155)NOT NULL,\n",
      "    email VARCHAR(44) NOT NULL) \n",
      "Dropped shopper table\n",
      "Created shopper table\n"
     ]
    }
   ],
   "source": [
    "import mysql.connector\n",
    "\n",
    "connection = connect()\n",
    "print(connection)\n",
    "\n",
    "drop = 'DROP TABLE IF EXISTS shopper'\n",
    "\n",
    "create = '''CREATE TABLE shopper(\n",
    "    cust_id VARCHAR(200) PRIMARY KEY,\n",
    "    first_name VARCHAR(20) NOT NULL,\n",
    "    last_name VARCHAR(23) NOT NULL,\n",
    "    company VARCHAR(40) NOT NULL,\n",
    "    street_1 VARCHAR(41) NOT NULL,\n",
    "    street_2 VARCHAR(41) NOT NULL,\n",
    "    city VARCHAR(29) NOT NULL,\n",
    "    county VARCHAR(30) NOT NULL, \n",
    "    state CHAR(50)NOT NULL, \n",
    "    zip CHAR(5) NOT NULL,\n",
    "    phone_1 CHAR(155) NOT NULL,\n",
    "    phone_2 CHAR(155)NOT NULL,\n",
    "    email VARCHAR(44) NOT NULL) '''\n",
    "\n",
    "print(drop)\n",
    "print(create)\n",
    "\n",
    "try:\n",
    "    cursor = connection.cursor()\n",
    "    cursor.execute(drop)\n",
    "    print('Dropped shopper table')\n",
    "    \n",
    "    cursor = connection.cursor()\n",
    "    cursor.execute(create)\n",
    "    print('Created shopper table')\n",
    "except Exception as e:\n",
    "    print(\"Error occurred while creating shopper table:\", e)"
   ]
  },
  {
   "cell_type": "code",
   "execution_count": 25,
   "id": "da26d23d-01e7-4707-b8a0-2dd2b240ea78",
   "metadata": {},
   "outputs": [
    {
     "name": "stdout",
     "output_type": "stream",
     "text": [
      "<mysql.connector.connection_cext.CMySQLConnection object at 0x7f17493c9de0>\n",
      "50 records written into shopper table\n"
     ]
    }
   ],
   "source": [
    "import mysql.connector\n",
    "from faker import Faker\n",
    "\n",
    "fake = Faker('en_US')\n",
    "fake1 = Faker('en_GB')\n",
    "connection = connect()\n",
    "print(connection)\n",
    "\n",
    "record = []\n",
    "\n",
    "customer_id = []\n",
    "\n",
    "for _ in range(50):\n",
    "\n",
    "    customer_record = ( \n",
    "        fake.uuid4(),\n",
    "        fake.first_name(),\n",
    "        fake.last_name(),\n",
    "        fake.company(),\n",
    "        fake.street_address(),\n",
    "        fake.secondary_address(),\n",
    "        fake.city(),\n",
    "        fake.state(),\n",
    "        fake1.county(),\n",
    "        fake.zipcode(),\n",
    "        fake.phone_number(),\n",
    "        fake.phone_number(),\n",
    "        fake.email()\n",
    "    )\n",
    "    \n",
    "    record.append(customer_record)\n",
    "    customer_id.append(customer_record[0])\n",
    "    \n",
    "insert_customer_query = \"\"\"\n",
    "    INSERT INTO shopper \n",
    "    VALUES (%s, %s, %s, %s, %s, %s, %s, %s, %s, %s, %s, %s, %s)\n",
    "    \"\"\"\n",
    "    \n",
    "try:\n",
    "    cursor = connection.cursor()\n",
    "    for rec in record:\n",
    "        cursor.execute(insert_customer_query, rec)\n",
    "    connection.commit()\n",
    "    print(\"50 records written into shopper table\")\n",
    "except Exception as e:\n",
    "    print(\"Error occurred while writing documents:\", e)"
   ]
  },
  {
   "cell_type": "code",
   "execution_count": 26,
   "id": "a792039f-30a7-4f5b-bec8-514c1bbf643c",
   "metadata": {},
   "outputs": [
    {
     "name": "stdout",
     "output_type": "stream",
     "text": [
      "['bdaa0848-9e02-46c1-9ea5-a656f41a1553', '1f7ecc5b-5eb6-4254-af1f-67ebf6d6606f', '100ff8b0-30c4-42c6-857e-8a4f75cef62a', '0edcab56-9dd1-4872-ab49-995d2b9a2bd0', '4db5ece3-15e0-4444-b664-6e3cb97125f5', 'bda866f7-28d8-443e-96af-40ef2d49a6c0', '534d7501-8899-4546-bc82-4df181d5c031', '3bb3d890-82af-420a-b69f-0cc7e7a2ea50', 'ce7df055-f3e7-4f59-a5ec-e94b4fbd7406', '8be6f469-4c75-4694-a75e-47ee572da4a4', '8022808b-7ec7-4115-ba4c-aff2076ee76c', '0427d445-4b19-4c01-9fd7-f1633fa61ab2', 'af4cb9c8-b5b1-4f4e-ae7c-7456dd57688c', '7e99e224-b835-4e2b-8ab9-17352017b93f', 'd2ce4a8e-9666-477c-b72b-b23176ab2679', 'e9188b89-873e-4208-83c0-d40d0c4c9cf3', '8d37fa01-493d-427a-9533-3ec1275f959d', '4a55bceb-cd4f-48cd-9e35-7ea0c4e0c3fc', '9372e2e3-a542-4784-bce7-e6789ad7ebc5', 'bae10aae-55fc-4c71-aeaa-3da3228318e4', 'b5ce43a4-75b1-497d-8608-792dbd3a5c94', '5c82e2fd-8f6a-4c63-8bea-5b67265302ae', 'd5d2c45e-2cb1-4fb3-8a79-4bb8aed75468', 'e5080f7f-86ce-4d35-b463-99a9d1b5a79f', '0e7f4af7-52cc-4588-b429-9ec1284d2cbd', 'aef389be-96b8-4edb-97fc-1bb022b30943', 'd4057d85-19bc-4d8c-b9eb-d45bb84967de', '866a82f8-a0b8-4db5-b3bd-3ef9dcb3e01f', '872344fd-60af-4183-a03c-d56c8f8b0805', '97e33f79-faf1-45d5-8a0f-1d8bc53f3022', '0f69ac37-75e6-4907-94b4-02ba308eceaa', '6738f3b1-8ded-4679-a2db-7f8098d33ed5', '8228e811-3246-4196-9cdb-dc7e37abe5da', '6cc1aa41-0c6b-4fae-b383-d81fda97d73d', 'dd690ea5-3440-4696-b73f-91fc641b74dc', 'd7126df6-f978-4386-915b-6e06b2754a47', 'a4e72b74-89fe-4854-8477-e45a07b1d3e8', 'b224e963-8a56-455b-99c1-f8a848bcb9fe', '89602537-2dce-40c3-85c5-d425af02712b', 'f4b06294-3f4c-4803-add3-314febd89c03', 'c6853049-4d7a-4ee9-9a97-7bc4ef9cc8ed', 'eae18808-4ae0-4026-b4d7-1601e4b24219', 'a8e4904d-63f7-43e3-afed-0369fbfe965c', 'ad7e51f8-b996-4241-b632-31a782c322cb', 'a36b6057-6106-4d09-b8da-d3a805f7fc04', 'adf2192a-a0dc-4001-927c-83ff6f7ffe6e', 'e3f9836b-7448-44fb-a9a8-9d827faeff9f', '76400634-8cb3-4bc3-ae2f-a60abaa11368', 'f7a2fa01-279d-48b4-afe8-37956a2657af', '464a8309-ef30-43f1-a7eb-3c788264bef8']\n"
     ]
    }
   ],
   "source": [
    "print (customer_id)"
   ]
  },
  {
   "cell_type": "code",
   "execution_count": null,
   "id": "58d27d35-885f-4c07-9cff-e35cf36369b6",
   "metadata": {},
   "outputs": [],
   "source": []
  }
 ],
 "metadata": {
  "environment": {
   "kernel": "python3",
   "name": "common-cpu.m111",
   "type": "gcloud",
   "uri": "gcr.io/deeplearning-platform-release/base-cpu:m111"
  },
  "kernelspec": {
   "display_name": "Python 3",
   "language": "python",
   "name": "python3"
  },
  "language_info": {
   "codemirror_mode": {
    "name": "ipython",
    "version": 3
   },
   "file_extension": ".py",
   "mimetype": "text/x-python",
   "name": "python",
   "nbconvert_exporter": "python",
   "pygments_lexer": "ipython3",
   "version": "3.10.12"
  }
 },
 "nbformat": 4,
 "nbformat_minor": 5
}

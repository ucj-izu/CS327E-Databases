{
 "cells": [
  {
   "cell_type": "code",
   "execution_count": 11,
   "id": "e334e382-29c8-41e3-9acc-b2abf023ca86",
   "metadata": {},
   "outputs": [],
   "source": [
    "HOST = \"10.89.240.11\"\n",
    "USER = \"postgres\"\n",
    "PW=\"dedsec\"\n",
    "DB=\"postgres\""
   ]
  },
  {
   "cell_type": "code",
   "execution_count": 12,
   "id": "20b4968c-84f1-410f-96ac-435d68404469",
   "metadata": {},
   "outputs": [],
   "source": [
    "import psycopg\n",
    "\n",
    "def connect():\n",
    "    \n",
    "    url = \"dbname='{}' user='{}' host={} port=5432 password={}\".format(DB, USER, HOST, PW)\n",
    "    connection = psycopg.connect(url)\n",
    "\n",
    "    return connection"
   ]
  },
  {
   "cell_type": "code",
   "execution_count": 13,
   "id": "3116f413-2ed3-419f-8d24-02a425eff5a8",
   "metadata": {},
   "outputs": [
    {
     "name": "stdout",
     "output_type": "stream",
     "text": [
      "<psycopg.Connection [IDLE] (host=10.89.240.11 database=postgres) at 0x7ff4cf9e8e20>\n"
     ]
    }
   ],
   "source": [
    "import psycopg\n",
    "\n",
    "connection = connect()\n",
    "\n",
    "print(connection)"
   ]
  },
  {
   "cell_type": "code",
   "execution_count": 14,
   "id": "27f33b09-cb59-4d01-a401-94befd0e86c1",
   "metadata": {},
   "outputs": [
    {
     "name": "stdout",
     "output_type": "stream",
     "text": [
      "<psycopg.Connection [IDLE] (host=10.89.240.11 database=postgres) at 0x7ff4cf9e9600>\n",
      "DROP TABLE IF EXISTS final_project.reservation\n",
      "CREATE TABLE final_project.reservation(\n",
      "    res_id VARCHAR(200) PRIMARY KEY,\n",
      "    cust_id VARCHAR(200) NOT NULL,\n",
      "    prp_nm VARCHAR(200) NOT NULL,\n",
      "    prp_ch VARCHAR(200) NOT NULL,\n",
      "    adr_line_1 VARCHAR(41) NOT NULL,\n",
      "    adr_line_2 VARCHAR(41) NOT NULL,\n",
      "    city VARCHAR(29) NOT NULL,\n",
      "    state VARCHAR(200) NOT NULL,\n",
      "    postal_cd VARCHAR(20) NOT NULL,\n",
      "    lat DOUBLE PRECISION NOT NULL,\n",
      "    long DOUBLE PRECISION NOT NULL,\n",
      "    cnt_code VARCHAR(5) ,\n",
      "    arr_date DATE NOT NULL,\n",
      "    dep_date DATE NOT NULL,\n",
      "    pmt_amt NUMERIC(10, 2) NOT NULL\n",
      ") \n",
      "Dropped reservation table\n",
      "Created reservation table\n"
     ]
    }
   ],
   "source": [
    "import psycopg\n",
    "\n",
    "connection = connect()\n",
    "print(connection)\n",
    "\n",
    "drop = 'DROP TABLE IF EXISTS final_project.reservation'\n",
    "\n",
    "create = '''CREATE TABLE final_project.reservation(\n",
    "    res_id VARCHAR(200) PRIMARY KEY,\n",
    "    cust_id VARCHAR(200) NOT NULL,\n",
    "    prp_nm VARCHAR(200) NOT NULL,\n",
    "    prp_ch VARCHAR(200) NOT NULL,\n",
    "    adr_line_1 VARCHAR(41) NOT NULL,\n",
    "    adr_line_2 VARCHAR(41) NOT NULL,\n",
    "    city VARCHAR(29) NOT NULL,\n",
    "    state VARCHAR(200) NOT NULL,\n",
    "    postal_cd VARCHAR(20) NOT NULL,\n",
    "    lat DOUBLE PRECISION NOT NULL,\n",
    "    long DOUBLE PRECISION NOT NULL,\n",
    "    cnt_code VARCHAR(5) ,\n",
    "    arr_date DATE NOT NULL,\n",
    "    dep_date DATE NOT NULL,\n",
    "    pmt_amt NUMERIC(10, 2) NOT NULL\n",
    ") '''\n",
    "\n",
    "print(drop)\n",
    "print(create)\n",
    "\n",
    "try:\n",
    "    \n",
    "    cursor = connection.cursor()\n",
    "    cursor.execute(drop)\n",
    "    print('Dropped reservation table')\n",
    "    \n",
    "    cursor = connection.cursor()\n",
    "    cursor.execute(create)\n",
    "    print('Created reservation table')\n",
    "    \n",
    "    connection.commit() # commit the changes \n",
    "except Exception as e:\n",
    "    print(\"Error occurred while creating person table:\", e)"
   ]
  },
  {
   "cell_type": "code",
   "execution_count": 16,
   "id": "949a1dec-7684-40ae-8524-7aaea470d124",
   "metadata": {},
   "outputs": [
    {
     "name": "stdout",
     "output_type": "stream",
     "text": [
      "<psycopg.Connection [IDLE] (host=10.89.240.11 database=postgres) at 0x7ff4cf9e8d00>\n",
      "Wrote 100 records into reservation table\n"
     ]
    }
   ],
   "source": [
    "import psycopg\n",
    "from faker import Faker\n",
    "\n",
    "fake = Faker()\n",
    "import random\n",
    "from datetime import datetime, timedelta\n",
    "\n",
    "connection = connect()\n",
    "print(connection)\n",
    "\n",
    "fake = Faker()\n",
    "\n",
    "# Function to generate a random date within a given range\n",
    "def random_date(start_date, end_date):\n",
    "    return start_date + timedelta(\n",
    "        seconds=random.randint(0, int((end_date - start_date).total_seconds()))\n",
    "    )\n",
    "\n",
    "# Generate 100 unique records\n",
    "num_records = 100\n",
    "start_date = datetime(2023, 1, 1)\n",
    "end_date = datetime(2023, 12, 31)\n",
    "\n",
    "record = []\n",
    "customer_id = ['bdaa0848-9e02-46c1-9ea5-a656f41a1553', '1f7ecc5b-5eb6-4254-af1f-67ebf6d6606f', \\\n",
    "               '100ff8b0-30c4-42c6-857e-8a4f75cef62a', '0edcab56-9dd1-4872-ab49-995d2b9a2bd0', '4db5ece3-15e0-4444-b664-6e3cb97125f5', \\\n",
    "               'bda866f7-28d8-443e-96af-40ef2d49a6c0', '534d7501-8899-4546-bc82-4df181d5c031', '3bb3d890-82af-420a-b69f-0cc7e7a2ea50', \\\n",
    "               'ce7df055-f3e7-4f59-a5ec-e94b4fbd7406', '8be6f469-4c75-4694-a75e-47ee572da4a4', '8022808b-7ec7-4115-ba4c-aff2076ee76c', '0427d445-4b19-4c01-9fd7-f1633fa61ab2', 'af4cb9c8-b5b1-4f4e-ae7c-7456dd57688c', '7e99e224-b835-4e2b-8ab9-17352017b93f', 'd2ce4a8e-9666-477c-b72b-b23176ab2679', 'e9188b89-873e-4208-83c0-d40d0c4c9cf3', '8d37fa01-493d-427a-9533-3ec1275f959d', '4a55bceb-cd4f-48cd-9e35-7ea0c4e0c3fc', '9372e2e3-a542-4784-bce7-e6789ad7ebc5', 'bae10aae-55fc-4c71-aeaa-3da3228318e4', 'b5ce43a4-75b1-497d-8608-792dbd3a5c94', '5c82e2fd-8f6a-4c63-8bea-5b67265302ae', 'd5d2c45e-2cb1-4fb3-8a79-4bb8aed75468', 'e5080f7f-86ce-4d35-b463-99a9d1b5a79f', '0e7f4af7-52cc-4588-b429-9ec1284d2cbd', 'aef389be-96b8-4edb-97fc-1bb022b30943', 'd4057d85-19bc-4d8c-b9eb-d45bb84967de', '866a82f8-a0b8-4db5-b3bd-3ef9dcb3e01f', '872344fd-60af-4183-a03c-d56c8f8b0805', '97e33f79-faf1-45d5-8a0f-1d8bc53f3022', '0f69ac37-75e6-4907-94b4-02ba308eceaa', '6738f3b1-8ded-4679-a2db-7f8098d33ed5', '8228e811-3246-4196-9cdb-dc7e37abe5da', '6cc1aa41-0c6b-4fae-b383-d81fda97d73d', 'dd690ea5-3440-4696-b73f-91fc641b74dc', 'd7126df6-f978-4386-915b-6e06b2754a47', 'a4e72b74-89fe-4854-8477-e45a07b1d3e8', 'b224e963-8a56-455b-99c1-f8a848bcb9fe', '89602537-2dce-40c3-85c5-d425af02712b', 'f4b06294-3f4c-4803-add3-314febd89c03', 'c6853049-4d7a-4ee9-9a97-7bc4ef9cc8ed', 'eae18808-4ae0-4026-b4d7-1601e4b24219', 'a8e4904d-63f7-43e3-afed-0369fbfe965c', 'ad7e51f8-b996-4241-b632-31a782c322cb', 'a36b6057-6106-4d09-b8da-d3a805f7fc04', 'adf2192a-a0dc-4001-927c-83ff6f7ffe6e', 'e3f9836b-7448-44fb-a9a8-9d827faeff9f', '76400634-8cb3-4bc3-ae2f-a60abaa11368', 'f7a2fa01-279d-48b4-afe8-37956a2657af', '464a8309-ef30-43f1-a7eb-3c788264bef8']\n",
    "cnt_codes = []\n",
    "for x in range(num_records):\n",
    "    res_id = fake.uuid4()\n",
    "    cust_id = customer_id[random.randint(0, 49)]\n",
    "    prp_nm = fake.company()\n",
    "    prp_ch = fake.company_suffix()\n",
    "    adr_line_1 = fake.street_address()\n",
    "    adr_line_2 = fake.secondary_address()\n",
    "    city = fake.city()\n",
    "    state = fake.state()\n",
    "    postal_cd = fake.zipcode()\n",
    "    lat = fake.latitude()\n",
    "    long = fake.longitude()\n",
    "    cnt_code = fake.country_code()\n",
    "    arr_date = random_date(start_date, end_date).date()\n",
    "    dep_date = random_date(start_date, end_date).date()\n",
    "    pmt_amt = round(random.uniform(100.0, 1000.0), 2)\n",
    "\n",
    "    reservation = (\n",
    "        res_id,\n",
    "        cust_id,\n",
    "        prp_nm,\n",
    "        prp_ch,\n",
    "        adr_line_1,\n",
    "        adr_line_2,\n",
    "        city,\n",
    "        state,\n",
    "        postal_cd,\n",
    "        lat,\n",
    "        long,\n",
    "        cnt_code,\n",
    "        arr_date,\n",
    "        dep_date,\n",
    "        pmt_amt\n",
    "    )\n",
    "\n",
    "    record.append(reservation)\n",
    "    cnt_codes.append(reservation[11])\n",
    "    \n",
    "sql = \"INSERT INTO final_project.reservation (res_id,cust_id,prp_nm,prp_ch,adr_line_1,\\\n",
    "adr_line_2,city,state,postal_cd,lat,long,cnt_code,arr_date,dep_date,pmt_amt)\\\n",
    " \t  VALUES (%s, %s, %s, %s, %s, %s, %s, %s, %s, %s, %s, %s, %s, %s, %s)\"\n",
    "    \n",
    "try:\n",
    "    cursor = connection.cursor()\n",
    "    \n",
    "    for rec in record:\n",
    "        cursor.execute(sql, rec)\n",
    "    \n",
    "    connection.commit()\n",
    "    print(\"Wrote 100 records into reservation table\")\n",
    "        \n",
    "except Exception as e:\n",
    "    print(\"Failed to insert record into reservation table:\", e)"
   ]
  },
  {
   "cell_type": "code",
   "execution_count": 17,
   "id": "07e37181-5dec-4480-81a7-9a5007587c32",
   "metadata": {},
   "outputs": [
    {
     "name": "stdout",
     "output_type": "stream",
     "text": [
      "['MC', 'HR', 'MY', 'DK', 'KR', 'GH', 'CU', 'JM', 'RU', 'CG', 'ME', 'MD', 'BT', 'JM', 'CV', 'UY', 'UZ', 'TJ', 'CG', 'DE', 'TO', 'MC', 'SO', 'LV', 'ZW', 'SY', 'KR', 'SM', 'FJ', 'BY', 'FJ', 'EE', 'TL', 'BO', 'GR', 'GW', 'UY', 'KN', 'MY', 'UY', 'TD', 'KN', 'MR', 'TZ', 'UG', 'LK', 'TL', 'MN', 'TD', 'TO', 'DM', 'GR', 'UG', 'GN', 'CD', 'BH', 'SL', 'TW', 'PH', 'NI', 'HT', 'NI', 'RW', 'CU', 'BN', 'UZ', 'SY', 'BZ', 'FJ', 'CZ', 'LV', 'CH', 'SE', 'LY', 'BB', 'CF', 'FM', 'KN', 'ES', 'ST', 'CU', 'CM', 'DO', 'IN', 'PA', 'NG', 'PY', 'BB', 'CU', 'CA', 'VC', 'HR', 'AF', 'FI', 'EC', 'TV', 'CI', 'LR', 'ZA', 'KZ']\n"
     ]
    }
   ],
   "source": [
    "print(cnt_codes)"
   ]
  },
  {
   "cell_type": "code",
   "execution_count": null,
   "id": "c2784af3-26eb-4120-8fd0-c60387a0123f",
   "metadata": {},
   "outputs": [],
   "source": []
  }
 ],
 "metadata": {
  "environment": {
   "kernel": "python3",
   "name": "common-cpu.m111",
   "type": "gcloud",
   "uri": "gcr.io/deeplearning-platform-release/base-cpu:m111"
  },
  "kernelspec": {
   "display_name": "Python 3",
   "language": "python",
   "name": "python3"
  },
  "language_info": {
   "codemirror_mode": {
    "name": "ipython",
    "version": 3
   },
   "file_extension": ".py",
   "mimetype": "text/x-python",
   "name": "python",
   "nbconvert_exporter": "python",
   "pygments_lexer": "ipython3",
   "version": "3.10.12"
  }
 },
 "nbformat": 4,
 "nbformat_minor": 5
}

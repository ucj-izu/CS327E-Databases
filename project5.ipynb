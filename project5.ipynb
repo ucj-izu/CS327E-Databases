{
 "cells": [
  {
   "cell_type": "code",
   "execution_count": 1,
   "id": "c56b42b0-12d8-4703-9f46-291e34cb3dda",
   "metadata": {},
   "outputs": [
    {
     "name": "stdout",
     "output_type": "stream",
     "text": [
      "env: BASE_DIR=/home/jupyter/snippets\n"
     ]
    }
   ],
   "source": [
    "%env BASE_DIR=/home/jupyter/snippets"
   ]
  },
  {
   "cell_type": "code",
   "execution_count": 2,
   "id": "0e7f23d5-0533-47e7-941f-6c904cad2202",
   "metadata": {},
   "outputs": [
    {
     "name": "stdout",
     "output_type": "stream",
     "text": [
      "Copying gs://cs327e-open-access/fs_shopify.zip...\n",
      "/ [1 files][  3.2 MiB/  3.2 MiB]                                                \n",
      "Operation completed over 1 objects/3.2 MiB.                                      \n"
     ]
    }
   ],
   "source": [
    "!gsutil cp gs://cs327e-open-access/fs_shopify.zip ."
   ]
  },
  {
   "cell_type": "code",
   "execution_count": 3,
   "id": "f4c09f94-9c06-428c-971c-f4786ad3cc7e",
   "metadata": {},
   "outputs": [
    {
     "name": "stdout",
     "output_type": "stream",
     "text": [
      "Copying gs://cs327e-open-access/fs_samples.zip...\n",
      "/ [1 files][  4.5 KiB/  4.5 KiB]                                                \n",
      "Operation completed over 1 objects/4.5 KiB.                                      \n"
     ]
    }
   ],
   "source": [
    "!gsutil cp gs://cs327e-open-access/fs_samples.zip ."
   ]
  },
  {
   "cell_type": "code",
   "execution_count": 4,
   "id": "661988ec-ed23-4b25-a655-a54230dad9f4",
   "metadata": {},
   "outputs": [
    {
     "name": "stdout",
     "output_type": "stream",
     "text": [
      "Archive:  /home/jupyter/snippets/fs_shopify.zip\n",
      "   creating: fs_shopify/\n",
      "  inflating: fs_shopify/apps.csv     \n",
      "  inflating: fs_shopify/reviews.csv  \n",
      "  inflating: fs_shopify/apps_categories.csv  \n",
      "  inflating: fs_shopify/key_benefits.csv  \n",
      "  inflating: fs_shopify/categories.csv  \n",
      "  inflating: fs_shopify/pricing_plans.csv  \n",
      "  inflating: fs_shopify/pricing_plan_features.csv  \n"
     ]
    }
   ],
   "source": [
    "!unzip $BASE_DIR/fs_shopify.zip"
   ]
  },
  {
   "cell_type": "code",
   "execution_count": 5,
   "id": "ccffb1be-3ca4-4395-8cc2-e2060d89601b",
   "metadata": {},
   "outputs": [
    {
     "name": "stdout",
     "output_type": "stream",
     "text": [
      "Archive:  /home/jupyter/snippets/fs_samples.zip\n",
      "   creating: fs_samples/\n",
      "  inflating: fs_samples/delete_single.py  \n",
      "  inflating: fs_samples/write_batch.py  \n",
      "  inflating: fs_samples/read_nested.py  \n",
      "  inflating: fs_samples/read_count.py  \n",
      "  inflating: fs_samples/write_single.py  \n",
      "  inflating: fs_samples/read_where.py  \n",
      "  inflating: fs_samples/write_nested.py  \n",
      "  inflating: fs_samples/delete_field.py  \n",
      "  inflating: fs_samples/read_single.py  \n",
      "  inflating: fs_samples/update_single.py  \n",
      "  inflating: fs_samples/read_doc_with_filter2.py  \n"
     ]
    }
   ],
   "source": [
    "!unzip $BASE_DIR/fs_samples.zip"
   ]
  },
  {
   "cell_type": "code",
   "execution_count": 6,
   "id": "5dec2be8-0d59-4007-8486-55e7a10f601b",
   "metadata": {},
   "outputs": [
    {
     "data": {
      "text/plain": [
       "(DatetimeWithNanoseconds(2023, 10, 20, 3, 57, 57, 892778, tzinfo=datetime.timezone.utc),\n",
       " <google.cloud.firestore_v1.document.DocumentReference at 0x7f37f066cd90>)"
      ]
     },
     "execution_count": 6,
     "metadata": {},
     "output_type": "execute_result"
    }
   ],
   "source": [
    "import pandas as pd\n",
    "from google.cloud import firestore\n",
    "\n",
    "# Initialize Firestore client\n",
    "db = firestore.Client()\n",
    "\n",
    "df = pd.read_csv('fs_shopify/apps.csv', sep=',', header=0, lineterminator='\\n')\n",
    "app_rows = df.values.tolist()\n",
    "\n",
    "# Define a reference to the root collection \"Apps\"\n",
    "apps_collection_ref = db.collection(\"apps\")\n",
    "\n",
    "# Define the structure for the \"Apps\" collection document\n",
    "\n",
    "for app_row in app_rows:\n",
    "    app_data = {}\n",
    "    app_data['id'] = app_row[0]\n",
    "    app_data['url'] = app_row[1]\n",
    "    app_data['title'] = app_row[2]\n",
    "    app_data['developer'] = app_row[3]\n",
    "    app_data['developer_link'] = app_row[4]\n",
    "    app_data['icon'] = app_row[5]\n",
    "    app_data['rating'] = app_row[6]\n",
    "    app_data['reviews_count'] = app_row[7]\n",
    "    \n",
    "\n",
    "# Create a document in the \"Apps\" collection with the specified data\n",
    "apps_collection_ref.add(app_data)\n",
    "\n",
    "df = pd.read_csv('fs_shopify/categories.csv', sep=',', header=0, lineterminator='\\n')\n",
    "category_rows = df.values.tolist()\n",
    "\n",
    "# Define a reference to the \"Categories\" subcollection for the created \"Apps\" document\n",
    "categories_subcollection_ref = apps_collection_ref.document(app_row[0]).collection(\"categories\")\n",
    "\n",
    "# Define data for the \"Categories\" subcollection\n",
    "for category_row in category_rows:\n",
    "    category_data = {}\n",
    "    category_data['id'] = category_row[0]\n",
    "    category_data['title'] = category_row[1]\n",
    "\n",
    "# Create a document in the \"Categories\" subcollection\n",
    "categories_subcollection_ref.add(category_data)\n",
    "\n",
    "df = pd.read_csv('fs_shopify/key_benefits.csv', sep=',', header=0, lineterminator='\\n')\n",
    "keyben_rows = df.values.tolist()\n",
    "\n",
    "keyben_collection_ref = db.collection(\"key_benefits\")\n",
    "\n",
    "# Define the structure for the \"Apps\" collection document\n",
    "\n",
    "for keyben_row in keyben_rows:\n",
    "    keyben_data = {}\n",
    "    keyben_data['app_id'] = keyben_row[0]\n",
    "    keyben_data['title'] = keyben_row[1]\n",
    "    keyben_data['description'] = keyben_row[2]\n",
    "    \n",
    "\n",
    "keyben_collection_ref.add(keyben_data)\n",
    "\n",
    "\n",
    "apps_subcollection_ref = keyben_collection_ref.document(keyben_row[0]).collection(\"apps\")\n",
    "\n",
    "\n",
    "apps_subcollection_ref.add(app_data)\n",
    "\n",
    "df = pd.read_csv('fs_shopify/pricing_plan_features.csv', sep=',', header=0, lineterminator='\\n')\n",
    "ppf_rows = df.values.tolist()\n",
    "\n",
    "\n",
    "ppf_collection_ref = db.collection(\"pricing_plan_features\")\n",
    "\n",
    "\n",
    "for ppf_row in ppf_rows:\n",
    "    ppf_data = {}\n",
    "    ppf_data['app_id'] = ppf_row[0]\n",
    "    ppf_data['pricing_plan_id'] = ppf_row[1]\n",
    "    ppf_data['feature'] = ppf_row[2]\n",
    "    \n",
    "\n",
    "ppf_collection_ref.add(ppf_data)\n",
    "\n",
    "apps_subcollection_ref = ppf_collection_ref.document(ppf_row[0]).collection(\"apps\")\n",
    "\n",
    "\n",
    "apps_subcollection_ref.add(app_data)\n"
   ]
  },
  {
   "cell_type": "code",
   "execution_count": 10,
   "id": "6aae1374-76c5-4b11-9ae0-ecb43f795a9f",
   "metadata": {},
   "outputs": [
    {
     "name": "stdout",
     "output_type": "stream",
     "text": [
      "Collection: apps, Document Count: 1\n",
      "Collection: categories, Document Count: 0\n",
      "Collection: pricing_plans_features, Document Count: 0\n",
      "Collection: key_benefits, Document Count: 1\n"
     ]
    }
   ],
   "source": [
    "from google.cloud import firestore\n",
    "\n",
    "# Initialize Firestore client\n",
    "db = firestore.Client()\n",
    "\n",
    "# Define the collection names\n",
    "collection_names = [\"apps\", \"categories\", \"pricing_plans_features\", \"key_benefits\"]\n",
    "\n",
    "# Create a dictionary to store the document counts for each collection\n",
    "document_counts = {}\n",
    "\n",
    "# Loop through the collection names and count the documents in each collection\n",
    "for collection_name in collection_names:\n",
    "    collection_ref = db.collection(collection_name)\n",
    "    collection_count = collection_ref.stream()  # Stream all documents in the collection\n",
    "    document_counts[collection_name] = len(list(collection_count))\n",
    "\n",
    "# Print the document counts for each collection\n",
    "for collection_name, count in document_counts.items():\n",
    "    print(f\"Collection: {collection_name}, Document Count: {count}\")"
   ]
  },
  {
   "cell_type": "code",
   "execution_count": 31,
   "id": "62609582-6442-4f24-9c06-541a8832d42c",
   "metadata": {},
   "outputs": [
    {
     "ename": "FailedPrecondition",
     "evalue": "400 The query requires an index. You can create it here: https://console.firebase.google.com/v1/r/project/unified-canyon-397523/firestore/indexes?create_composite=ClJwcm9qZWN0cy91bmlmaWVkLWNhbnlvbi0zOTc1MjMvZGF0YWJhc2VzLyhkZWZhdWx0KS9jb2xsZWN0aW9uR3JvdXBzL2FwcHMvaW5kZXhlcy9fEAEaFAoQY2F0ZWdvcmllcy50aXRsZRABGgoKBnJhdGluZxACGgwKCF9fbmFtZV9fEAI",
     "output_type": "error",
     "traceback": [
      "\u001b[0;31m---------------------------------------------------------------------------\u001b[0m",
      "\u001b[0;31m_MultiThreadedRendezvous\u001b[0m                  Traceback (most recent call last)",
      "File \u001b[0;32m/opt/conda/lib/python3.10/site-packages/google/api_core/grpc_helpers.py:155\u001b[0m, in \u001b[0;36m_wrap_stream_errors.<locals>.error_remapped_callable\u001b[0;34m(*args, **kwargs)\u001b[0m\n\u001b[1;32m    154\u001b[0m     prefetch_first \u001b[38;5;241m=\u001b[39m \u001b[38;5;28mgetattr\u001b[39m(callable_, \u001b[38;5;124m\"\u001b[39m\u001b[38;5;124m_prefetch_first_result_\u001b[39m\u001b[38;5;124m\"\u001b[39m, \u001b[38;5;28;01mTrue\u001b[39;00m)\n\u001b[0;32m--> 155\u001b[0m     \u001b[38;5;28;01mreturn\u001b[39;00m \u001b[43m_StreamingResponseIterator\u001b[49m\u001b[43m(\u001b[49m\n\u001b[1;32m    156\u001b[0m \u001b[43m        \u001b[49m\u001b[43mresult\u001b[49m\u001b[43m,\u001b[49m\u001b[43m \u001b[49m\u001b[43mprefetch_first_result\u001b[49m\u001b[38;5;241;43m=\u001b[39;49m\u001b[43mprefetch_first\u001b[49m\n\u001b[1;32m    157\u001b[0m \u001b[43m    \u001b[49m\u001b[43m)\u001b[49m\n\u001b[1;32m    158\u001b[0m \u001b[38;5;28;01mexcept\u001b[39;00m grpc\u001b[38;5;241m.\u001b[39mRpcError \u001b[38;5;28;01mas\u001b[39;00m exc:\n",
      "File \u001b[0;32m/opt/conda/lib/python3.10/site-packages/google/api_core/grpc_helpers.py:81\u001b[0m, in \u001b[0;36m_StreamingResponseIterator.__init__\u001b[0;34m(self, wrapped, prefetch_first_result)\u001b[0m\n\u001b[1;32m     80\u001b[0m     \u001b[38;5;28;01mif\u001b[39;00m prefetch_first_result:\n\u001b[0;32m---> 81\u001b[0m         \u001b[38;5;28mself\u001b[39m\u001b[38;5;241m.\u001b[39m_stored_first_result \u001b[38;5;241m=\u001b[39m \u001b[38;5;28;43mnext\u001b[39;49m\u001b[43m(\u001b[49m\u001b[38;5;28;43mself\u001b[39;49m\u001b[38;5;241;43m.\u001b[39;49m\u001b[43m_wrapped\u001b[49m\u001b[43m)\u001b[49m\n\u001b[1;32m     82\u001b[0m \u001b[38;5;28;01mexcept\u001b[39;00m \u001b[38;5;167;01mTypeError\u001b[39;00m:\n\u001b[1;32m     83\u001b[0m     \u001b[38;5;66;03m# It is possible the wrapped method isn't an iterable (a grpc.Call\u001b[39;00m\n\u001b[1;32m     84\u001b[0m     \u001b[38;5;66;03m# for instance). If this happens don't store the first result.\u001b[39;00m\n",
      "File \u001b[0;32m/opt/conda/lib/python3.10/site-packages/grpc/_channel.py:541\u001b[0m, in \u001b[0;36m_Rendezvous.__next__\u001b[0;34m(self)\u001b[0m\n\u001b[1;32m    540\u001b[0m \u001b[38;5;28;01mdef\u001b[39;00m \u001b[38;5;21m__next__\u001b[39m(\u001b[38;5;28mself\u001b[39m):\n\u001b[0;32m--> 541\u001b[0m     \u001b[38;5;28;01mreturn\u001b[39;00m \u001b[38;5;28;43mself\u001b[39;49m\u001b[38;5;241;43m.\u001b[39;49m\u001b[43m_next\u001b[49m\u001b[43m(\u001b[49m\u001b[43m)\u001b[49m\n",
      "File \u001b[0;32m/opt/conda/lib/python3.10/site-packages/grpc/_channel.py:967\u001b[0m, in \u001b[0;36m_MultiThreadedRendezvous._next\u001b[0;34m(self)\u001b[0m\n\u001b[1;32m    966\u001b[0m \u001b[38;5;28;01melif\u001b[39;00m \u001b[38;5;28mself\u001b[39m\u001b[38;5;241m.\u001b[39m_state\u001b[38;5;241m.\u001b[39mcode \u001b[38;5;129;01mis\u001b[39;00m \u001b[38;5;129;01mnot\u001b[39;00m \u001b[38;5;28;01mNone\u001b[39;00m:\n\u001b[0;32m--> 967\u001b[0m     \u001b[38;5;28;01mraise\u001b[39;00m \u001b[38;5;28mself\u001b[39m\n",
      "\u001b[0;31m_MultiThreadedRendezvous\u001b[0m: <_MultiThreadedRendezvous of RPC that terminated with:\n\tstatus = StatusCode.FAILED_PRECONDITION\n\tdetails = \"The query requires an index. You can create it here: https://console.firebase.google.com/v1/r/project/unified-canyon-397523/firestore/indexes?create_composite=ClJwcm9qZWN0cy91bmlmaWVkLWNhbnlvbi0zOTc1MjMvZGF0YWJhc2VzLyhkZWZhdWx0KS9jb2xsZWN0aW9uR3JvdXBzL2FwcHMvaW5kZXhlcy9fEAEaFAoQY2F0ZWdvcmllcy50aXRsZRABGgoKBnJhdGluZxACGgwKCF9fbmFtZV9fEAI\"\n\tdebug_error_string = \"UNKNOWN:Error received from peer ipv4:142.250.107.95:443 {created_time:\"2023-10-20T04:36:43.177705862+00:00\", grpc_status:9, grpc_message:\"The query requires an index. You can create it here: https://console.firebase.google.com/v1/r/project/unified-canyon-397523/firestore/indexes?create_composite=ClJwcm9qZWN0cy91bmlmaWVkLWNhbnlvbi0zOTc1MjMvZGF0YWJhc2VzLyhkZWZhdWx0KS9jb2xsZWN0aW9uR3JvdXBzL2FwcHMvaW5kZXhlcy9fEAEaFAoQY2F0ZWdvcmllcy50aXRsZRABGgoKBnJhdGluZxACGgwKCF9fbmFtZV9fEAI\"}\"\n>",
      "\nThe above exception was the direct cause of the following exception:\n",
      "\u001b[0;31mFailedPrecondition\u001b[0m                        Traceback (most recent call last)",
      "Cell \u001b[0;32mIn[31], line 23\u001b[0m\n\u001b[1;32m     20\u001b[0m results \u001b[38;5;241m=\u001b[39m query\u001b[38;5;241m.\u001b[39mstream()\n\u001b[1;32m     22\u001b[0m \u001b[38;5;66;03m# Iterate through the query results and print the desired fields\u001b[39;00m\n\u001b[0;32m---> 23\u001b[0m \u001b[38;5;28;01mfor\u001b[39;00m app \u001b[38;5;129;01min\u001b[39;00m results:\n\u001b[1;32m     24\u001b[0m     app_data \u001b[38;5;241m=\u001b[39m app\u001b[38;5;241m.\u001b[39mto_dict()\n\u001b[1;32m     25\u001b[0m     \u001b[38;5;28mprint\u001b[39m(\u001b[38;5;124m\"\u001b[39m\u001b[38;5;124mApp ID:\u001b[39m\u001b[38;5;124m\"\u001b[39m, app_data[\u001b[38;5;124m\"\u001b[39m\u001b[38;5;124mid\u001b[39m\u001b[38;5;124m\"\u001b[39m])\n",
      "File \u001b[0;32m/opt/conda/lib/python3.10/site-packages/google/cloud/firestore_v1/query.py:287\u001b[0m, in \u001b[0;36mQuery.stream\u001b[0;34m(self, transaction, retry, timeout)\u001b[0m\n\u001b[1;32m    251\u001b[0m \u001b[38;5;28;01mdef\u001b[39;00m \u001b[38;5;21mstream\u001b[39m(\n\u001b[1;32m    252\u001b[0m     \u001b[38;5;28mself\u001b[39m,\n\u001b[1;32m    253\u001b[0m     transaction\u001b[38;5;241m=\u001b[39m\u001b[38;5;28;01mNone\u001b[39;00m,\n\u001b[1;32m    254\u001b[0m     retry: retries\u001b[38;5;241m.\u001b[39mRetry \u001b[38;5;241m=\u001b[39m gapic_v1\u001b[38;5;241m.\u001b[39mmethod\u001b[38;5;241m.\u001b[39mDEFAULT,\n\u001b[1;32m    255\u001b[0m     timeout: \u001b[38;5;28mfloat\u001b[39m \u001b[38;5;241m=\u001b[39m \u001b[38;5;28;01mNone\u001b[39;00m,\n\u001b[1;32m    256\u001b[0m ) \u001b[38;5;241m-\u001b[39m\u001b[38;5;241m>\u001b[39m Generator[document\u001b[38;5;241m.\u001b[39mDocumentSnapshot, Any, \u001b[38;5;28;01mNone\u001b[39;00m]:\n\u001b[1;32m    257\u001b[0m \u001b[38;5;250m    \u001b[39m\u001b[38;5;124;03m\"\"\"Read the documents in the collection that match this query.\u001b[39;00m\n\u001b[1;32m    258\u001b[0m \n\u001b[1;32m    259\u001b[0m \u001b[38;5;124;03m    This sends a ``RunQuery`` RPC and then returns an iterator which\u001b[39;00m\n\u001b[0;32m   (...)\u001b[0m\n\u001b[1;32m    285\u001b[0m \u001b[38;5;124;03m        The next document that fulfills the query.\u001b[39;00m\n\u001b[1;32m    286\u001b[0m \u001b[38;5;124;03m    \"\"\"\u001b[39;00m\n\u001b[0;32m--> 287\u001b[0m     response_iterator, expected_prefix \u001b[38;5;241m=\u001b[39m \u001b[38;5;28;43mself\u001b[39;49m\u001b[38;5;241;43m.\u001b[39;49m\u001b[43m_get_stream_iterator\u001b[49m\u001b[43m(\u001b[49m\n\u001b[1;32m    288\u001b[0m \u001b[43m        \u001b[49m\u001b[43mtransaction\u001b[49m\u001b[43m,\u001b[49m\n\u001b[1;32m    289\u001b[0m \u001b[43m        \u001b[49m\u001b[43mretry\u001b[49m\u001b[43m,\u001b[49m\n\u001b[1;32m    290\u001b[0m \u001b[43m        \u001b[49m\u001b[43mtimeout\u001b[49m\u001b[43m,\u001b[49m\n\u001b[1;32m    291\u001b[0m \u001b[43m    \u001b[49m\u001b[43m)\u001b[49m\n\u001b[1;32m    293\u001b[0m     last_snapshot \u001b[38;5;241m=\u001b[39m \u001b[38;5;28;01mNone\u001b[39;00m\n\u001b[1;32m    295\u001b[0m     \u001b[38;5;28;01mwhile\u001b[39;00m \u001b[38;5;28;01mTrue\u001b[39;00m:\n",
      "File \u001b[0;32m/opt/conda/lib/python3.10/site-packages/google/cloud/firestore_v1/query.py:221\u001b[0m, in \u001b[0;36mQuery._get_stream_iterator\u001b[0;34m(self, transaction, retry, timeout)\u001b[0m\n\u001b[1;32m    214\u001b[0m \u001b[38;5;250m\u001b[39m\u001b[38;5;124;03m\"\"\"Helper method for :meth:`stream`.\"\"\"\u001b[39;00m\n\u001b[1;32m    215\u001b[0m request, expected_prefix, kwargs \u001b[38;5;241m=\u001b[39m \u001b[38;5;28mself\u001b[39m\u001b[38;5;241m.\u001b[39m_prep_stream(\n\u001b[1;32m    216\u001b[0m     transaction,\n\u001b[1;32m    217\u001b[0m     retry,\n\u001b[1;32m    218\u001b[0m     timeout,\n\u001b[1;32m    219\u001b[0m )\n\u001b[0;32m--> 221\u001b[0m response_iterator \u001b[38;5;241m=\u001b[39m \u001b[38;5;28;43mself\u001b[39;49m\u001b[38;5;241;43m.\u001b[39;49m\u001b[43m_client\u001b[49m\u001b[38;5;241;43m.\u001b[39;49m\u001b[43m_firestore_api\u001b[49m\u001b[38;5;241;43m.\u001b[39;49m\u001b[43mrun_query\u001b[49m\u001b[43m(\u001b[49m\n\u001b[1;32m    222\u001b[0m \u001b[43m    \u001b[49m\u001b[43mrequest\u001b[49m\u001b[38;5;241;43m=\u001b[39;49m\u001b[43mrequest\u001b[49m\u001b[43m,\u001b[49m\n\u001b[1;32m    223\u001b[0m \u001b[43m    \u001b[49m\u001b[43mmetadata\u001b[49m\u001b[38;5;241;43m=\u001b[39;49m\u001b[38;5;28;43mself\u001b[39;49m\u001b[38;5;241;43m.\u001b[39;49m\u001b[43m_client\u001b[49m\u001b[38;5;241;43m.\u001b[39;49m\u001b[43m_rpc_metadata\u001b[49m\u001b[43m,\u001b[49m\n\u001b[1;32m    224\u001b[0m \u001b[43m    \u001b[49m\u001b[38;5;241;43m*\u001b[39;49m\u001b[38;5;241;43m*\u001b[39;49m\u001b[43mkwargs\u001b[49m\u001b[43m,\u001b[49m\n\u001b[1;32m    225\u001b[0m \u001b[43m\u001b[49m\u001b[43m)\u001b[49m\n\u001b[1;32m    227\u001b[0m \u001b[38;5;28;01mreturn\u001b[39;00m response_iterator, expected_prefix\n",
      "File \u001b[0;32m/opt/conda/lib/python3.10/site-packages/google/cloud/firestore_v1/services/firestore/client.py:1309\u001b[0m, in \u001b[0;36mFirestoreClient.run_query\u001b[0;34m(self, request, retry, timeout, metadata)\u001b[0m\n\u001b[1;32m   1304\u001b[0m metadata \u001b[38;5;241m=\u001b[39m \u001b[38;5;28mtuple\u001b[39m(metadata) \u001b[38;5;241m+\u001b[39m (\n\u001b[1;32m   1305\u001b[0m     gapic_v1\u001b[38;5;241m.\u001b[39mrouting_header\u001b[38;5;241m.\u001b[39mto_grpc_metadata(((\u001b[38;5;124m\"\u001b[39m\u001b[38;5;124mparent\u001b[39m\u001b[38;5;124m\"\u001b[39m, request\u001b[38;5;241m.\u001b[39mparent),)),\n\u001b[1;32m   1306\u001b[0m )\n\u001b[1;32m   1308\u001b[0m \u001b[38;5;66;03m# Send the request.\u001b[39;00m\n\u001b[0;32m-> 1309\u001b[0m response \u001b[38;5;241m=\u001b[39m \u001b[43mrpc\u001b[49m\u001b[43m(\u001b[49m\n\u001b[1;32m   1310\u001b[0m \u001b[43m    \u001b[49m\u001b[43mrequest\u001b[49m\u001b[43m,\u001b[49m\n\u001b[1;32m   1311\u001b[0m \u001b[43m    \u001b[49m\u001b[43mretry\u001b[49m\u001b[38;5;241;43m=\u001b[39;49m\u001b[43mretry\u001b[49m\u001b[43m,\u001b[49m\n\u001b[1;32m   1312\u001b[0m \u001b[43m    \u001b[49m\u001b[43mtimeout\u001b[49m\u001b[38;5;241;43m=\u001b[39;49m\u001b[43mtimeout\u001b[49m\u001b[43m,\u001b[49m\n\u001b[1;32m   1313\u001b[0m \u001b[43m    \u001b[49m\u001b[43mmetadata\u001b[49m\u001b[38;5;241;43m=\u001b[39;49m\u001b[43mmetadata\u001b[49m\u001b[43m,\u001b[49m\n\u001b[1;32m   1314\u001b[0m \u001b[43m\u001b[49m\u001b[43m)\u001b[49m\n\u001b[1;32m   1316\u001b[0m \u001b[38;5;66;03m# Done; return the response.\u001b[39;00m\n\u001b[1;32m   1317\u001b[0m \u001b[38;5;28;01mreturn\u001b[39;00m response\n",
      "File \u001b[0;32m/opt/conda/lib/python3.10/site-packages/google/api_core/gapic_v1/method.py:113\u001b[0m, in \u001b[0;36m_GapicCallable.__call__\u001b[0;34m(self, timeout, retry, *args, **kwargs)\u001b[0m\n\u001b[1;32m    110\u001b[0m     metadata\u001b[38;5;241m.\u001b[39mextend(\u001b[38;5;28mself\u001b[39m\u001b[38;5;241m.\u001b[39m_metadata)\n\u001b[1;32m    111\u001b[0m     kwargs[\u001b[38;5;124m\"\u001b[39m\u001b[38;5;124mmetadata\u001b[39m\u001b[38;5;124m\"\u001b[39m] \u001b[38;5;241m=\u001b[39m metadata\n\u001b[0;32m--> 113\u001b[0m \u001b[38;5;28;01mreturn\u001b[39;00m \u001b[43mwrapped_func\u001b[49m\u001b[43m(\u001b[49m\u001b[38;5;241;43m*\u001b[39;49m\u001b[43margs\u001b[49m\u001b[43m,\u001b[49m\u001b[43m \u001b[49m\u001b[38;5;241;43m*\u001b[39;49m\u001b[38;5;241;43m*\u001b[39;49m\u001b[43mkwargs\u001b[49m\u001b[43m)\u001b[49m\n",
      "File \u001b[0;32m/opt/conda/lib/python3.10/site-packages/google/api_core/retry.py:349\u001b[0m, in \u001b[0;36mRetry.__call__.<locals>.retry_wrapped_func\u001b[0;34m(*args, **kwargs)\u001b[0m\n\u001b[1;32m    345\u001b[0m target \u001b[38;5;241m=\u001b[39m functools\u001b[38;5;241m.\u001b[39mpartial(func, \u001b[38;5;241m*\u001b[39margs, \u001b[38;5;241m*\u001b[39m\u001b[38;5;241m*\u001b[39mkwargs)\n\u001b[1;32m    346\u001b[0m sleep_generator \u001b[38;5;241m=\u001b[39m exponential_sleep_generator(\n\u001b[1;32m    347\u001b[0m     \u001b[38;5;28mself\u001b[39m\u001b[38;5;241m.\u001b[39m_initial, \u001b[38;5;28mself\u001b[39m\u001b[38;5;241m.\u001b[39m_maximum, multiplier\u001b[38;5;241m=\u001b[39m\u001b[38;5;28mself\u001b[39m\u001b[38;5;241m.\u001b[39m_multiplier\n\u001b[1;32m    348\u001b[0m )\n\u001b[0;32m--> 349\u001b[0m \u001b[38;5;28;01mreturn\u001b[39;00m \u001b[43mretry_target\u001b[49m\u001b[43m(\u001b[49m\n\u001b[1;32m    350\u001b[0m \u001b[43m    \u001b[49m\u001b[43mtarget\u001b[49m\u001b[43m,\u001b[49m\n\u001b[1;32m    351\u001b[0m \u001b[43m    \u001b[49m\u001b[38;5;28;43mself\u001b[39;49m\u001b[38;5;241;43m.\u001b[39;49m\u001b[43m_predicate\u001b[49m\u001b[43m,\u001b[49m\n\u001b[1;32m    352\u001b[0m \u001b[43m    \u001b[49m\u001b[43msleep_generator\u001b[49m\u001b[43m,\u001b[49m\n\u001b[1;32m    353\u001b[0m \u001b[43m    \u001b[49m\u001b[38;5;28;43mself\u001b[39;49m\u001b[38;5;241;43m.\u001b[39;49m\u001b[43m_timeout\u001b[49m\u001b[43m,\u001b[49m\n\u001b[1;32m    354\u001b[0m \u001b[43m    \u001b[49m\u001b[43mon_error\u001b[49m\u001b[38;5;241;43m=\u001b[39;49m\u001b[43mon_error\u001b[49m\u001b[43m,\u001b[49m\n\u001b[1;32m    355\u001b[0m \u001b[43m\u001b[49m\u001b[43m)\u001b[49m\n",
      "File \u001b[0;32m/opt/conda/lib/python3.10/site-packages/google/api_core/retry.py:191\u001b[0m, in \u001b[0;36mretry_target\u001b[0;34m(target, predicate, sleep_generator, timeout, on_error, **kwargs)\u001b[0m\n\u001b[1;32m    189\u001b[0m \u001b[38;5;28;01mfor\u001b[39;00m sleep \u001b[38;5;129;01min\u001b[39;00m sleep_generator:\n\u001b[1;32m    190\u001b[0m     \u001b[38;5;28;01mtry\u001b[39;00m:\n\u001b[0;32m--> 191\u001b[0m         \u001b[38;5;28;01mreturn\u001b[39;00m \u001b[43mtarget\u001b[49m\u001b[43m(\u001b[49m\u001b[43m)\u001b[49m\n\u001b[1;32m    193\u001b[0m     \u001b[38;5;66;03m# pylint: disable=broad-except\u001b[39;00m\n\u001b[1;32m    194\u001b[0m     \u001b[38;5;66;03m# This function explicitly must deal with broad exceptions.\u001b[39;00m\n\u001b[1;32m    195\u001b[0m     \u001b[38;5;28;01mexcept\u001b[39;00m \u001b[38;5;167;01mException\u001b[39;00m \u001b[38;5;28;01mas\u001b[39;00m exc:\n",
      "File \u001b[0;32m/opt/conda/lib/python3.10/site-packages/google/api_core/timeout.py:120\u001b[0m, in \u001b[0;36mTimeToDeadlineTimeout.__call__.<locals>.func_with_timeout\u001b[0;34m(*args, **kwargs)\u001b[0m\n\u001b[1;32m    117\u001b[0m     \u001b[38;5;66;03m# Avoid setting negative timeout\u001b[39;00m\n\u001b[1;32m    118\u001b[0m     kwargs[\u001b[38;5;124m\"\u001b[39m\u001b[38;5;124mtimeout\u001b[39m\u001b[38;5;124m\"\u001b[39m] \u001b[38;5;241m=\u001b[39m \u001b[38;5;28mmax\u001b[39m(\u001b[38;5;241m0\u001b[39m, \u001b[38;5;28mself\u001b[39m\u001b[38;5;241m.\u001b[39m_timeout \u001b[38;5;241m-\u001b[39m time_since_first_attempt)\n\u001b[0;32m--> 120\u001b[0m \u001b[38;5;28;01mreturn\u001b[39;00m \u001b[43mfunc\u001b[49m\u001b[43m(\u001b[49m\u001b[38;5;241;43m*\u001b[39;49m\u001b[43margs\u001b[49m\u001b[43m,\u001b[49m\u001b[43m \u001b[49m\u001b[38;5;241;43m*\u001b[39;49m\u001b[38;5;241;43m*\u001b[39;49m\u001b[43mkwargs\u001b[49m\u001b[43m)\u001b[49m\n",
      "File \u001b[0;32m/opt/conda/lib/python3.10/site-packages/google/api_core/grpc_helpers.py:159\u001b[0m, in \u001b[0;36m_wrap_stream_errors.<locals>.error_remapped_callable\u001b[0;34m(*args, **kwargs)\u001b[0m\n\u001b[1;32m    155\u001b[0m     \u001b[38;5;28;01mreturn\u001b[39;00m _StreamingResponseIterator(\n\u001b[1;32m    156\u001b[0m         result, prefetch_first_result\u001b[38;5;241m=\u001b[39mprefetch_first\n\u001b[1;32m    157\u001b[0m     )\n\u001b[1;32m    158\u001b[0m \u001b[38;5;28;01mexcept\u001b[39;00m grpc\u001b[38;5;241m.\u001b[39mRpcError \u001b[38;5;28;01mas\u001b[39;00m exc:\n\u001b[0;32m--> 159\u001b[0m     \u001b[38;5;28;01mraise\u001b[39;00m exceptions\u001b[38;5;241m.\u001b[39mfrom_grpc_error(exc) \u001b[38;5;28;01mfrom\u001b[39;00m \u001b[38;5;21;01mexc\u001b[39;00m\n",
      "\u001b[0;31mFailedPrecondition\u001b[0m: 400 The query requires an index. You can create it here: https://console.firebase.google.com/v1/r/project/unified-canyon-397523/firestore/indexes?create_composite=ClJwcm9qZWN0cy91bmlmaWVkLWNhbnlvbi0zOTc1MjMvZGF0YWJhc2VzLyhkZWZhdWx0KS9jb2xsZWN0aW9uR3JvdXBzL2FwcHMvaW5kZXhlcy9fEAEaFAoQY2F0ZWdvcmllcy50aXRsZRABGgoKBnJhdGluZxACGgwKCF9fbmFtZV9fEAI"
     ]
    }
   ],
   "source": [
    "from google.cloud import firestore\n",
    "\n",
    "# Initialize Firestore client\n",
    "db = firestore.Client()\n",
    "\n",
    "# Define the query parameters\n",
    "category_title = \"Productivity\"\n",
    "limit = 10\n",
    "\n",
    "# Create a query to filter apps by category\n",
    "query = db.collection(\"apps\").where(\"categories.title\", \"==\", \"Productivity\")\n",
    "\n",
    "# Order the results by rating in descending order\n",
    "query = query.order_by(\"rating\", direction=firestore.Query.DESCENDING)\n",
    "\n",
    "# Limit the query results to the first 10 records\n",
    "query = query.limit(limit)\n",
    "\n",
    "# Execute the query\n",
    "results = query.stream()\n",
    "\n",
    "# Iterate through the query results and print the desired fields\n",
    "for app in results:\n",
    "    app_data = app.to_dict()\n",
    "    print(\"App ID:\", app_data[\"id\"])\n",
    "    print(\"Title:\", app_data[\"title\"])\n",
    "    print(\"Developer:\", app_data[\"developer\"])\n",
    "    print(\"Rating:\", app_data[\"rating\"])\n",
    "    print(\"Reviews Count:\", app_data[\"reviews_count\"])\n",
    "    print(\"\\n\")\n"
   ]
  },
  {
   "cell_type": "code",
   "execution_count": 36,
   "id": "3f86b9fb-39ef-45f3-a064-5c06315c525d",
   "metadata": {},
   "outputs": [
    {
     "name": "stdout",
     "output_type": "stream",
     "text": [
      "App ID: c71b9941-fa61-4e97-acb6-b632a2a175b4\n",
      "Title: Feedo\n",
      "Developer: Regalix\n",
      "Rating: 4.2\n",
      "Reviews Count: 36\n",
      "\n",
      "\n"
     ]
    }
   ],
   "source": [
    "from google.cloud import firestore\n",
    "\n",
    "# Initialize Firestore client\n",
    "db = firestore.Client()\n",
    "\n",
    "# Define the query parameters\n",
    "limit = 10\n",
    "\n",
    "# Create a query to retrieve the top 10 apps with the highest number of reviews\n",
    "query = db.collection(\"apps\")\n",
    "\n",
    "# Order the results by reviews_count in descending order\n",
    "query = query.order_by(\"reviews_count\", direction=firestore.Query.DESCENDING)\n",
    "\n",
    "# Limit the query results to the first 10 records\n",
    "query = query.limit(limit)\n",
    "\n",
    "# Execute the query\n",
    "results = query.stream()\n",
    "\n",
    "# Iterate through the query results and print the desired fields\n",
    "for app in results:\n",
    "    app_data = app.to_dict()\n",
    "    print(\"App ID:\", app_data[\"id\"])\n",
    "    print(\"Title:\", app_data[\"title\"])\n",
    "    print(\"Developer:\", app_data[\"developer\"])\n",
    "    print(\"Rating:\", app_data[\"rating\"])\n",
    "    print(\"Reviews Count:\", app_data[\"reviews_count\"])\n",
    "    print(\"\\n\")"
   ]
  },
  {
   "cell_type": "code",
   "execution_count": null,
   "id": "1abc49e8-e55f-420e-8ff9-73724c475f18",
   "metadata": {},
   "outputs": [],
   "source": []
  }
 ],
 "metadata": {
  "environment": {
   "kernel": "python3",
   "name": "common-cpu.m111",
   "type": "gcloud",
   "uri": "gcr.io/deeplearning-platform-release/base-cpu:m111"
  },
  "kernelspec": {
   "display_name": "Python 3",
   "language": "python",
   "name": "python3"
  },
  "language_info": {
   "codemirror_mode": {
    "name": "ipython",
    "version": 3
   },
   "file_extension": ".py",
   "mimetype": "text/x-python",
   "name": "python",
   "nbconvert_exporter": "python",
   "pygments_lexer": "ipython3",
   "version": "3.10.12"
  }
 },
 "nbformat": 4,
 "nbformat_minor": 5
}
